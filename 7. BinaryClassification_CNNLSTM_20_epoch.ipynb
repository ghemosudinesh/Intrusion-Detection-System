{
 "cells": [
  {
   "cell_type": "code",
   "execution_count": 1,
   "metadata": {
    "id": "jQ_w2YSqksbM"
   },
   "outputs": [
    {
     "name": "stderr",
     "output_type": "stream",
     "text": [
      "2023-07-24 06:27:58.501330: I tensorflow/core/platform/cpu_feature_guard.cc:182] This TensorFlow binary is optimized to use available CPU instructions in performance-critical operations.\n",
      "To enable the following instructions: AVX2 AVX512F FMA, in other operations, rebuild TensorFlow with the appropriate compiler flags.\n",
      "2023-07-24 06:27:59.409488: W tensorflow/compiler/tf2tensorrt/utils/py_utils.cc:38] TF-TRT Warning: Could not find TensorRT\n"
     ]
    }
   ],
   "source": [
    "from __future__ import absolute_import\n",
    "from __future__ import division\n",
    "from __future__ import print_function\n",
    "\n",
    "import numpy as np\n",
    "import pandas as pd\n",
    "import os, time, math, tqdm, itertools\n",
    "import matplotlib.pyplot as plt\n",
    "\n",
    "import seaborn as sns\n",
    "\n",
    "\n",
    "from sklearn.preprocessing import MinMaxScaler, StandardScaler, RobustScaler\n",
    "from sklearn.preprocessing import LabelEncoder,OneHotEncoder\n",
    "from sklearn.model_selection import train_test_split, KFold, StratifiedKFold\n",
    "from sklearn.feature_selection import RFECV, SequentialFeatureSelector\n",
    "\n",
    "from sklearn.model_selection import cross_val_score\n",
    "from sklearn.model_selection import cross_val_predict\n",
    "from sklearn.metrics import accuracy_score, precision_score, recall_score, f1_score\n",
    "from sklearn.metrics import classification_report\n",
    "from sklearn.metrics import confusion_matrix,confusion_matrix\n",
    "from sklearn.metrics import roc_auc_score\n",
    "from sklearn.model_selection import KFold\n",
    "from sklearn import metrics\n",
    "\n",
    "\n",
    "import numpy as np\n",
    "from keras.layers import Dense, Dropout, Input\n",
    "from keras.layers import Conv2D, MaxPooling2D, Flatten\n",
    "from keras.layers import Conv2D, Conv1D, MaxPooling2D, MaxPooling1D, Flatten, BatchNormalization, Dense\n",
    "from keras.models import Model\n",
    "from keras.models import Sequential\n",
    "from keras.utils import to_categorical\n",
    "from keras.callbacks import CSVLogger, ModelCheckpoint\n",
    "from keras.layers import SpatialDropout1D\n",
    "from keras.wrappers.scikit_learn import KerasClassifier\n",
    "from keras.layers import LSTM, GRU, SimpleRNN\n",
    "\n",
    "import warnings\n",
    "warnings.filterwarnings(\"ignore\")\n",
    "\n",
    "%matplotlib inline"
   ]
  },
  {
   "cell_type": "code",
   "execution_count": 2,
   "metadata": {},
   "outputs": [
    {
     "name": "stdout",
     "output_type": "stream",
     "text": [
      "Tensorflow Verstion 2.12.1\n",
      "Num GPUs Available:  1\n"
     ]
    }
   ],
   "source": [
    "import tensorflow as tf\n",
    "print(\"Tensorflow Verstion\", tf.__version__)\n",
    "print(\"Num GPUs Available: \", len(tf.config.list_physical_devices('GPU')))"
   ]
  },
  {
   "cell_type": "code",
   "execution_count": 3,
   "metadata": {},
   "outputs": [
    {
     "name": "stdout",
     "output_type": "stream",
     "text": [
      "[name: \"/device:CPU:0\"\n",
      "device_type: \"CPU\"\n",
      "memory_limit: 268435456\n",
      "locality {\n",
      "}\n",
      "incarnation: 9546631534080723172\n",
      "xla_global_id: -1\n",
      ", name: \"/device:GPU:0\"\n",
      "device_type: \"GPU\"\n",
      "memory_limit: 10750328832\n",
      "locality {\n",
      "  bus_id: 1\n",
      "  links {\n",
      "  }\n",
      "}\n",
      "incarnation: 8014579658431932109\n",
      "physical_device_desc: \"device: 0, name: NVIDIA GeForce RTX 3080 Ti, pci bus id: 0000:00:10.0, compute capability: 8.6\"\n",
      "xla_global_id: 416903419\n",
      "]\n"
     ]
    },
    {
     "name": "stderr",
     "output_type": "stream",
     "text": [
      "2023-07-24 06:28:00.361049: I tensorflow/core/common_runtime/gpu/gpu_device.cc:1635] Created device /device:GPU:0 with 10252 MB memory:  -> device: 0, name: NVIDIA GeForce RTX 3080 Ti, pci bus id: 0000:00:10.0, compute capability: 8.6\n"
     ]
    }
   ],
   "source": [
    "from tensorflow.python.client import device_lib\n",
    "print(device_lib.list_local_devices())"
   ]
  },
  {
   "cell_type": "code",
   "execution_count": 4,
   "metadata": {
    "colab": {
     "base_uri": "https://localhost:8080/"
    },
    "id": "sZ4tw687lYib",
    "outputId": "29178a74-fd08-4269-8c3d-b8426be9dfbf"
   },
   "outputs": [],
   "source": [
    "# from google.colab import files\n",
    "# from google.colab import drive\n",
    "# drive.mount('/content/drive')"
   ]
  },
  {
   "cell_type": "code",
   "execution_count": 5,
   "metadata": {
    "id": "z9GtOmnSlcES"
   },
   "outputs": [],
   "source": [
    "# Reading clean cicids2017 csv file\n",
    "df = pd.read_csv('data/FeatureSelection_binaryClass.csv')"
   ]
  },
  {
   "cell_type": "code",
   "execution_count": 6,
   "metadata": {
    "colab": {
     "base_uri": "https://localhost:8080/",
     "height": 474
    },
    "id": "Jp5YgxUllsdF",
    "outputId": "ca7a6bc8-b172-4d7e-8cf0-c8fe25214b77"
   },
   "outputs": [
    {
     "data": {
      "text/html": [
       "<div>\n",
       "<style scoped>\n",
       "    .dataframe tbody tr th:only-of-type {\n",
       "        vertical-align: middle;\n",
       "    }\n",
       "\n",
       "    .dataframe tbody tr th {\n",
       "        vertical-align: top;\n",
       "    }\n",
       "\n",
       "    .dataframe thead th {\n",
       "        text-align: right;\n",
       "    }\n",
       "</style>\n",
       "<table border=\"1\" class=\"dataframe\">\n",
       "  <thead>\n",
       "    <tr style=\"text-align: right;\">\n",
       "      <th></th>\n",
       "      <th>Unnamed: 0</th>\n",
       "      <th>DestinationPort</th>\n",
       "      <th>FwdPacketLengthMin</th>\n",
       "      <th>FwdPacketLengthStd</th>\n",
       "      <th>BwdPacketLengthMin</th>\n",
       "      <th>FlowBytes/s</th>\n",
       "      <th>FlowIATMin</th>\n",
       "      <th>FwdIATTotal</th>\n",
       "      <th>FwdIATMean</th>\n",
       "      <th>FwdIATMin</th>\n",
       "      <th>...</th>\n",
       "      <th>Init_Win_bytes_forward</th>\n",
       "      <th>Init_Win_bytes_backward</th>\n",
       "      <th>act_data_pkt_fwd</th>\n",
       "      <th>min_seg_size_forward</th>\n",
       "      <th>ActiveStd</th>\n",
       "      <th>ActiveMax</th>\n",
       "      <th>ActiveMin</th>\n",
       "      <th>IdleStd</th>\n",
       "      <th>IdleMin</th>\n",
       "      <th>Label</th>\n",
       "    </tr>\n",
       "  </thead>\n",
       "  <tbody>\n",
       "    <tr>\n",
       "      <th>0</th>\n",
       "      <td>0</td>\n",
       "      <td>49188.0</td>\n",
       "      <td>6.0</td>\n",
       "      <td>0.000000</td>\n",
       "      <td>0.0</td>\n",
       "      <td>3.000000e+06</td>\n",
       "      <td>4.0</td>\n",
       "      <td>4.0</td>\n",
       "      <td>4.000000</td>\n",
       "      <td>4.0</td>\n",
       "      <td>...</td>\n",
       "      <td>329.0</td>\n",
       "      <td>-1.0</td>\n",
       "      <td>1.0</td>\n",
       "      <td>20.0</td>\n",
       "      <td>0.0</td>\n",
       "      <td>0.0</td>\n",
       "      <td>0.0</td>\n",
       "      <td>0.0</td>\n",
       "      <td>0.0</td>\n",
       "      <td>0</td>\n",
       "    </tr>\n",
       "    <tr>\n",
       "      <th>1</th>\n",
       "      <td>1</td>\n",
       "      <td>49486.0</td>\n",
       "      <td>6.0</td>\n",
       "      <td>0.000000</td>\n",
       "      <td>0.0</td>\n",
       "      <td>4.000000e+06</td>\n",
       "      <td>3.0</td>\n",
       "      <td>3.0</td>\n",
       "      <td>3.000000</td>\n",
       "      <td>3.0</td>\n",
       "      <td>...</td>\n",
       "      <td>245.0</td>\n",
       "      <td>-1.0</td>\n",
       "      <td>1.0</td>\n",
       "      <td>20.0</td>\n",
       "      <td>0.0</td>\n",
       "      <td>0.0</td>\n",
       "      <td>0.0</td>\n",
       "      <td>0.0</td>\n",
       "      <td>0.0</td>\n",
       "      <td>0</td>\n",
       "    </tr>\n",
       "    <tr>\n",
       "      <th>2</th>\n",
       "      <td>2</td>\n",
       "      <td>88.0</td>\n",
       "      <td>0.0</td>\n",
       "      <td>111.967895</td>\n",
       "      <td>0.0</td>\n",
       "      <td>1.474548e+06</td>\n",
       "      <td>2.0</td>\n",
       "      <td>609.0</td>\n",
       "      <td>101.500000</td>\n",
       "      <td>2.0</td>\n",
       "      <td>...</td>\n",
       "      <td>8192.0</td>\n",
       "      <td>2053.0</td>\n",
       "      <td>5.0</td>\n",
       "      <td>20.0</td>\n",
       "      <td>0.0</td>\n",
       "      <td>0.0</td>\n",
       "      <td>0.0</td>\n",
       "      <td>0.0</td>\n",
       "      <td>0.0</td>\n",
       "      <td>0</td>\n",
       "    </tr>\n",
       "    <tr>\n",
       "      <th>3</th>\n",
       "      <td>3</td>\n",
       "      <td>88.0</td>\n",
       "      <td>0.0</td>\n",
       "      <td>136.153814</td>\n",
       "      <td>0.0</td>\n",
       "      <td>4.232082e+06</td>\n",
       "      <td>1.0</td>\n",
       "      <td>879.0</td>\n",
       "      <td>109.875000</td>\n",
       "      <td>1.0</td>\n",
       "      <td>...</td>\n",
       "      <td>8192.0</td>\n",
       "      <td>2053.0</td>\n",
       "      <td>7.0</td>\n",
       "      <td>20.0</td>\n",
       "      <td>0.0</td>\n",
       "      <td>0.0</td>\n",
       "      <td>0.0</td>\n",
       "      <td>0.0</td>\n",
       "      <td>0.0</td>\n",
       "      <td>0</td>\n",
       "    </tr>\n",
       "    <tr>\n",
       "      <th>4</th>\n",
       "      <td>4</td>\n",
       "      <td>88.0</td>\n",
       "      <td>0.0</td>\n",
       "      <td>682.482560</td>\n",
       "      <td>0.0</td>\n",
       "      <td>5.329310e+06</td>\n",
       "      <td>1.0</td>\n",
       "      <td>1160.0</td>\n",
       "      <td>145.000000</td>\n",
       "      <td>1.0</td>\n",
       "      <td>...</td>\n",
       "      <td>8192.0</td>\n",
       "      <td>2053.0</td>\n",
       "      <td>7.0</td>\n",
       "      <td>20.0</td>\n",
       "      <td>0.0</td>\n",
       "      <td>0.0</td>\n",
       "      <td>0.0</td>\n",
       "      <td>0.0</td>\n",
       "      <td>0.0</td>\n",
       "      <td>0</td>\n",
       "    </tr>\n",
       "    <tr>\n",
       "      <th>5</th>\n",
       "      <td>5</td>\n",
       "      <td>88.0</td>\n",
       "      <td>0.0</td>\n",
       "      <td>679.914876</td>\n",
       "      <td>0.0</td>\n",
       "      <td>1.074809e+07</td>\n",
       "      <td>1.0</td>\n",
       "      <td>524.0</td>\n",
       "      <td>87.333333</td>\n",
       "      <td>1.0</td>\n",
       "      <td>...</td>\n",
       "      <td>8192.0</td>\n",
       "      <td>2053.0</td>\n",
       "      <td>5.0</td>\n",
       "      <td>20.0</td>\n",
       "      <td>0.0</td>\n",
       "      <td>0.0</td>\n",
       "      <td>0.0</td>\n",
       "      <td>0.0</td>\n",
       "      <td>0.0</td>\n",
       "      <td>0</td>\n",
       "    </tr>\n",
       "    <tr>\n",
       "      <th>6</th>\n",
       "      <td>6</td>\n",
       "      <td>1034.0</td>\n",
       "      <td>6.0</td>\n",
       "      <td>0.000000</td>\n",
       "      <td>6.0</td>\n",
       "      <td>2.000000e+06</td>\n",
       "      <td>6.0</td>\n",
       "      <td>0.0</td>\n",
       "      <td>0.000000</td>\n",
       "      <td>0.0</td>\n",
       "      <td>...</td>\n",
       "      <td>2053.0</td>\n",
       "      <td>251.0</td>\n",
       "      <td>0.0</td>\n",
       "      <td>20.0</td>\n",
       "      <td>0.0</td>\n",
       "      <td>0.0</td>\n",
       "      <td>0.0</td>\n",
       "      <td>0.0</td>\n",
       "      <td>0.0</td>\n",
       "      <td>0</td>\n",
       "    </tr>\n",
       "    <tr>\n",
       "      <th>7</th>\n",
       "      <td>7</td>\n",
       "      <td>88.0</td>\n",
       "      <td>0.0</td>\n",
       "      <td>688.214982</td>\n",
       "      <td>0.0</td>\n",
       "      <td>5.558534e+06</td>\n",
       "      <td>1.0</td>\n",
       "      <td>1119.0</td>\n",
       "      <td>139.875000</td>\n",
       "      <td>1.0</td>\n",
       "      <td>...</td>\n",
       "      <td>8192.0</td>\n",
       "      <td>2053.0</td>\n",
       "      <td>7.0</td>\n",
       "      <td>20.0</td>\n",
       "      <td>0.0</td>\n",
       "      <td>0.0</td>\n",
       "      <td>0.0</td>\n",
       "      <td>0.0</td>\n",
       "      <td>0.0</td>\n",
       "      <td>0</td>\n",
       "    </tr>\n",
       "    <tr>\n",
       "      <th>8</th>\n",
       "      <td>8</td>\n",
       "      <td>389.0</td>\n",
       "      <td>0.0</td>\n",
       "      <td>612.974034</td>\n",
       "      <td>0.0</td>\n",
       "      <td>5.378170e+05</td>\n",
       "      <td>1.0</td>\n",
       "      <td>18378.0</td>\n",
       "      <td>1531.500000</td>\n",
       "      <td>3.0</td>\n",
       "      <td>...</td>\n",
       "      <td>8192.0</td>\n",
       "      <td>0.0</td>\n",
       "      <td>11.0</td>\n",
       "      <td>20.0</td>\n",
       "      <td>0.0</td>\n",
       "      <td>0.0</td>\n",
       "      <td>0.0</td>\n",
       "      <td>0.0</td>\n",
       "      <td>0.0</td>\n",
       "      <td>0</td>\n",
       "    </tr>\n",
       "    <tr>\n",
       "      <th>9</th>\n",
       "      <td>9</td>\n",
       "      <td>88.0</td>\n",
       "      <td>0.0</td>\n",
       "      <td>105.626476</td>\n",
       "      <td>0.0</td>\n",
       "      <td>9.902676e+05</td>\n",
       "      <td>1.0</td>\n",
       "      <td>822.0</td>\n",
       "      <td>137.000000</td>\n",
       "      <td>1.0</td>\n",
       "      <td>...</td>\n",
       "      <td>8192.0</td>\n",
       "      <td>2053.0</td>\n",
       "      <td>5.0</td>\n",
       "      <td>20.0</td>\n",
       "      <td>0.0</td>\n",
       "      <td>0.0</td>\n",
       "      <td>0.0</td>\n",
       "      <td>0.0</td>\n",
       "      <td>0.0</td>\n",
       "      <td>0</td>\n",
       "    </tr>\n",
       "  </tbody>\n",
       "</table>\n",
       "<p>10 rows × 42 columns</p>\n",
       "</div>"
      ],
      "text/plain": [
       "   Unnamed: 0  DestinationPort  FwdPacketLengthMin  FwdPacketLengthStd  \\\n",
       "0           0          49188.0                 6.0            0.000000   \n",
       "1           1          49486.0                 6.0            0.000000   \n",
       "2           2             88.0                 0.0          111.967895   \n",
       "3           3             88.0                 0.0          136.153814   \n",
       "4           4             88.0                 0.0          682.482560   \n",
       "5           5             88.0                 0.0          679.914876   \n",
       "6           6           1034.0                 6.0            0.000000   \n",
       "7           7             88.0                 0.0          688.214982   \n",
       "8           8            389.0                 0.0          612.974034   \n",
       "9           9             88.0                 0.0          105.626476   \n",
       "\n",
       "   BwdPacketLengthMin   FlowBytes/s  FlowIATMin  FwdIATTotal   FwdIATMean  \\\n",
       "0                 0.0  3.000000e+06         4.0          4.0     4.000000   \n",
       "1                 0.0  4.000000e+06         3.0          3.0     3.000000   \n",
       "2                 0.0  1.474548e+06         2.0        609.0   101.500000   \n",
       "3                 0.0  4.232082e+06         1.0        879.0   109.875000   \n",
       "4                 0.0  5.329310e+06         1.0       1160.0   145.000000   \n",
       "5                 0.0  1.074809e+07         1.0        524.0    87.333333   \n",
       "6                 6.0  2.000000e+06         6.0          0.0     0.000000   \n",
       "7                 0.0  5.558534e+06         1.0       1119.0   139.875000   \n",
       "8                 0.0  5.378170e+05         1.0      18378.0  1531.500000   \n",
       "9                 0.0  9.902676e+05         1.0        822.0   137.000000   \n",
       "\n",
       "   FwdIATMin  ...  Init_Win_bytes_forward  Init_Win_bytes_backward  \\\n",
       "0        4.0  ...                   329.0                     -1.0   \n",
       "1        3.0  ...                   245.0                     -1.0   \n",
       "2        2.0  ...                  8192.0                   2053.0   \n",
       "3        1.0  ...                  8192.0                   2053.0   \n",
       "4        1.0  ...                  8192.0                   2053.0   \n",
       "5        1.0  ...                  8192.0                   2053.0   \n",
       "6        0.0  ...                  2053.0                    251.0   \n",
       "7        1.0  ...                  8192.0                   2053.0   \n",
       "8        3.0  ...                  8192.0                      0.0   \n",
       "9        1.0  ...                  8192.0                   2053.0   \n",
       "\n",
       "   act_data_pkt_fwd  min_seg_size_forward  ActiveStd  ActiveMax  ActiveMin  \\\n",
       "0               1.0                  20.0        0.0        0.0        0.0   \n",
       "1               1.0                  20.0        0.0        0.0        0.0   \n",
       "2               5.0                  20.0        0.0        0.0        0.0   \n",
       "3               7.0                  20.0        0.0        0.0        0.0   \n",
       "4               7.0                  20.0        0.0        0.0        0.0   \n",
       "5               5.0                  20.0        0.0        0.0        0.0   \n",
       "6               0.0                  20.0        0.0        0.0        0.0   \n",
       "7               7.0                  20.0        0.0        0.0        0.0   \n",
       "8              11.0                  20.0        0.0        0.0        0.0   \n",
       "9               5.0                  20.0        0.0        0.0        0.0   \n",
       "\n",
       "   IdleStd  IdleMin  Label  \n",
       "0      0.0      0.0      0  \n",
       "1      0.0      0.0      0  \n",
       "2      0.0      0.0      0  \n",
       "3      0.0      0.0      0  \n",
       "4      0.0      0.0      0  \n",
       "5      0.0      0.0      0  \n",
       "6      0.0      0.0      0  \n",
       "7      0.0      0.0      0  \n",
       "8      0.0      0.0      0  \n",
       "9      0.0      0.0      0  \n",
       "\n",
       "[10 rows x 42 columns]"
      ]
     },
     "execution_count": 6,
     "metadata": {},
     "output_type": "execute_result"
    }
   ],
   "source": [
    "df.head(10)"
   ]
  },
  {
   "cell_type": "code",
   "execution_count": 7,
   "metadata": {
    "colab": {
     "base_uri": "https://localhost:8080/"
    },
    "id": "urtJdoSVlycL",
    "outputId": "19514e0d-4226-44e4-ddf2-d7fc75ad87e0"
   },
   "outputs": [
    {
     "name": "stdout",
     "output_type": "stream",
     "text": [
      "(2425727, 42)\n"
     ]
    }
   ],
   "source": [
    "print(df.shape)"
   ]
  },
  {
   "cell_type": "code",
   "execution_count": 8,
   "metadata": {
    "colab": {
     "base_uri": "https://localhost:8080/"
    },
    "id": "ZtCjj2v1l0xA",
    "outputId": "ed0e95ab-c7b8-4846-f5e2-c59475aeca8c"
   },
   "outputs": [
    {
     "name": "stdout",
     "output_type": "stream",
     "text": [
      "Index(['Unnamed: 0', 'DestinationPort', 'FwdPacketLengthMin',\n",
      "       'FwdPacketLengthStd', 'BwdPacketLengthMin', 'FlowBytes/s', 'FlowIATMin',\n",
      "       'FwdIATTotal', 'FwdIATMean', 'FwdIATMin', 'BwdIATTotal', 'BwdIATStd',\n",
      "       'BwdIATMax', 'BwdIATMin', 'BwdHeaderLength', 'FwdPackets/s',\n",
      "       'BwdPackets/s', 'MinPacketLength', 'PacketLengthVariance',\n",
      "       'FINFlagCount', 'SYNFlagCount', 'PSHFlagCount', 'ACKFlagCount',\n",
      "       'URGFlagCount', 'CWEFlagCount', 'ECEFlagCount', 'Down/UpRatio',\n",
      "       'AvgFwdSegmentSize', 'AvgBwdSegmentSize', 'FwdHeaderLength.1',\n",
      "       'SubflowFwdBytes', 'SubflowBwdBytes', 'Init_Win_bytes_forward',\n",
      "       'Init_Win_bytes_backward', 'act_data_pkt_fwd', 'min_seg_size_forward',\n",
      "       'ActiveStd', 'ActiveMax', 'ActiveMin', 'IdleStd', 'IdleMin', 'Label'],\n",
      "      dtype='object')\n"
     ]
    }
   ],
   "source": [
    "print(df.columns)"
   ]
  },
  {
   "cell_type": "code",
   "execution_count": 9,
   "metadata": {
    "colab": {
     "base_uri": "https://localhost:8080/",
     "height": 300
    },
    "id": "TtapNV_El2CS",
    "outputId": "62605f99-1c4a-45b4-d42c-f8049fcf227d"
   },
   "outputs": [
    {
     "data": {
      "text/html": [
       "<div>\n",
       "<style scoped>\n",
       "    .dataframe tbody tr th:only-of-type {\n",
       "        vertical-align: middle;\n",
       "    }\n",
       "\n",
       "    .dataframe tbody tr th {\n",
       "        vertical-align: top;\n",
       "    }\n",
       "\n",
       "    .dataframe thead th {\n",
       "        text-align: right;\n",
       "    }\n",
       "</style>\n",
       "<table border=\"1\" class=\"dataframe\">\n",
       "  <thead>\n",
       "    <tr style=\"text-align: right;\">\n",
       "      <th></th>\n",
       "      <th>DestinationPort</th>\n",
       "      <th>FwdPacketLengthMin</th>\n",
       "      <th>FwdPacketLengthStd</th>\n",
       "      <th>BwdPacketLengthMin</th>\n",
       "      <th>FlowBytes/s</th>\n",
       "      <th>FlowIATMin</th>\n",
       "      <th>FwdIATTotal</th>\n",
       "      <th>FwdIATMean</th>\n",
       "      <th>FwdIATMin</th>\n",
       "      <th>BwdIATTotal</th>\n",
       "      <th>...</th>\n",
       "      <th>Init_Win_bytes_forward</th>\n",
       "      <th>Init_Win_bytes_backward</th>\n",
       "      <th>act_data_pkt_fwd</th>\n",
       "      <th>min_seg_size_forward</th>\n",
       "      <th>ActiveStd</th>\n",
       "      <th>ActiveMax</th>\n",
       "      <th>ActiveMin</th>\n",
       "      <th>IdleStd</th>\n",
       "      <th>IdleMin</th>\n",
       "      <th>Label</th>\n",
       "    </tr>\n",
       "  </thead>\n",
       "  <tbody>\n",
       "    <tr>\n",
       "      <th>0</th>\n",
       "      <td>49188.0</td>\n",
       "      <td>6.0</td>\n",
       "      <td>0.000000</td>\n",
       "      <td>0.0</td>\n",
       "      <td>3.000000e+06</td>\n",
       "      <td>4.0</td>\n",
       "      <td>4.0</td>\n",
       "      <td>4.000</td>\n",
       "      <td>4.0</td>\n",
       "      <td>0.0</td>\n",
       "      <td>...</td>\n",
       "      <td>329.0</td>\n",
       "      <td>-1.0</td>\n",
       "      <td>1.0</td>\n",
       "      <td>20.0</td>\n",
       "      <td>0.0</td>\n",
       "      <td>0.0</td>\n",
       "      <td>0.0</td>\n",
       "      <td>0.0</td>\n",
       "      <td>0.0</td>\n",
       "      <td>0</td>\n",
       "    </tr>\n",
       "    <tr>\n",
       "      <th>1</th>\n",
       "      <td>49486.0</td>\n",
       "      <td>6.0</td>\n",
       "      <td>0.000000</td>\n",
       "      <td>0.0</td>\n",
       "      <td>4.000000e+06</td>\n",
       "      <td>3.0</td>\n",
       "      <td>3.0</td>\n",
       "      <td>3.000</td>\n",
       "      <td>3.0</td>\n",
       "      <td>0.0</td>\n",
       "      <td>...</td>\n",
       "      <td>245.0</td>\n",
       "      <td>-1.0</td>\n",
       "      <td>1.0</td>\n",
       "      <td>20.0</td>\n",
       "      <td>0.0</td>\n",
       "      <td>0.0</td>\n",
       "      <td>0.0</td>\n",
       "      <td>0.0</td>\n",
       "      <td>0.0</td>\n",
       "      <td>0</td>\n",
       "    </tr>\n",
       "    <tr>\n",
       "      <th>2</th>\n",
       "      <td>88.0</td>\n",
       "      <td>0.0</td>\n",
       "      <td>111.967895</td>\n",
       "      <td>0.0</td>\n",
       "      <td>1.474548e+06</td>\n",
       "      <td>2.0</td>\n",
       "      <td>609.0</td>\n",
       "      <td>101.500</td>\n",
       "      <td>2.0</td>\n",
       "      <td>467.0</td>\n",
       "      <td>...</td>\n",
       "      <td>8192.0</td>\n",
       "      <td>2053.0</td>\n",
       "      <td>5.0</td>\n",
       "      <td>20.0</td>\n",
       "      <td>0.0</td>\n",
       "      <td>0.0</td>\n",
       "      <td>0.0</td>\n",
       "      <td>0.0</td>\n",
       "      <td>0.0</td>\n",
       "      <td>0</td>\n",
       "    </tr>\n",
       "    <tr>\n",
       "      <th>3</th>\n",
       "      <td>88.0</td>\n",
       "      <td>0.0</td>\n",
       "      <td>136.153814</td>\n",
       "      <td>0.0</td>\n",
       "      <td>4.232082e+06</td>\n",
       "      <td>1.0</td>\n",
       "      <td>879.0</td>\n",
       "      <td>109.875</td>\n",
       "      <td>1.0</td>\n",
       "      <td>764.0</td>\n",
       "      <td>...</td>\n",
       "      <td>8192.0</td>\n",
       "      <td>2053.0</td>\n",
       "      <td>7.0</td>\n",
       "      <td>20.0</td>\n",
       "      <td>0.0</td>\n",
       "      <td>0.0</td>\n",
       "      <td>0.0</td>\n",
       "      <td>0.0</td>\n",
       "      <td>0.0</td>\n",
       "      <td>0</td>\n",
       "    </tr>\n",
       "    <tr>\n",
       "      <th>4</th>\n",
       "      <td>88.0</td>\n",
       "      <td>0.0</td>\n",
       "      <td>682.482560</td>\n",
       "      <td>0.0</td>\n",
       "      <td>5.329310e+06</td>\n",
       "      <td>1.0</td>\n",
       "      <td>1160.0</td>\n",
       "      <td>145.000</td>\n",
       "      <td>1.0</td>\n",
       "      <td>1022.0</td>\n",
       "      <td>...</td>\n",
       "      <td>8192.0</td>\n",
       "      <td>2053.0</td>\n",
       "      <td>7.0</td>\n",
       "      <td>20.0</td>\n",
       "      <td>0.0</td>\n",
       "      <td>0.0</td>\n",
       "      <td>0.0</td>\n",
       "      <td>0.0</td>\n",
       "      <td>0.0</td>\n",
       "      <td>0</td>\n",
       "    </tr>\n",
       "  </tbody>\n",
       "</table>\n",
       "<p>5 rows × 41 columns</p>\n",
       "</div>"
      ],
      "text/plain": [
       "   DestinationPort  FwdPacketLengthMin  FwdPacketLengthStd  \\\n",
       "0          49188.0                 6.0            0.000000   \n",
       "1          49486.0                 6.0            0.000000   \n",
       "2             88.0                 0.0          111.967895   \n",
       "3             88.0                 0.0          136.153814   \n",
       "4             88.0                 0.0          682.482560   \n",
       "\n",
       "   BwdPacketLengthMin   FlowBytes/s  FlowIATMin  FwdIATTotal  FwdIATMean  \\\n",
       "0                 0.0  3.000000e+06         4.0          4.0       4.000   \n",
       "1                 0.0  4.000000e+06         3.0          3.0       3.000   \n",
       "2                 0.0  1.474548e+06         2.0        609.0     101.500   \n",
       "3                 0.0  4.232082e+06         1.0        879.0     109.875   \n",
       "4                 0.0  5.329310e+06         1.0       1160.0     145.000   \n",
       "\n",
       "   FwdIATMin  BwdIATTotal  ...  Init_Win_bytes_forward  \\\n",
       "0        4.0          0.0  ...                   329.0   \n",
       "1        3.0          0.0  ...                   245.0   \n",
       "2        2.0        467.0  ...                  8192.0   \n",
       "3        1.0        764.0  ...                  8192.0   \n",
       "4        1.0       1022.0  ...                  8192.0   \n",
       "\n",
       "   Init_Win_bytes_backward  act_data_pkt_fwd  min_seg_size_forward  ActiveStd  \\\n",
       "0                     -1.0               1.0                  20.0        0.0   \n",
       "1                     -1.0               1.0                  20.0        0.0   \n",
       "2                   2053.0               5.0                  20.0        0.0   \n",
       "3                   2053.0               7.0                  20.0        0.0   \n",
       "4                   2053.0               7.0                  20.0        0.0   \n",
       "\n",
       "   ActiveMax  ActiveMin  IdleStd  IdleMin  Label  \n",
       "0        0.0        0.0      0.0      0.0      0  \n",
       "1        0.0        0.0      0.0      0.0      0  \n",
       "2        0.0        0.0      0.0      0.0      0  \n",
       "3        0.0        0.0      0.0      0.0      0  \n",
       "4        0.0        0.0      0.0      0.0      0  \n",
       "\n",
       "[5 rows x 41 columns]"
      ]
     },
     "execution_count": 9,
     "metadata": {},
     "output_type": "execute_result"
    }
   ],
   "source": [
    "# drop columns Unnamed  0\n",
    "df = df.drop(columns = 'Unnamed: 0')\n",
    "df.head()"
   ]
  },
  {
   "cell_type": "markdown",
   "metadata": {
    "id": "R2k01k_-ousn"
   },
   "source": [
    "# shuffle rows randomly"
   ]
  },
  {
   "cell_type": "code",
   "execution_count": 10,
   "metadata": {
    "colab": {
     "base_uri": "https://localhost:8080/",
     "height": 488
    },
    "id": "-zo5jNsWmaUx",
    "outputId": "624b6d54-4cc1-4a46-9377-9fe98cfab7a7"
   },
   "outputs": [
    {
     "data": {
      "text/html": [
       "<div>\n",
       "<style scoped>\n",
       "    .dataframe tbody tr th:only-of-type {\n",
       "        vertical-align: middle;\n",
       "    }\n",
       "\n",
       "    .dataframe tbody tr th {\n",
       "        vertical-align: top;\n",
       "    }\n",
       "\n",
       "    .dataframe thead th {\n",
       "        text-align: right;\n",
       "    }\n",
       "</style>\n",
       "<table border=\"1\" class=\"dataframe\">\n",
       "  <thead>\n",
       "    <tr style=\"text-align: right;\">\n",
       "      <th></th>\n",
       "      <th>DestinationPort</th>\n",
       "      <th>FwdPacketLengthMin</th>\n",
       "      <th>FwdPacketLengthStd</th>\n",
       "      <th>BwdPacketLengthMin</th>\n",
       "      <th>FlowBytes/s</th>\n",
       "      <th>FlowIATMin</th>\n",
       "      <th>FwdIATTotal</th>\n",
       "      <th>FwdIATMean</th>\n",
       "      <th>FwdIATMin</th>\n",
       "      <th>BwdIATTotal</th>\n",
       "      <th>...</th>\n",
       "      <th>Init_Win_bytes_forward</th>\n",
       "      <th>Init_Win_bytes_backward</th>\n",
       "      <th>act_data_pkt_fwd</th>\n",
       "      <th>min_seg_size_forward</th>\n",
       "      <th>ActiveStd</th>\n",
       "      <th>ActiveMax</th>\n",
       "      <th>ActiveMin</th>\n",
       "      <th>IdleStd</th>\n",
       "      <th>IdleMin</th>\n",
       "      <th>Label</th>\n",
       "    </tr>\n",
       "  </thead>\n",
       "  <tbody>\n",
       "    <tr>\n",
       "      <th>0</th>\n",
       "      <td>8082.0</td>\n",
       "      <td>2.0</td>\n",
       "      <td>0.000000</td>\n",
       "      <td>6.0</td>\n",
       "      <td>266666.666700</td>\n",
       "      <td>2.0</td>\n",
       "      <td>49.0</td>\n",
       "      <td>4.900000e+01</td>\n",
       "      <td>49.0</td>\n",
       "      <td>2.0</td>\n",
       "      <td>...</td>\n",
       "      <td>1024.0</td>\n",
       "      <td>0.0</td>\n",
       "      <td>1.0</td>\n",
       "      <td>24.0</td>\n",
       "      <td>0.000000</td>\n",
       "      <td>0.0</td>\n",
       "      <td>0.0</td>\n",
       "      <td>0.000000e+00</td>\n",
       "      <td>0.0</td>\n",
       "      <td>0</td>\n",
       "    </tr>\n",
       "    <tr>\n",
       "      <th>1</th>\n",
       "      <td>80.0</td>\n",
       "      <td>0.0</td>\n",
       "      <td>189.466815</td>\n",
       "      <td>0.0</td>\n",
       "      <td>59.917134</td>\n",
       "      <td>155.0</td>\n",
       "      <td>120000000.0</td>\n",
       "      <td>5.214309e+06</td>\n",
       "      <td>240.0</td>\n",
       "      <td>120000000.0</td>\n",
       "      <td>...</td>\n",
       "      <td>8192.0</td>\n",
       "      <td>385.0</td>\n",
       "      <td>23.0</td>\n",
       "      <td>20.0</td>\n",
       "      <td>893006.710700</td>\n",
       "      <td>3094311.0</td>\n",
       "      <td>36181.0</td>\n",
       "      <td>1.285317e+06</td>\n",
       "      <td>5553267.0</td>\n",
       "      <td>0</td>\n",
       "    </tr>\n",
       "    <tr>\n",
       "      <th>2</th>\n",
       "      <td>53.0</td>\n",
       "      <td>51.0</td>\n",
       "      <td>0.000000</td>\n",
       "      <td>105.0</td>\n",
       "      <td>401.396161</td>\n",
       "      <td>3.0</td>\n",
       "      <td>124231.0</td>\n",
       "      <td>4.141033e+04</td>\n",
       "      <td>3.0</td>\n",
       "      <td>4.0</td>\n",
       "      <td>...</td>\n",
       "      <td>-1.0</td>\n",
       "      <td>-1.0</td>\n",
       "      <td>3.0</td>\n",
       "      <td>20.0</td>\n",
       "      <td>0.000000</td>\n",
       "      <td>0.0</td>\n",
       "      <td>0.0</td>\n",
       "      <td>0.000000e+00</td>\n",
       "      <td>0.0</td>\n",
       "      <td>0</td>\n",
       "    </tr>\n",
       "    <tr>\n",
       "      <th>3</th>\n",
       "      <td>443.0</td>\n",
       "      <td>0.0</td>\n",
       "      <td>23.276598</td>\n",
       "      <td>46.0</td>\n",
       "      <td>35.590928</td>\n",
       "      <td>3.0</td>\n",
       "      <td>4748401.0</td>\n",
       "      <td>1.187100e+06</td>\n",
       "      <td>3.0</td>\n",
       "      <td>0.0</td>\n",
       "      <td>...</td>\n",
       "      <td>255.0</td>\n",
       "      <td>360.0</td>\n",
       "      <td>2.0</td>\n",
       "      <td>20.0</td>\n",
       "      <td>0.000000</td>\n",
       "      <td>0.0</td>\n",
       "      <td>0.0</td>\n",
       "      <td>0.000000e+00</td>\n",
       "      <td>0.0</td>\n",
       "      <td>0</td>\n",
       "    </tr>\n",
       "    <tr>\n",
       "      <th>4</th>\n",
       "      <td>443.0</td>\n",
       "      <td>0.0</td>\n",
       "      <td>120.728387</td>\n",
       "      <td>0.0</td>\n",
       "      <td>97.736538</td>\n",
       "      <td>4.0</td>\n",
       "      <td>117090294.0</td>\n",
       "      <td>4.878762e+06</td>\n",
       "      <td>4.0</td>\n",
       "      <td>112034263.0</td>\n",
       "      <td>...</td>\n",
       "      <td>29200.0</td>\n",
       "      <td>1039.0</td>\n",
       "      <td>5.0</td>\n",
       "      <td>32.0</td>\n",
       "      <td>368072.941439</td>\n",
       "      <td>1281986.0</td>\n",
       "      <td>61036.0</td>\n",
       "      <td>1.654326e+04</td>\n",
       "      <td>9964050.0</td>\n",
       "      <td>0</td>\n",
       "    </tr>\n",
       "    <tr>\n",
       "      <th>...</th>\n",
       "      <td>...</td>\n",
       "      <td>...</td>\n",
       "      <td>...</td>\n",
       "      <td>...</td>\n",
       "      <td>...</td>\n",
       "      <td>...</td>\n",
       "      <td>...</td>\n",
       "      <td>...</td>\n",
       "      <td>...</td>\n",
       "      <td>...</td>\n",
       "      <td>...</td>\n",
       "      <td>...</td>\n",
       "      <td>...</td>\n",
       "      <td>...</td>\n",
       "      <td>...</td>\n",
       "      <td>...</td>\n",
       "      <td>...</td>\n",
       "      <td>...</td>\n",
       "      <td>...</td>\n",
       "      <td>...</td>\n",
       "      <td>...</td>\n",
       "    </tr>\n",
       "    <tr>\n",
       "      <th>1212859</th>\n",
       "      <td>9207.0</td>\n",
       "      <td>2.0</td>\n",
       "      <td>0.000000</td>\n",
       "      <td>6.0</td>\n",
       "      <td>238805.970100</td>\n",
       "      <td>18.0</td>\n",
       "      <td>49.0</td>\n",
       "      <td>4.900000e+01</td>\n",
       "      <td>49.0</td>\n",
       "      <td>48.0</td>\n",
       "      <td>...</td>\n",
       "      <td>1024.0</td>\n",
       "      <td>0.0</td>\n",
       "      <td>1.0</td>\n",
       "      <td>24.0</td>\n",
       "      <td>0.000000</td>\n",
       "      <td>0.0</td>\n",
       "      <td>0.0</td>\n",
       "      <td>0.000000e+00</td>\n",
       "      <td>0.0</td>\n",
       "      <td>0</td>\n",
       "    </tr>\n",
       "    <tr>\n",
       "      <th>1212860</th>\n",
       "      <td>80.0</td>\n",
       "      <td>0.0</td>\n",
       "      <td>141.529384</td>\n",
       "      <td>0.0</td>\n",
       "      <td>138.640010</td>\n",
       "      <td>2.0</td>\n",
       "      <td>86200000.0</td>\n",
       "      <td>1.720000e+07</td>\n",
       "      <td>242.0</td>\n",
       "      <td>86200000.0</td>\n",
       "      <td>...</td>\n",
       "      <td>0.0</td>\n",
       "      <td>235.0</td>\n",
       "      <td>2.0</td>\n",
       "      <td>20.0</td>\n",
       "      <td>0.000000</td>\n",
       "      <td>23987.0</td>\n",
       "      <td>23987.0</td>\n",
       "      <td>0.000000e+00</td>\n",
       "      <td>85200000.0</td>\n",
       "      <td>1</td>\n",
       "    </tr>\n",
       "    <tr>\n",
       "      <th>1212861</th>\n",
       "      <td>9712.0</td>\n",
       "      <td>6.0</td>\n",
       "      <td>0.000000</td>\n",
       "      <td>6.0</td>\n",
       "      <td>230769.230800</td>\n",
       "      <td>52.0</td>\n",
       "      <td>0.0</td>\n",
       "      <td>0.000000e+00</td>\n",
       "      <td>0.0</td>\n",
       "      <td>0.0</td>\n",
       "      <td>...</td>\n",
       "      <td>913.0</td>\n",
       "      <td>256.0</td>\n",
       "      <td>0.0</td>\n",
       "      <td>20.0</td>\n",
       "      <td>0.000000</td>\n",
       "      <td>0.0</td>\n",
       "      <td>0.0</td>\n",
       "      <td>0.000000e+00</td>\n",
       "      <td>0.0</td>\n",
       "      <td>0</td>\n",
       "    </tr>\n",
       "    <tr>\n",
       "      <th>1212862</th>\n",
       "      <td>53.0</td>\n",
       "      <td>29.0</td>\n",
       "      <td>0.000000</td>\n",
       "      <td>61.0</td>\n",
       "      <td>5768.676089</td>\n",
       "      <td>3.0</td>\n",
       "      <td>4.0</td>\n",
       "      <td>4.000000e+00</td>\n",
       "      <td>4.0</td>\n",
       "      <td>3.0</td>\n",
       "      <td>...</td>\n",
       "      <td>-1.0</td>\n",
       "      <td>-1.0</td>\n",
       "      <td>1.0</td>\n",
       "      <td>20.0</td>\n",
       "      <td>0.000000</td>\n",
       "      <td>0.0</td>\n",
       "      <td>0.0</td>\n",
       "      <td>0.000000e+00</td>\n",
       "      <td>0.0</td>\n",
       "      <td>0</td>\n",
       "    </tr>\n",
       "    <tr>\n",
       "      <th>1212863</th>\n",
       "      <td>80.0</td>\n",
       "      <td>0.0</td>\n",
       "      <td>117.168987</td>\n",
       "      <td>0.0</td>\n",
       "      <td>139.997682</td>\n",
       "      <td>0.0</td>\n",
       "      <td>84900000.0</td>\n",
       "      <td>1.420000e+07</td>\n",
       "      <td>0.0</td>\n",
       "      <td>150376.0</td>\n",
       "      <td>...</td>\n",
       "      <td>274.0</td>\n",
       "      <td>235.0</td>\n",
       "      <td>1.0</td>\n",
       "      <td>32.0</td>\n",
       "      <td>0.000000</td>\n",
       "      <td>3.0</td>\n",
       "      <td>3.0</td>\n",
       "      <td>0.000000e+00</td>\n",
       "      <td>84900000.0</td>\n",
       "      <td>1</td>\n",
       "    </tr>\n",
       "  </tbody>\n",
       "</table>\n",
       "<p>1212864 rows × 41 columns</p>\n",
       "</div>"
      ],
      "text/plain": [
       "         DestinationPort  FwdPacketLengthMin  FwdPacketLengthStd  \\\n",
       "0                 8082.0                 2.0            0.000000   \n",
       "1                   80.0                 0.0          189.466815   \n",
       "2                   53.0                51.0            0.000000   \n",
       "3                  443.0                 0.0           23.276598   \n",
       "4                  443.0                 0.0          120.728387   \n",
       "...                  ...                 ...                 ...   \n",
       "1212859           9207.0                 2.0            0.000000   \n",
       "1212860             80.0                 0.0          141.529384   \n",
       "1212861           9712.0                 6.0            0.000000   \n",
       "1212862             53.0                29.0            0.000000   \n",
       "1212863             80.0                 0.0          117.168987   \n",
       "\n",
       "         BwdPacketLengthMin    FlowBytes/s  FlowIATMin  FwdIATTotal  \\\n",
       "0                       6.0  266666.666700         2.0         49.0   \n",
       "1                       0.0      59.917134       155.0  120000000.0   \n",
       "2                     105.0     401.396161         3.0     124231.0   \n",
       "3                      46.0      35.590928         3.0    4748401.0   \n",
       "4                       0.0      97.736538         4.0  117090294.0   \n",
       "...                     ...            ...         ...          ...   \n",
       "1212859                 6.0  238805.970100        18.0         49.0   \n",
       "1212860                 0.0     138.640010         2.0   86200000.0   \n",
       "1212861                 6.0  230769.230800        52.0          0.0   \n",
       "1212862                61.0    5768.676089         3.0          4.0   \n",
       "1212863                 0.0     139.997682         0.0   84900000.0   \n",
       "\n",
       "           FwdIATMean  FwdIATMin  BwdIATTotal  ...  Init_Win_bytes_forward  \\\n",
       "0        4.900000e+01       49.0          2.0  ...                  1024.0   \n",
       "1        5.214309e+06      240.0  120000000.0  ...                  8192.0   \n",
       "2        4.141033e+04        3.0          4.0  ...                    -1.0   \n",
       "3        1.187100e+06        3.0          0.0  ...                   255.0   \n",
       "4        4.878762e+06        4.0  112034263.0  ...                 29200.0   \n",
       "...               ...        ...          ...  ...                     ...   \n",
       "1212859  4.900000e+01       49.0         48.0  ...                  1024.0   \n",
       "1212860  1.720000e+07      242.0   86200000.0  ...                     0.0   \n",
       "1212861  0.000000e+00        0.0          0.0  ...                   913.0   \n",
       "1212862  4.000000e+00        4.0          3.0  ...                    -1.0   \n",
       "1212863  1.420000e+07        0.0     150376.0  ...                   274.0   \n",
       "\n",
       "         Init_Win_bytes_backward  act_data_pkt_fwd  min_seg_size_forward  \\\n",
       "0                            0.0               1.0                  24.0   \n",
       "1                          385.0              23.0                  20.0   \n",
       "2                           -1.0               3.0                  20.0   \n",
       "3                          360.0               2.0                  20.0   \n",
       "4                         1039.0               5.0                  32.0   \n",
       "...                          ...               ...                   ...   \n",
       "1212859                      0.0               1.0                  24.0   \n",
       "1212860                    235.0               2.0                  20.0   \n",
       "1212861                    256.0               0.0                  20.0   \n",
       "1212862                     -1.0               1.0                  20.0   \n",
       "1212863                    235.0               1.0                  32.0   \n",
       "\n",
       "             ActiveStd  ActiveMax  ActiveMin       IdleStd     IdleMin  Label  \n",
       "0             0.000000        0.0        0.0  0.000000e+00         0.0      0  \n",
       "1        893006.710700  3094311.0    36181.0  1.285317e+06   5553267.0      0  \n",
       "2             0.000000        0.0        0.0  0.000000e+00         0.0      0  \n",
       "3             0.000000        0.0        0.0  0.000000e+00         0.0      0  \n",
       "4        368072.941439  1281986.0    61036.0  1.654326e+04   9964050.0      0  \n",
       "...                ...        ...        ...           ...         ...    ...  \n",
       "1212859       0.000000        0.0        0.0  0.000000e+00         0.0      0  \n",
       "1212860       0.000000    23987.0    23987.0  0.000000e+00  85200000.0      1  \n",
       "1212861       0.000000        0.0        0.0  0.000000e+00         0.0      0  \n",
       "1212862       0.000000        0.0        0.0  0.000000e+00         0.0      0  \n",
       "1212863       0.000000        3.0        3.0  0.000000e+00  84900000.0      1  \n",
       "\n",
       "[1212864 rows x 41 columns]"
      ]
     },
     "execution_count": 10,
     "metadata": {},
     "output_type": "execute_result"
    }
   ],
   "source": [
    "# considering only fifty percent of data\n",
    "df=df.sample(frac=0.5).reset_index(drop=True)\n",
    "df"
   ]
  },
  {
   "cell_type": "code",
   "execution_count": 11,
   "metadata": {
    "colab": {
     "base_uri": "https://localhost:8080/",
     "height": 770
    },
    "id": "fyy0zlMu3ebQ",
    "outputId": "c3003052-528d-4497-cac2-9976e3515628"
   },
   "outputs": [],
   "source": [
    "# df = df.drop(columns=['Unnamed: 0'], axis=1)\n",
    "# df.head()"
   ]
  },
  {
   "cell_type": "markdown",
   "metadata": {
    "id": "oMMbfE3-o68l"
   },
   "source": [
    "# Train and Test Dataset"
   ]
  },
  {
   "cell_type": "code",
   "execution_count": 12,
   "metadata": {
    "id": "Bzh9e4xmozMo"
   },
   "outputs": [],
   "source": [
    "# put labels into y_train variable\n",
    "Y = df[\"Label\"]\n",
    "# Drop 'label' column\n",
    "X = df.drop(labels = [\"Label\"],axis = 1)"
   ]
  },
  {
   "cell_type": "code",
   "execution_count": 13,
   "metadata": {
    "colab": {
     "base_uri": "https://localhost:8080/"
    },
    "id": "lhPkdf0Eo4-Y",
    "outputId": "43545bcb-d5a8-4d84-96e4-aece63cce44f"
   },
   "outputs": [
    {
     "data": {
      "text/plain": [
       "((1212864, 40), (1212864,))"
      ]
     },
     "execution_count": 13,
     "metadata": {},
     "output_type": "execute_result"
    }
   ],
   "source": [
    "X.shape, Y.shape"
   ]
  },
  {
   "cell_type": "code",
   "execution_count": 14,
   "metadata": {
    "colab": {
     "base_uri": "https://localhost:8080/"
    },
    "id": "xYn6Sx73pNX2",
    "outputId": "30357470-40e0-4cc5-9c26-f36158c4402a"
   },
   "outputs": [
    {
     "data": {
      "text/plain": [
       "array([0, 1])"
      ]
     },
     "execution_count": 14,
     "metadata": {},
     "output_type": "execute_result"
    }
   ],
   "source": [
    "df['Label'].unique()"
   ]
  },
  {
   "cell_type": "code",
   "execution_count": 15,
   "metadata": {
    "colab": {
     "base_uri": "https://localhost:8080/"
    },
    "id": "4It7J8fRskPz",
    "outputId": "6dd61829-1924-4662-f98a-07a58f41c5bd"
   },
   "outputs": [
    {
     "data": {
      "text/plain": [
       "Label\n",
       "0    1018104\n",
       "1     194760\n",
       "Name: count, dtype: int64"
      ]
     },
     "execution_count": 15,
     "metadata": {},
     "output_type": "execute_result"
    }
   ],
   "source": [
    "df[\"Label\"].value_counts()"
   ]
  },
  {
   "cell_type": "code",
   "execution_count": 16,
   "metadata": {
    "colab": {
     "base_uri": "https://localhost:8080/"
    },
    "id": "x6ds4bN9sy4x",
    "outputId": "43c454f2-6e1d-4f64-db09-3ba3263054b5"
   },
   "outputs": [
    {
     "data": {
      "text/plain": [
       "pandas.core.frame.DataFrame"
      ]
     },
     "execution_count": 16,
     "metadata": {},
     "output_type": "execute_result"
    }
   ],
   "source": [
    "type(X)"
   ]
  },
  {
   "cell_type": "code",
   "execution_count": 17,
   "metadata": {
    "colab": {
     "base_uri": "https://localhost:8080/"
    },
    "id": "RUepm4w1tvK5",
    "outputId": "589c1a34-cefd-4597-c241-c072bdad4d65"
   },
   "outputs": [
    {
     "data": {
      "text/plain": [
       "['DestinationPort',\n",
       " 'FwdPacketLengthMin',\n",
       " 'FwdPacketLengthStd',\n",
       " 'BwdPacketLengthMin',\n",
       " 'FlowBytes/s',\n",
       " 'FlowIATMin',\n",
       " 'FwdIATTotal',\n",
       " 'FwdIATMean',\n",
       " 'FwdIATMin',\n",
       " 'BwdIATTotal',\n",
       " 'BwdIATStd',\n",
       " 'BwdIATMax',\n",
       " 'BwdIATMin',\n",
       " 'BwdHeaderLength',\n",
       " 'FwdPackets/s',\n",
       " 'BwdPackets/s',\n",
       " 'MinPacketLength',\n",
       " 'PacketLengthVariance',\n",
       " 'FINFlagCount',\n",
       " 'SYNFlagCount',\n",
       " 'PSHFlagCount',\n",
       " 'ACKFlagCount',\n",
       " 'URGFlagCount',\n",
       " 'CWEFlagCount',\n",
       " 'ECEFlagCount',\n",
       " 'Down/UpRatio',\n",
       " 'AvgFwdSegmentSize',\n",
       " 'AvgBwdSegmentSize',\n",
       " 'FwdHeaderLength.1',\n",
       " 'SubflowFwdBytes',\n",
       " 'SubflowBwdBytes',\n",
       " 'Init_Win_bytes_forward',\n",
       " 'Init_Win_bytes_backward',\n",
       " 'act_data_pkt_fwd',\n",
       " 'min_seg_size_forward',\n",
       " 'ActiveStd',\n",
       " 'ActiveMax',\n",
       " 'ActiveMin',\n",
       " 'IdleStd',\n",
       " 'IdleMin']"
      ]
     },
     "execution_count": 17,
     "metadata": {},
     "output_type": "execute_result"
    }
   ],
   "source": [
    "features = list(X.columns)\n",
    "features"
   ]
  },
  {
   "cell_type": "code",
   "execution_count": 18,
   "metadata": {
    "colab": {
     "base_uri": "https://localhost:8080/",
     "height": 488
    },
    "id": "3vroSJ-E1qm-",
    "outputId": "f75a12c3-c786-41a1-89a7-302b0f409743"
   },
   "outputs": [
    {
     "data": {
      "text/html": [
       "<div>\n",
       "<style scoped>\n",
       "    .dataframe tbody tr th:only-of-type {\n",
       "        vertical-align: middle;\n",
       "    }\n",
       "\n",
       "    .dataframe tbody tr th {\n",
       "        vertical-align: top;\n",
       "    }\n",
       "\n",
       "    .dataframe thead th {\n",
       "        text-align: right;\n",
       "    }\n",
       "</style>\n",
       "<table border=\"1\" class=\"dataframe\">\n",
       "  <thead>\n",
       "    <tr style=\"text-align: right;\">\n",
       "      <th></th>\n",
       "      <th>DestinationPort</th>\n",
       "      <th>FwdPacketLengthMin</th>\n",
       "      <th>FwdPacketLengthStd</th>\n",
       "      <th>BwdPacketLengthMin</th>\n",
       "      <th>FlowBytes/s</th>\n",
       "      <th>FlowIATMin</th>\n",
       "      <th>FwdIATTotal</th>\n",
       "      <th>FwdIATMean</th>\n",
       "      <th>FwdIATMin</th>\n",
       "      <th>BwdIATTotal</th>\n",
       "      <th>...</th>\n",
       "      <th>SubflowBwdBytes</th>\n",
       "      <th>Init_Win_bytes_forward</th>\n",
       "      <th>Init_Win_bytes_backward</th>\n",
       "      <th>act_data_pkt_fwd</th>\n",
       "      <th>min_seg_size_forward</th>\n",
       "      <th>ActiveStd</th>\n",
       "      <th>ActiveMax</th>\n",
       "      <th>ActiveMin</th>\n",
       "      <th>IdleStd</th>\n",
       "      <th>IdleMin</th>\n",
       "    </tr>\n",
       "  </thead>\n",
       "  <tbody>\n",
       "    <tr>\n",
       "      <th>0</th>\n",
       "      <td>-0.040967</td>\n",
       "      <td>-0.281216</td>\n",
       "      <td>-0.265517</td>\n",
       "      <td>-0.525082</td>\n",
       "      <td>-0.042341</td>\n",
       "      <td>-0.056745</td>\n",
       "      <td>-0.472969</td>\n",
       "      <td>-0.298144</td>\n",
       "      <td>-0.127601</td>\n",
       "      <td>-0.375713</td>\n",
       "      <td>...</td>\n",
       "      <td>-0.007780</td>\n",
       "      <td>-0.427197</td>\n",
       "      <td>-0.254476</td>\n",
       "      <td>-0.007659</td>\n",
       "      <td>0.002951</td>\n",
       "      <td>-0.113714</td>\n",
       "      <td>-0.162412</td>\n",
       "      <td>-0.110339</td>\n",
       "      <td>-0.118429</td>\n",
       "      <td>-0.369878</td>\n",
       "    </tr>\n",
       "    <tr>\n",
       "      <th>1</th>\n",
       "      <td>-0.456774</td>\n",
       "      <td>-0.314039</td>\n",
       "      <td>0.362495</td>\n",
       "      <td>-0.609852</td>\n",
       "      <td>-0.052322</td>\n",
       "      <td>-0.056694</td>\n",
       "      <td>2.889149</td>\n",
       "      <td>0.215370</td>\n",
       "      <td>-0.127580</td>\n",
       "      <td>3.528938</td>\n",
       "      <td>...</td>\n",
       "      <td>-0.005983</td>\n",
       "      <td>0.061946</td>\n",
       "      <td>-0.212030</td>\n",
       "      <td>0.023630</td>\n",
       "      <td>0.002947</td>\n",
       "      <td>2.023261</td>\n",
       "      <td>2.678278</td>\n",
       "      <td>-0.050957</td>\n",
       "      <td>0.139077</td>\n",
       "      <td>-0.147594</td>\n",
       "    </tr>\n",
       "    <tr>\n",
       "      <th>2</th>\n",
       "      <td>-0.458177</td>\n",
       "      <td>0.522962</td>\n",
       "      <td>-0.265517</td>\n",
       "      <td>0.873619</td>\n",
       "      <td>-0.052309</td>\n",
       "      <td>-0.056745</td>\n",
       "      <td>-0.469490</td>\n",
       "      <td>-0.294070</td>\n",
       "      <td>-0.127606</td>\n",
       "      <td>-0.375713</td>\n",
       "      <td>...</td>\n",
       "      <td>-0.007701</td>\n",
       "      <td>-0.497143</td>\n",
       "      <td>-0.254587</td>\n",
       "      <td>-0.004815</td>\n",
       "      <td>0.002947</td>\n",
       "      <td>-0.113714</td>\n",
       "      <td>-0.162412</td>\n",
       "      <td>-0.110339</td>\n",
       "      <td>-0.118429</td>\n",
       "      <td>-0.369878</td>\n",
       "    </tr>\n",
       "    <tr>\n",
       "      <th>3</th>\n",
       "      <td>-0.437911</td>\n",
       "      <td>-0.314039</td>\n",
       "      <td>-0.188364</td>\n",
       "      <td>0.040049</td>\n",
       "      <td>-0.052322</td>\n",
       "      <td>-0.056745</td>\n",
       "      <td>-0.339932</td>\n",
       "      <td>-0.181240</td>\n",
       "      <td>-0.127606</td>\n",
       "      <td>-0.375713</td>\n",
       "      <td>...</td>\n",
       "      <td>-0.007767</td>\n",
       "      <td>-0.479674</td>\n",
       "      <td>-0.214786</td>\n",
       "      <td>-0.006237</td>\n",
       "      <td>0.002947</td>\n",
       "      <td>-0.113714</td>\n",
       "      <td>-0.162412</td>\n",
       "      <td>-0.110339</td>\n",
       "      <td>-0.118429</td>\n",
       "      <td>-0.369878</td>\n",
       "    </tr>\n",
       "    <tr>\n",
       "      <th>4</th>\n",
       "      <td>-0.437911</td>\n",
       "      <td>-0.314039</td>\n",
       "      <td>0.134653</td>\n",
       "      <td>-0.609852</td>\n",
       "      <td>-0.052320</td>\n",
       "      <td>-0.056744</td>\n",
       "      <td>2.807626</td>\n",
       "      <td>0.182325</td>\n",
       "      <td>-0.127606</td>\n",
       "      <td>3.269743</td>\n",
       "      <td>...</td>\n",
       "      <td>-0.003671</td>\n",
       "      <td>1.495527</td>\n",
       "      <td>-0.139926</td>\n",
       "      <td>-0.001970</td>\n",
       "      <td>0.002957</td>\n",
       "      <td>0.767089</td>\n",
       "      <td>1.014498</td>\n",
       "      <td>-0.010164</td>\n",
       "      <td>-0.115114</td>\n",
       "      <td>0.028960</td>\n",
       "    </tr>\n",
       "    <tr>\n",
       "      <th>...</th>\n",
       "      <td>...</td>\n",
       "      <td>...</td>\n",
       "      <td>...</td>\n",
       "      <td>...</td>\n",
       "      <td>...</td>\n",
       "      <td>...</td>\n",
       "      <td>...</td>\n",
       "      <td>...</td>\n",
       "      <td>...</td>\n",
       "      <td>...</td>\n",
       "      <td>...</td>\n",
       "      <td>...</td>\n",
       "      <td>...</td>\n",
       "      <td>...</td>\n",
       "      <td>...</td>\n",
       "      <td>...</td>\n",
       "      <td>...</td>\n",
       "      <td>...</td>\n",
       "      <td>...</td>\n",
       "      <td>...</td>\n",
       "      <td>...</td>\n",
       "    </tr>\n",
       "    <tr>\n",
       "      <th>1212859</th>\n",
       "      <td>0.017492</td>\n",
       "      <td>-0.281216</td>\n",
       "      <td>-0.265517</td>\n",
       "      <td>-0.525082</td>\n",
       "      <td>-0.043384</td>\n",
       "      <td>-0.056740</td>\n",
       "      <td>-0.472969</td>\n",
       "      <td>-0.298144</td>\n",
       "      <td>-0.127601</td>\n",
       "      <td>-0.375712</td>\n",
       "      <td>...</td>\n",
       "      <td>-0.007780</td>\n",
       "      <td>-0.427197</td>\n",
       "      <td>-0.254476</td>\n",
       "      <td>-0.007659</td>\n",
       "      <td>0.002951</td>\n",
       "      <td>-0.113714</td>\n",
       "      <td>-0.162412</td>\n",
       "      <td>-0.110339</td>\n",
       "      <td>-0.118429</td>\n",
       "      <td>-0.369878</td>\n",
       "    </tr>\n",
       "    <tr>\n",
       "      <th>1212860</th>\n",
       "      <td>-0.456774</td>\n",
       "      <td>-0.314039</td>\n",
       "      <td>0.203600</td>\n",
       "      <td>-0.609852</td>\n",
       "      <td>-0.052319</td>\n",
       "      <td>-0.056745</td>\n",
       "      <td>1.942152</td>\n",
       "      <td>1.395753</td>\n",
       "      <td>-0.127580</td>\n",
       "      <td>2.429128</td>\n",
       "      <td>...</td>\n",
       "      <td>-0.003123</td>\n",
       "      <td>-0.497075</td>\n",
       "      <td>-0.228568</td>\n",
       "      <td>-0.006237</td>\n",
       "      <td>0.002947</td>\n",
       "      <td>-0.113714</td>\n",
       "      <td>-0.140391</td>\n",
       "      <td>-0.070970</td>\n",
       "      <td>-0.118429</td>\n",
       "      <td>3.040482</td>\n",
       "    </tr>\n",
       "    <tr>\n",
       "      <th>1212861</th>\n",
       "      <td>0.043733</td>\n",
       "      <td>-0.215569</td>\n",
       "      <td>-0.265517</td>\n",
       "      <td>-0.525082</td>\n",
       "      <td>-0.043685</td>\n",
       "      <td>-0.056728</td>\n",
       "      <td>-0.472971</td>\n",
       "      <td>-0.298149</td>\n",
       "      <td>-0.127607</td>\n",
       "      <td>-0.375713</td>\n",
       "      <td>...</td>\n",
       "      <td>-0.007783</td>\n",
       "      <td>-0.434772</td>\n",
       "      <td>-0.226252</td>\n",
       "      <td>-0.009082</td>\n",
       "      <td>0.002947</td>\n",
       "      <td>-0.113714</td>\n",
       "      <td>-0.162412</td>\n",
       "      <td>-0.110339</td>\n",
       "      <td>-0.118429</td>\n",
       "      <td>-0.369878</td>\n",
       "    </tr>\n",
       "    <tr>\n",
       "      <th>1212862</th>\n",
       "      <td>-0.458177</td>\n",
       "      <td>0.161902</td>\n",
       "      <td>-0.265517</td>\n",
       "      <td>0.251974</td>\n",
       "      <td>-0.052108</td>\n",
       "      <td>-0.056745</td>\n",
       "      <td>-0.472971</td>\n",
       "      <td>-0.298148</td>\n",
       "      <td>-0.127606</td>\n",
       "      <td>-0.375713</td>\n",
       "      <td>...</td>\n",
       "      <td>-0.007736</td>\n",
       "      <td>-0.497143</td>\n",
       "      <td>-0.254587</td>\n",
       "      <td>-0.007659</td>\n",
       "      <td>0.002947</td>\n",
       "      <td>-0.113714</td>\n",
       "      <td>-0.162412</td>\n",
       "      <td>-0.110339</td>\n",
       "      <td>-0.118429</td>\n",
       "      <td>-0.369878</td>\n",
       "    </tr>\n",
       "    <tr>\n",
       "      <th>1212863</th>\n",
       "      <td>-0.456774</td>\n",
       "      <td>-0.314039</td>\n",
       "      <td>0.122855</td>\n",
       "      <td>-0.609852</td>\n",
       "      <td>-0.052319</td>\n",
       "      <td>-0.056746</td>\n",
       "      <td>1.905729</td>\n",
       "      <td>1.100305</td>\n",
       "      <td>-0.127607</td>\n",
       "      <td>-0.370820</td>\n",
       "      <td>...</td>\n",
       "      <td>-0.003123</td>\n",
       "      <td>-0.478377</td>\n",
       "      <td>-0.228568</td>\n",
       "      <td>-0.007659</td>\n",
       "      <td>0.002957</td>\n",
       "      <td>-0.113714</td>\n",
       "      <td>-0.162409</td>\n",
       "      <td>-0.110334</td>\n",
       "      <td>-0.118429</td>\n",
       "      <td>3.028474</td>\n",
       "    </tr>\n",
       "  </tbody>\n",
       "</table>\n",
       "<p>1212864 rows × 40 columns</p>\n",
       "</div>"
      ],
      "text/plain": [
       "         DestinationPort  FwdPacketLengthMin  FwdPacketLengthStd  \\\n",
       "0              -0.040967           -0.281216           -0.265517   \n",
       "1              -0.456774           -0.314039            0.362495   \n",
       "2              -0.458177            0.522962           -0.265517   \n",
       "3              -0.437911           -0.314039           -0.188364   \n",
       "4              -0.437911           -0.314039            0.134653   \n",
       "...                  ...                 ...                 ...   \n",
       "1212859         0.017492           -0.281216           -0.265517   \n",
       "1212860        -0.456774           -0.314039            0.203600   \n",
       "1212861         0.043733           -0.215569           -0.265517   \n",
       "1212862        -0.458177            0.161902           -0.265517   \n",
       "1212863        -0.456774           -0.314039            0.122855   \n",
       "\n",
       "         BwdPacketLengthMin  FlowBytes/s  FlowIATMin  FwdIATTotal  FwdIATMean  \\\n",
       "0                 -0.525082    -0.042341   -0.056745    -0.472969   -0.298144   \n",
       "1                 -0.609852    -0.052322   -0.056694     2.889149    0.215370   \n",
       "2                  0.873619    -0.052309   -0.056745    -0.469490   -0.294070   \n",
       "3                  0.040049    -0.052322   -0.056745    -0.339932   -0.181240   \n",
       "4                 -0.609852    -0.052320   -0.056744     2.807626    0.182325   \n",
       "...                     ...          ...         ...          ...         ...   \n",
       "1212859           -0.525082    -0.043384   -0.056740    -0.472969   -0.298144   \n",
       "1212860           -0.609852    -0.052319   -0.056745     1.942152    1.395753   \n",
       "1212861           -0.525082    -0.043685   -0.056728    -0.472971   -0.298149   \n",
       "1212862            0.251974    -0.052108   -0.056745    -0.472971   -0.298148   \n",
       "1212863           -0.609852    -0.052319   -0.056746     1.905729    1.100305   \n",
       "\n",
       "         FwdIATMin  BwdIATTotal  ...  SubflowBwdBytes  Init_Win_bytes_forward  \\\n",
       "0        -0.127601    -0.375713  ...        -0.007780               -0.427197   \n",
       "1        -0.127580     3.528938  ...        -0.005983                0.061946   \n",
       "2        -0.127606    -0.375713  ...        -0.007701               -0.497143   \n",
       "3        -0.127606    -0.375713  ...        -0.007767               -0.479674   \n",
       "4        -0.127606     3.269743  ...        -0.003671                1.495527   \n",
       "...            ...          ...  ...              ...                     ...   \n",
       "1212859  -0.127601    -0.375712  ...        -0.007780               -0.427197   \n",
       "1212860  -0.127580     2.429128  ...        -0.003123               -0.497075   \n",
       "1212861  -0.127607    -0.375713  ...        -0.007783               -0.434772   \n",
       "1212862  -0.127606    -0.375713  ...        -0.007736               -0.497143   \n",
       "1212863  -0.127607    -0.370820  ...        -0.003123               -0.478377   \n",
       "\n",
       "         Init_Win_bytes_backward  act_data_pkt_fwd  min_seg_size_forward  \\\n",
       "0                      -0.254476         -0.007659              0.002951   \n",
       "1                      -0.212030          0.023630              0.002947   \n",
       "2                      -0.254587         -0.004815              0.002947   \n",
       "3                      -0.214786         -0.006237              0.002947   \n",
       "4                      -0.139926         -0.001970              0.002957   \n",
       "...                          ...               ...                   ...   \n",
       "1212859                -0.254476         -0.007659              0.002951   \n",
       "1212860                -0.228568         -0.006237              0.002947   \n",
       "1212861                -0.226252         -0.009082              0.002947   \n",
       "1212862                -0.254587         -0.007659              0.002947   \n",
       "1212863                -0.228568         -0.007659              0.002957   \n",
       "\n",
       "         ActiveStd  ActiveMax  ActiveMin   IdleStd   IdleMin  \n",
       "0        -0.113714  -0.162412  -0.110339 -0.118429 -0.369878  \n",
       "1         2.023261   2.678278  -0.050957  0.139077 -0.147594  \n",
       "2        -0.113714  -0.162412  -0.110339 -0.118429 -0.369878  \n",
       "3        -0.113714  -0.162412  -0.110339 -0.118429 -0.369878  \n",
       "4         0.767089   1.014498  -0.010164 -0.115114  0.028960  \n",
       "...            ...        ...        ...       ...       ...  \n",
       "1212859  -0.113714  -0.162412  -0.110339 -0.118429 -0.369878  \n",
       "1212860  -0.113714  -0.140391  -0.070970 -0.118429  3.040482  \n",
       "1212861  -0.113714  -0.162412  -0.110339 -0.118429 -0.369878  \n",
       "1212862  -0.113714  -0.162412  -0.110339 -0.118429 -0.369878  \n",
       "1212863  -0.113714  -0.162409  -0.110334 -0.118429  3.028474  \n",
       "\n",
       "[1212864 rows x 40 columns]"
      ]
     },
     "execution_count": 18,
     "metadata": {},
     "output_type": "execute_result"
    }
   ],
   "source": [
    "#Scalling numerical attributes\n",
    "\n",
    "scaler = StandardScaler()\n",
    "X_scaled = scaler.fit_transform(X)\n",
    "\n",
    "# Turn back to dataframe\n",
    "X = pd.DataFrame(X_scaled, columns=features)\n",
    "X"
   ]
  },
  {
   "cell_type": "code",
   "execution_count": 19,
   "metadata": {
    "colab": {
     "base_uri": "https://localhost:8080/"
    },
    "id": "1AK1j9Lh2ReI",
    "outputId": "6c6e2f5d-548c-407b-adbd-60a4ff99e2b8"
   },
   "outputs": [
    {
     "data": {
      "text/plain": [
       "22740581.6"
      ]
     },
     "execution_count": 19,
     "metadata": {},
     "output_type": "execute_result"
    }
   ],
   "source": [
    "28425727*0.8\n",
    "\n"
   ]
  },
  {
   "cell_type": "code",
   "execution_count": 20,
   "metadata": {
    "id": "31ulK_LN4JaR"
   },
   "outputs": [],
   "source": [
    "X[\"Label\"] = Y"
   ]
  },
  {
   "cell_type": "code",
   "execution_count": 21,
   "metadata": {
    "colab": {
     "base_uri": "https://localhost:8080/"
    },
    "id": "sV2MkOhD-lIj",
    "outputId": "f3fda8cd-fc74-4f5e-d187-a8dc11688afd"
   },
   "outputs": [
    {
     "data": {
      "text/plain": [
       "(1212864, 41)"
      ]
     },
     "execution_count": 21,
     "metadata": {},
     "output_type": "execute_result"
    }
   ],
   "source": [
    "X.shape"
   ]
  },
  {
   "cell_type": "code",
   "execution_count": 22,
   "metadata": {
    "colab": {
     "base_uri": "https://localhost:8080/",
     "height": 300
    },
    "id": "OuKZLqIx48zI",
    "outputId": "12f008f9-c8d3-4820-edef-733b01449a5e"
   },
   "outputs": [
    {
     "data": {
      "text/html": [
       "<div>\n",
       "<style scoped>\n",
       "    .dataframe tbody tr th:only-of-type {\n",
       "        vertical-align: middle;\n",
       "    }\n",
       "\n",
       "    .dataframe tbody tr th {\n",
       "        vertical-align: top;\n",
       "    }\n",
       "\n",
       "    .dataframe thead th {\n",
       "        text-align: right;\n",
       "    }\n",
       "</style>\n",
       "<table border=\"1\" class=\"dataframe\">\n",
       "  <thead>\n",
       "    <tr style=\"text-align: right;\">\n",
       "      <th></th>\n",
       "      <th>DestinationPort</th>\n",
       "      <th>FwdPacketLengthMin</th>\n",
       "      <th>FwdPacketLengthStd</th>\n",
       "      <th>BwdPacketLengthMin</th>\n",
       "      <th>FlowBytes/s</th>\n",
       "      <th>FlowIATMin</th>\n",
       "      <th>FwdIATTotal</th>\n",
       "      <th>FwdIATMean</th>\n",
       "      <th>FwdIATMin</th>\n",
       "      <th>BwdIATTotal</th>\n",
       "      <th>...</th>\n",
       "      <th>Init_Win_bytes_forward</th>\n",
       "      <th>Init_Win_bytes_backward</th>\n",
       "      <th>act_data_pkt_fwd</th>\n",
       "      <th>min_seg_size_forward</th>\n",
       "      <th>ActiveStd</th>\n",
       "      <th>ActiveMax</th>\n",
       "      <th>ActiveMin</th>\n",
       "      <th>IdleStd</th>\n",
       "      <th>IdleMin</th>\n",
       "      <th>Label</th>\n",
       "    </tr>\n",
       "  </thead>\n",
       "  <tbody>\n",
       "    <tr>\n",
       "      <th>0</th>\n",
       "      <td>-0.040967</td>\n",
       "      <td>-0.281216</td>\n",
       "      <td>-0.265517</td>\n",
       "      <td>-0.525082</td>\n",
       "      <td>-0.042341</td>\n",
       "      <td>-0.056745</td>\n",
       "      <td>-0.472969</td>\n",
       "      <td>-0.298144</td>\n",
       "      <td>-0.127601</td>\n",
       "      <td>-0.375713</td>\n",
       "      <td>...</td>\n",
       "      <td>-0.427197</td>\n",
       "      <td>-0.254476</td>\n",
       "      <td>-0.007659</td>\n",
       "      <td>0.002951</td>\n",
       "      <td>-0.113714</td>\n",
       "      <td>-0.162412</td>\n",
       "      <td>-0.110339</td>\n",
       "      <td>-0.118429</td>\n",
       "      <td>-0.369878</td>\n",
       "      <td>0</td>\n",
       "    </tr>\n",
       "    <tr>\n",
       "      <th>1</th>\n",
       "      <td>-0.456774</td>\n",
       "      <td>-0.314039</td>\n",
       "      <td>0.362495</td>\n",
       "      <td>-0.609852</td>\n",
       "      <td>-0.052322</td>\n",
       "      <td>-0.056694</td>\n",
       "      <td>2.889149</td>\n",
       "      <td>0.215370</td>\n",
       "      <td>-0.127580</td>\n",
       "      <td>3.528938</td>\n",
       "      <td>...</td>\n",
       "      <td>0.061946</td>\n",
       "      <td>-0.212030</td>\n",
       "      <td>0.023630</td>\n",
       "      <td>0.002947</td>\n",
       "      <td>2.023261</td>\n",
       "      <td>2.678278</td>\n",
       "      <td>-0.050957</td>\n",
       "      <td>0.139077</td>\n",
       "      <td>-0.147594</td>\n",
       "      <td>0</td>\n",
       "    </tr>\n",
       "    <tr>\n",
       "      <th>2</th>\n",
       "      <td>-0.458177</td>\n",
       "      <td>0.522962</td>\n",
       "      <td>-0.265517</td>\n",
       "      <td>0.873619</td>\n",
       "      <td>-0.052309</td>\n",
       "      <td>-0.056745</td>\n",
       "      <td>-0.469490</td>\n",
       "      <td>-0.294070</td>\n",
       "      <td>-0.127606</td>\n",
       "      <td>-0.375713</td>\n",
       "      <td>...</td>\n",
       "      <td>-0.497143</td>\n",
       "      <td>-0.254587</td>\n",
       "      <td>-0.004815</td>\n",
       "      <td>0.002947</td>\n",
       "      <td>-0.113714</td>\n",
       "      <td>-0.162412</td>\n",
       "      <td>-0.110339</td>\n",
       "      <td>-0.118429</td>\n",
       "      <td>-0.369878</td>\n",
       "      <td>0</td>\n",
       "    </tr>\n",
       "    <tr>\n",
       "      <th>3</th>\n",
       "      <td>-0.437911</td>\n",
       "      <td>-0.314039</td>\n",
       "      <td>-0.188364</td>\n",
       "      <td>0.040049</td>\n",
       "      <td>-0.052322</td>\n",
       "      <td>-0.056745</td>\n",
       "      <td>-0.339932</td>\n",
       "      <td>-0.181240</td>\n",
       "      <td>-0.127606</td>\n",
       "      <td>-0.375713</td>\n",
       "      <td>...</td>\n",
       "      <td>-0.479674</td>\n",
       "      <td>-0.214786</td>\n",
       "      <td>-0.006237</td>\n",
       "      <td>0.002947</td>\n",
       "      <td>-0.113714</td>\n",
       "      <td>-0.162412</td>\n",
       "      <td>-0.110339</td>\n",
       "      <td>-0.118429</td>\n",
       "      <td>-0.369878</td>\n",
       "      <td>0</td>\n",
       "    </tr>\n",
       "    <tr>\n",
       "      <th>4</th>\n",
       "      <td>-0.437911</td>\n",
       "      <td>-0.314039</td>\n",
       "      <td>0.134653</td>\n",
       "      <td>-0.609852</td>\n",
       "      <td>-0.052320</td>\n",
       "      <td>-0.056744</td>\n",
       "      <td>2.807626</td>\n",
       "      <td>0.182325</td>\n",
       "      <td>-0.127606</td>\n",
       "      <td>3.269743</td>\n",
       "      <td>...</td>\n",
       "      <td>1.495527</td>\n",
       "      <td>-0.139926</td>\n",
       "      <td>-0.001970</td>\n",
       "      <td>0.002957</td>\n",
       "      <td>0.767089</td>\n",
       "      <td>1.014498</td>\n",
       "      <td>-0.010164</td>\n",
       "      <td>-0.115114</td>\n",
       "      <td>0.028960</td>\n",
       "      <td>0</td>\n",
       "    </tr>\n",
       "  </tbody>\n",
       "</table>\n",
       "<p>5 rows × 41 columns</p>\n",
       "</div>"
      ],
      "text/plain": [
       "   DestinationPort  FwdPacketLengthMin  FwdPacketLengthStd  \\\n",
       "0        -0.040967           -0.281216           -0.265517   \n",
       "1        -0.456774           -0.314039            0.362495   \n",
       "2        -0.458177            0.522962           -0.265517   \n",
       "3        -0.437911           -0.314039           -0.188364   \n",
       "4        -0.437911           -0.314039            0.134653   \n",
       "\n",
       "   BwdPacketLengthMin  FlowBytes/s  FlowIATMin  FwdIATTotal  FwdIATMean  \\\n",
       "0           -0.525082    -0.042341   -0.056745    -0.472969   -0.298144   \n",
       "1           -0.609852    -0.052322   -0.056694     2.889149    0.215370   \n",
       "2            0.873619    -0.052309   -0.056745    -0.469490   -0.294070   \n",
       "3            0.040049    -0.052322   -0.056745    -0.339932   -0.181240   \n",
       "4           -0.609852    -0.052320   -0.056744     2.807626    0.182325   \n",
       "\n",
       "   FwdIATMin  BwdIATTotal  ...  Init_Win_bytes_forward  \\\n",
       "0  -0.127601    -0.375713  ...               -0.427197   \n",
       "1  -0.127580     3.528938  ...                0.061946   \n",
       "2  -0.127606    -0.375713  ...               -0.497143   \n",
       "3  -0.127606    -0.375713  ...               -0.479674   \n",
       "4  -0.127606     3.269743  ...                1.495527   \n",
       "\n",
       "   Init_Win_bytes_backward  act_data_pkt_fwd  min_seg_size_forward  ActiveStd  \\\n",
       "0                -0.254476         -0.007659              0.002951  -0.113714   \n",
       "1                -0.212030          0.023630              0.002947   2.023261   \n",
       "2                -0.254587         -0.004815              0.002947  -0.113714   \n",
       "3                -0.214786         -0.006237              0.002947  -0.113714   \n",
       "4                -0.139926         -0.001970              0.002957   0.767089   \n",
       "\n",
       "   ActiveMax  ActiveMin   IdleStd   IdleMin  Label  \n",
       "0  -0.162412  -0.110339 -0.118429 -0.369878      0  \n",
       "1   2.678278  -0.050957  0.139077 -0.147594      0  \n",
       "2  -0.162412  -0.110339 -0.118429 -0.369878      0  \n",
       "3  -0.162412  -0.110339 -0.118429 -0.369878      0  \n",
       "4   1.014498  -0.010164 -0.115114  0.028960      0  \n",
       "\n",
       "[5 rows x 41 columns]"
      ]
     },
     "execution_count": 22,
     "metadata": {},
     "output_type": "execute_result"
    }
   ],
   "source": [
    "X.head()"
   ]
  },
  {
   "cell_type": "code",
   "execution_count": 23,
   "metadata": {
    "id": "IsBHoF0z7MzD"
   },
   "outputs": [],
   "source": [
    "X_train = X[: int(X.shape[0]*0.8)]\n",
    "X_test = X[int(X.shape[0]*0.8):]"
   ]
  },
  {
   "cell_type": "code",
   "execution_count": 24,
   "metadata": {
    "colab": {
     "base_uri": "https://localhost:8080/"
    },
    "id": "6u1Kjgof7mnm",
    "outputId": "1bb3b05c-9040-44f8-c53b-8abb07fb938e"
   },
   "outputs": [
    {
     "data": {
      "text/plain": [
       "((970291, 41), (242573, 41))"
      ]
     },
     "execution_count": 24,
     "metadata": {},
     "output_type": "execute_result"
    }
   ],
   "source": [
    "X_train.shape, X_test.shape"
   ]
  },
  {
   "cell_type": "code",
   "execution_count": 25,
   "metadata": {
    "colab": {
     "base_uri": "https://localhost:8080/"
    },
    "id": "s9h3K_K7RXSS",
    "outputId": "ff38356b-5344-4847-e92c-0e7ea1ae58c3"
   },
   "outputs": [
    {
     "data": {
      "text/plain": [
       "(pandas.core.frame.DataFrame, pandas.core.frame.DataFrame)"
      ]
     },
     "execution_count": 25,
     "metadata": {},
     "output_type": "execute_result"
    }
   ],
   "source": [
    "type(X_train), type(X_test)"
   ]
  },
  {
   "cell_type": "code",
   "execution_count": 26,
   "metadata": {
    "id": "lg_pDK5h9ief"
   },
   "outputs": [],
   "source": [
    "# Train and test dataset creation\n",
    "y_train = X_train[\"Label\"]\n",
    "# Drop 'label' column\n",
    "X_train = X_train.drop(labels = [\"Label\"],axis = 1)\n",
    "\n",
    "y_test = X_test[\"Label\"]\n",
    "X_test = X_test.drop(labels=[\"Label\"], axis = 1)\n",
    "\n"
   ]
  },
  {
   "cell_type": "code",
   "execution_count": 27,
   "metadata": {
    "colab": {
     "base_uri": "https://localhost:8080/"
    },
    "id": "nNgOUOnxRd8T",
    "outputId": "d38e7da1-7251-4837-c2ee-29f6e6db35b0"
   },
   "outputs": [
    {
     "data": {
      "text/plain": [
       "(pandas.core.frame.DataFrame,\n",
       " pandas.core.frame.DataFrame,\n",
       " pandas.core.series.Series,\n",
       " pandas.core.series.Series)"
      ]
     },
     "execution_count": 27,
     "metadata": {},
     "output_type": "execute_result"
    }
   ],
   "source": [
    "type(X_train), type(X_test), type(y_train), type(y_test)"
   ]
  },
  {
   "cell_type": "code",
   "execution_count": 28,
   "metadata": {
    "colab": {
     "base_uri": "https://localhost:8080/"
    },
    "id": "KiuxyQPwPw4j",
    "outputId": "44143fc6-a855-4e1c-b2a1-f70ea3d1641c"
   },
   "outputs": [
    {
     "data": {
      "text/plain": [
       "((970291,), (242573,))"
      ]
     },
     "execution_count": 28,
     "metadata": {},
     "output_type": "execute_result"
    }
   ],
   "source": [
    "y_train.shape, y_test.shape"
   ]
  },
  {
   "cell_type": "code",
   "execution_count": 29,
   "metadata": {
    "colab": {
     "base_uri": "https://localhost:8080/"
    },
    "id": "8RfRhCX2Rmj0",
    "outputId": "0e4ba2e3-817e-42ec-8ffb-8937db00ead9"
   },
   "outputs": [
    {
     "data": {
      "text/plain": [
       "0         0\n",
       "1         0\n",
       "2         0\n",
       "3         0\n",
       "4         0\n",
       "         ..\n",
       "970286    1\n",
       "970287    1\n",
       "970288    0\n",
       "970289    0\n",
       "970290    0\n",
       "Name: Label, Length: 970291, dtype: int64"
      ]
     },
     "execution_count": 29,
     "metadata": {},
     "output_type": "execute_result"
    }
   ],
   "source": [
    "y_train"
   ]
  },
  {
   "cell_type": "markdown",
   "metadata": {
    "id": "R3kyd1aJPpJw"
   },
   "source": [
    "# to categorical data"
   ]
  },
  {
   "cell_type": "code",
   "execution_count": 30,
   "metadata": {
    "id": "yRtB1umCC4ka"
   },
   "outputs": [],
   "source": [
    "y_train = to_categorical(y_train)\n",
    "y_test = to_categorical(y_test)"
   ]
  },
  {
   "cell_type": "code",
   "execution_count": 31,
   "metadata": {
    "colab": {
     "base_uri": "https://localhost:8080/"
    },
    "id": "8SyfHIUaP8yl",
    "outputId": "cbd19024-06ed-4252-da5f-59845aa19d27"
   },
   "outputs": [
    {
     "data": {
      "text/plain": [
       "((970291, 2), (242573, 2))"
      ]
     },
     "execution_count": 31,
     "metadata": {},
     "output_type": "execute_result"
    }
   ],
   "source": [
    "y_train.shape, y_test.shape"
   ]
  },
  {
   "cell_type": "code",
   "execution_count": 32,
   "metadata": {
    "colab": {
     "base_uri": "https://localhost:8080/"
    },
    "id": "jt8Ra8g5Q8Ks",
    "outputId": "1e1b6fed-0cb5-4a41-c13a-d7ef59d4521d"
   },
   "outputs": [
    {
     "data": {
      "text/plain": [
       "(numpy.ndarray, numpy.ndarray)"
      ]
     },
     "execution_count": 32,
     "metadata": {},
     "output_type": "execute_result"
    }
   ],
   "source": [
    "type(y_train), type(y_test)"
   ]
  },
  {
   "cell_type": "code",
   "execution_count": 33,
   "metadata": {
    "id": "haCU5wT4RwpU"
   },
   "outputs": [],
   "source": [
    "# changing dataframe into numpy array\n",
    "X_train = X_train.to_numpy()\n",
    "X_test = X_test.to_numpy()"
   ]
  },
  {
   "cell_type": "code",
   "execution_count": 34,
   "metadata": {
    "colab": {
     "base_uri": "https://localhost:8080/"
    },
    "id": "nKznT-cOR389",
    "outputId": "7ffc9c35-cec2-4880-b7a3-df994f2588fc"
   },
   "outputs": [
    {
     "data": {
      "text/plain": [
       "((970291, 40), (242573, 40))"
      ]
     },
     "execution_count": 34,
     "metadata": {},
     "output_type": "execute_result"
    }
   ],
   "source": [
    "X_train.shape, X_test.shape"
   ]
  },
  {
   "cell_type": "code",
   "execution_count": 35,
   "metadata": {
    "colab": {
     "base_uri": "https://localhost:8080/"
    },
    "id": "vkQKImcgRBP9",
    "outputId": "f5093c80-16dc-449e-9320-769448a157ec"
   },
   "outputs": [
    {
     "data": {
      "text/plain": [
       "(numpy.ndarray, numpy.ndarray, numpy.ndarray, numpy.ndarray)"
      ]
     },
     "execution_count": 35,
     "metadata": {},
     "output_type": "execute_result"
    }
   ],
   "source": [
    "type(X_train), type(y_train), type(y_train), type(y_test)"
   ]
  },
  {
   "cell_type": "markdown",
   "metadata": {
    "id": "zu08uyvwCaN6"
   },
   "source": [
    "# Re shaping train and test dataset for CNN"
   ]
  },
  {
   "cell_type": "code",
   "execution_count": 36,
   "metadata": {
    "colab": {
     "base_uri": "https://localhost:8080/"
    },
    "id": "MymfIHsjCgKC",
    "outputId": "bc9efda2-7f8a-48aa-9db3-5903c4640c7f"
   },
   "outputs": [
    {
     "data": {
      "text/plain": [
       "((970291, 40), (970291, 2), (242573, 40), (242573, 2))"
      ]
     },
     "execution_count": 36,
     "metadata": {},
     "output_type": "execute_result"
    }
   ],
   "source": [
    "X_train.shape, y_train.shape, X_test.shape, y_test.shape"
   ]
  },
  {
   "cell_type": "code",
   "execution_count": 37,
   "metadata": {
    "colab": {
     "base_uri": "https://localhost:8080/"
    },
    "id": "oHsBEypDDIg-",
    "outputId": "927c4c08-efb3-47be-f104-4536dc4920db"
   },
   "outputs": [
    {
     "data": {
      "text/plain": [
       "((970291, 40, 1), (242573, 40, 1))"
      ]
     },
     "execution_count": 37,
     "metadata": {},
     "output_type": "execute_result"
    }
   ],
   "source": [
    "X_train = X_train.reshape(X_train.shape[0], X_train.shape[1],1)\n",
    "X_test = X_test.reshape(X_test.shape[0], X_test.shape[1],1)\n",
    "\n",
    "X_train.shape, X_test.shape"
   ]
  },
  {
   "cell_type": "code",
   "execution_count": 38,
   "metadata": {
    "colab": {
     "base_uri": "https://localhost:8080/"
    },
    "id": "C2JLFp4lDX8a",
    "outputId": "e5fb791d-3d54-43f0-b1f7-0befb4ad48ab"
   },
   "outputs": [
    {
     "data": {
      "text/plain": [
       "970291"
      ]
     },
     "execution_count": 38,
     "metadata": {},
     "output_type": "execute_result"
    }
   ],
   "source": [
    "len(X_train)"
   ]
  },
  {
   "cell_type": "markdown",
   "metadata": {
    "id": "EqwuLJvTEQc8"
   },
   "source": [
    "# Building a first simple CNN Model"
   ]
  },
  {
   "cell_type": "code",
   "execution_count": 39,
   "metadata": {
    "colab": {
     "base_uri": "https://localhost:8080/"
    },
    "id": "2D8GuHA5ETdc",
    "outputId": "3da09f9f-79a9-4615-9eb5-e4988347cbac"
   },
   "outputs": [
    {
     "name": "stderr",
     "output_type": "stream",
     "text": [
      "2023-07-24 06:29:24.654273: I tensorflow/core/common_runtime/gpu/gpu_device.cc:1635] Created device /job:localhost/replica:0/task:0/device:GPU:0 with 10252 MB memory:  -> device: 0, name: NVIDIA GeForce RTX 3080 Ti, pci bus id: 0000:00:10.0, compute capability: 8.6\n"
     ]
    },
    {
     "name": "stdout",
     "output_type": "stream",
     "text": [
      "Model: \"sequential\"\n",
      "_________________________________________________________________\n",
      " Layer (type)                Output Shape              Param #   \n",
      "=================================================================\n",
      " conv1d (Conv1D)             (None, 38, 32)            128       \n",
      "                                                                 \n",
      " max_pooling1d (MaxPooling1D  (None, 19, 32)           0         \n",
      " )                                                               \n",
      "                                                                 \n",
      " dropout (Dropout)           (None, 19, 32)            0         \n",
      "                                                                 \n",
      " conv1d_1 (Conv1D)           (None, 17, 64)            6208      \n",
      "                                                                 \n",
      " max_pooling1d_1 (MaxPooling  (None, 8, 64)            0         \n",
      " 1D)                                                             \n",
      "                                                                 \n",
      " conv1d_2 (Conv1D)           (None, 6, 128)            24704     \n",
      "                                                                 \n",
      " max_pooling1d_2 (MaxPooling  (None, 3, 128)           0         \n",
      " 1D)                                                             \n",
      "                                                                 \n",
      " dropout_1 (Dropout)         (None, 3, 128)            0         \n",
      "                                                                 \n",
      " lstm (LSTM)                 (None, 128)               131584    \n",
      "                                                                 \n",
      " dense (Dense)               (None, 2)                 258       \n",
      "                                                                 \n",
      "=================================================================\n",
      "Total params: 162,882\n",
      "Trainable params: 162,882\n",
      "Non-trainable params: 0\n",
      "_________________________________________________________________\n"
     ]
    },
    {
     "name": "stderr",
     "output_type": "stream",
     "text": [
      "2023-07-24 06:29:25.274659: I tensorflow/core/common_runtime/executor.cc:1197] [/device:CPU:0] (DEBUG INFO) Executor start aborting (this does not indicate an error and you can ignore this message): INVALID_ARGUMENT: You must feed a value for placeholder tensor 'gradients/split_2_grad/concat/split_2/split_dim' with dtype int32\n",
      "\t [[{{node gradients/split_2_grad/concat/split_2/split_dim}}]]\n",
      "2023-07-24 06:29:25.276151: I tensorflow/core/common_runtime/executor.cc:1197] [/device:CPU:0] (DEBUG INFO) Executor start aborting (this does not indicate an error and you can ignore this message): INVALID_ARGUMENT: You must feed a value for placeholder tensor 'gradients/split_grad/concat/split/split_dim' with dtype int32\n",
      "\t [[{{node gradients/split_grad/concat/split/split_dim}}]]\n",
      "2023-07-24 06:29:25.278011: I tensorflow/core/common_runtime/executor.cc:1197] [/device:CPU:0] (DEBUG INFO) Executor start aborting (this does not indicate an error and you can ignore this message): INVALID_ARGUMENT: You must feed a value for placeholder tensor 'gradients/split_1_grad/concat/split_1/split_dim' with dtype int32\n",
      "\t [[{{node gradients/split_1_grad/concat/split_1/split_dim}}]]\n"
     ]
    }
   ],
   "source": [
    "def model4():\n",
    "  model = Sequential()\n",
    "  model.add(Conv1D(filters=32, kernel_size = 3, activation='relu', input_shape=(40, 1)))\n",
    "  model.add(MaxPooling1D(pool_size=(2)))\n",
    "  model.add(Dropout(0.25))\n",
    "\n",
    "  model.add(Conv1D(filters=64, kernel_size = 3, activation='relu', input_shape=(40, 1)))\n",
    "  model.add(MaxPooling1D(pool_size=(2)))\n",
    "\n",
    "  model.add(Conv1D(filters=128, kernel_size = 3, activation='relu', input_shape=(40, 1)))\n",
    "  model.add(MaxPooling1D(pool_size=(2)))\n",
    "  model.add(Dropout(0.25))\n",
    "\n",
    "\n",
    "  model.add(LSTM(128))\n",
    "  \n",
    "  model.add(Dense(2, activation='softmax'))\n",
    "\n",
    "  model.compile(loss='categorical_crossentropy',\n",
    "                optimizer='adam',\n",
    "                metrics=['accuracy'])\n",
    "\n",
    "  return model\n",
    "\n",
    "\n",
    "model = model4()\n",
    "model.summary()"
   ]
  },
  {
   "cell_type": "code",
   "execution_count": 40,
   "metadata": {
    "id": "DU0x3EDrVarO"
   },
   "outputs": [],
   "source": [
    "# model parameters\n",
    "epochs = 20\n",
    "batch_size = 64"
   ]
  },
  {
   "cell_type": "markdown",
   "metadata": {
    "id": "8YkZ4jjBJT8A"
   },
   "source": [
    "# Training the model\n"
   ]
  },
  {
   "cell_type": "code",
   "execution_count": 41,
   "metadata": {
    "colab": {
     "base_uri": "https://localhost:8080/"
    },
    "id": "bJkN2jEHJWbh",
    "outputId": "ffd61308-13ba-4dab-8d90-684a21d7a9d3"
   },
   "outputs": [
    {
     "name": "stdout",
     "output_type": "stream",
     "text": [
      "Epoch 1/20\n"
     ]
    },
    {
     "name": "stderr",
     "output_type": "stream",
     "text": [
      "2023-07-24 06:29:28.421976: I tensorflow/core/common_runtime/executor.cc:1197] [/device:CPU:0] (DEBUG INFO) Executor start aborting (this does not indicate an error and you can ignore this message): INVALID_ARGUMENT: You must feed a value for placeholder tensor 'gradients/split_2_grad/concat/split_2/split_dim' with dtype int32\n",
      "\t [[{{node gradients/split_2_grad/concat/split_2/split_dim}}]]\n",
      "2023-07-24 06:29:28.423792: I tensorflow/core/common_runtime/executor.cc:1197] [/device:CPU:0] (DEBUG INFO) Executor start aborting (this does not indicate an error and you can ignore this message): INVALID_ARGUMENT: You must feed a value for placeholder tensor 'gradients/split_grad/concat/split/split_dim' with dtype int32\n",
      "\t [[{{node gradients/split_grad/concat/split/split_dim}}]]\n",
      "2023-07-24 06:29:28.425731: I tensorflow/core/common_runtime/executor.cc:1197] [/device:CPU:0] (DEBUG INFO) Executor start aborting (this does not indicate an error and you can ignore this message): INVALID_ARGUMENT: You must feed a value for placeholder tensor 'gradients/split_1_grad/concat/split_1/split_dim' with dtype int32\n",
      "\t [[{{node gradients/split_1_grad/concat/split_1/split_dim}}]]\n",
      "2023-07-24 06:29:29.393394: I tensorflow/core/common_runtime/executor.cc:1197] [/device:CPU:0] (DEBUG INFO) Executor start aborting (this does not indicate an error and you can ignore this message): INVALID_ARGUMENT: You must feed a value for placeholder tensor 'gradients/split_2_grad/concat/split_2/split_dim' with dtype int32\n",
      "\t [[{{node gradients/split_2_grad/concat/split_2/split_dim}}]]\n",
      "2023-07-24 06:29:29.395795: I tensorflow/core/common_runtime/executor.cc:1197] [/device:CPU:0] (DEBUG INFO) Executor start aborting (this does not indicate an error and you can ignore this message): INVALID_ARGUMENT: You must feed a value for placeholder tensor 'gradients/split_grad/concat/split/split_dim' with dtype int32\n",
      "\t [[{{node gradients/split_grad/concat/split/split_dim}}]]\n",
      "2023-07-24 06:29:29.397267: I tensorflow/core/common_runtime/executor.cc:1197] [/device:CPU:0] (DEBUG INFO) Executor start aborting (this does not indicate an error and you can ignore this message): INVALID_ARGUMENT: You must feed a value for placeholder tensor 'gradients/split_1_grad/concat/split_1/split_dim' with dtype int32\n",
      "\t [[{{node gradients/split_1_grad/concat/split_1/split_dim}}]]\n",
      "2023-07-24 06:29:30.231667: I tensorflow/compiler/xla/stream_executor/cuda/cuda_dnn.cc:424] Loaded cuDNN version 8600\n",
      "2023-07-24 06:29:30.634829: I tensorflow/compiler/xla/stream_executor/cuda/cuda_blas.cc:637] TensorFloat-32 will be used for the matrix multiplication. This will only be logged once.\n",
      "2023-07-24 06:29:30.669553: I tensorflow/compiler/xla/service/service.cc:169] XLA service 0x7f9d38021f80 initialized for platform CUDA (this does not guarantee that XLA will be used). Devices:\n",
      "2023-07-24 06:29:30.669632: I tensorflow/compiler/xla/service/service.cc:177]   StreamExecutor device (0): NVIDIA GeForce RTX 3080 Ti, Compute Capability 8.6\n",
      "2023-07-24 06:29:30.678013: I tensorflow/compiler/mlir/tensorflow/utils/dump_mlir_util.cc:269] disabling MLIR crash reproducer, set env var `MLIR_CRASH_REPRODUCER_DIRECTORY` to enable.\n",
      "2023-07-24 06:29:30.867387: I ./tensorflow/compiler/jit/device_compiler.h:180] Compiled cluster using XLA!  This line is logged at most once for the lifetime of the process.\n"
     ]
    },
    {
     "name": "stdout",
     "output_type": "stream",
     "text": [
      "12129/12129 [==============================] - ETA: 0s - loss: 0.0599 - accuracy: 0.9758"
     ]
    },
    {
     "name": "stderr",
     "output_type": "stream",
     "text": [
      "2023-07-24 06:32:17.598491: I tensorflow/core/common_runtime/executor.cc:1197] [/device:CPU:0] (DEBUG INFO) Executor start aborting (this does not indicate an error and you can ignore this message): INVALID_ARGUMENT: You must feed a value for placeholder tensor 'gradients/split_2_grad/concat/split_2/split_dim' with dtype int32\n",
      "\t [[{{node gradients/split_2_grad/concat/split_2/split_dim}}]]\n",
      "2023-07-24 06:32:17.600568: I tensorflow/core/common_runtime/executor.cc:1197] [/device:CPU:0] (DEBUG INFO) Executor start aborting (this does not indicate an error and you can ignore this message): INVALID_ARGUMENT: You must feed a value for placeholder tensor 'gradients/split_grad/concat/split/split_dim' with dtype int32\n",
      "\t [[{{node gradients/split_grad/concat/split/split_dim}}]]\n",
      "2023-07-24 06:32:17.602559: I tensorflow/core/common_runtime/executor.cc:1197] [/device:CPU:0] (DEBUG INFO) Executor start aborting (this does not indicate an error and you can ignore this message): INVALID_ARGUMENT: You must feed a value for placeholder tensor 'gradients/split_1_grad/concat/split_1/split_dim' with dtype int32\n",
      "\t [[{{node gradients/split_1_grad/concat/split_1/split_dim}}]]\n"
     ]
    },
    {
     "name": "stdout",
     "output_type": "stream",
     "text": [
      "12129/12129 [==============================] - 186s 15ms/step - loss: 0.0599 - accuracy: 0.9758 - val_loss: 0.0393 - val_accuracy: 0.9833\n",
      "Epoch 2/20\n",
      "12129/12129 [==============================] - 177s 15ms/step - loss: 0.0406 - accuracy: 0.9832 - val_loss: 0.0359 - val_accuracy: 0.9852\n",
      "Epoch 3/20\n",
      " 6028/12129 [=============>................] - ETA: 1:22 - loss: 0.0380 - accuracy: 0.9841"
     ]
    },
    {
     "name": "stderr",
     "output_type": "stream",
     "text": [
      "IOPub message rate exceeded.\n",
      "The notebook server will temporarily stop sending output\n",
      "to the client in order to avoid crashing it.\n",
      "To change this limit, set the config variable\n",
      "`--NotebookApp.iopub_msg_rate_limit`.\n",
      "\n",
      "Current values:\n",
      "NotebookApp.iopub_msg_rate_limit=1000.0 (msgs/sec)\n",
      "NotebookApp.rate_limit_window=3.0 (secs)\n",
      "\n"
     ]
    },
    {
     "name": "stdout",
     "output_type": "stream",
     "text": [
      "12129/12129 [==============================] - 177s 15ms/step - loss: 0.0376 - accuracy: 0.9841 - val_loss: 0.0328 - val_accuracy: 0.9858\n",
      "Epoch 4/20\n",
      "12129/12129 [==============================] - 177s 15ms/step - loss: 0.0358 - accuracy: 0.9846 - val_loss: 0.0326 - val_accuracy: 0.9855\n",
      "Epoch 5/20\n",
      "12129/12129 [==============================] - 177s 15ms/step - loss: 0.0349 - accuracy: 0.9850 - val_loss: 0.0305 - val_accuracy: 0.9865\n",
      "Epoch 6/20\n",
      "12129/12129 [==============================] - 174s 14ms/step - loss: 0.0340 - accuracy: 0.9852 - val_loss: 0.0307 - val_accuracy: 0.9864\n",
      "Epoch 7/20\n",
      "12129/12129 [==============================] - 174s 14ms/step - loss: 0.0334 - accuracy: 0.9856 - val_loss: 0.0306 - val_accuracy: 0.9862\n",
      "Epoch 8/20\n",
      "12129/12129 [==============================] - 179s 15ms/step - loss: 0.0331 - accuracy: 0.9856 - val_loss: 0.0306 - val_accuracy: 0.9864\n",
      "Epoch 9/20\n",
      "12129/12129 [==============================] - 179s 15ms/step - loss: 0.0326 - accuracy: 0.9860 - val_loss: 0.0289 - val_accuracy: 0.9874\n",
      "Epoch 10/20\n",
      "12129/12129 [==============================] - 173s 14ms/step - loss: 0.0323 - accuracy: 0.9860 - val_loss: 0.0297 - val_accuracy: 0.9888\n",
      "Epoch 11/20\n",
      "12129/12129 [==============================] - 178s 15ms/step - loss: 0.0317 - accuracy: 0.9865 - val_loss: 0.0280 - val_accuracy: 0.9877\n",
      "Epoch 12/20\n",
      "12129/12129 [==============================] - 174s 14ms/step - loss: 0.0314 - accuracy: 0.9865 - val_loss: 0.0275 - val_accuracy: 0.9893\n",
      "Epoch 13/20\n",
      "12129/12129 [==============================] - 177s 15ms/step - loss: 0.0310 - accuracy: 0.9867 - val_loss: 0.0283 - val_accuracy: 0.9866\n",
      "Epoch 14/20\n",
      "  594/12129 [>.............................] - ETA: 2:26 - loss: 0.0291 - accuracy: 0.9879"
     ]
    },
    {
     "name": "stderr",
     "output_type": "stream",
     "text": [
      "IOPub message rate exceeded.\n",
      "The notebook server will temporarily stop sending output\n",
      "to the client in order to avoid crashing it.\n",
      "To change this limit, set the config variable\n",
      "`--NotebookApp.iopub_msg_rate_limit`.\n",
      "\n",
      "Current values:\n",
      "NotebookApp.iopub_msg_rate_limit=1000.0 (msgs/sec)\n",
      "NotebookApp.rate_limit_window=3.0 (secs)\n",
      "\n"
     ]
    },
    {
     "name": "stdout",
     "output_type": "stream",
     "text": [
      "12129/12129 [==============================] - 177s 15ms/step - loss: 0.0306 - accuracy: 0.9870 - val_loss: 0.0269 - val_accuracy: 0.9886\n",
      "Epoch 16/20\n",
      " 9732/12129 [=======================>......] - ETA: 32s - loss: 0.0304 - accuracy: 0.9873"
     ]
    },
    {
     "name": "stderr",
     "output_type": "stream",
     "text": [
      "IOPub message rate exceeded.\n",
      "The notebook server will temporarily stop sending output\n",
      "to the client in order to avoid crashing it.\n",
      "To change this limit, set the config variable\n",
      "`--NotebookApp.iopub_msg_rate_limit`.\n",
      "\n",
      "Current values:\n",
      "NotebookApp.iopub_msg_rate_limit=1000.0 (msgs/sec)\n",
      "NotebookApp.rate_limit_window=3.0 (secs)\n",
      "\n"
     ]
    }
   ],
   "source": [
    "# checkpoint_filepath = 'logCNNLSTM/checkpoint-{epoch:02d}-{val_loss:.3f}.hdf5'\n",
    "# my_callbacks = [\n",
    "# #     tf.keras.callbacks.EarlyStopping(patience=6),\n",
    "#     tf.keras.callbacks.ModelCheckpoint(checkpoint_filepath),\n",
    "#     tf.keras.callbacks.CSVLogger('logger/cnnLSTM1.csv',separator=',', append=False)\n",
    "# #     tf.keras.callbacks.TensorBoard(log_dir='./logs'),\n",
    "# ]\n",
    "history1 = model.fit(X_train,\n",
    "                     y_train,\n",
    "                     epochs = epochs,\n",
    "                     batch_size = batch_size,\n",
    "                     validation_split = 0.2,\n",
    "                    #  validation_data = (X_val, y_val),\n",
    "#                      callbacks=[my_callbacks]\n",
    "                     )\n",
    "model.save('cnnLSTM1_binaryClass_20epoch.h5')\n",
    "\n"
   ]
  },
  {
   "cell_type": "code",
   "execution_count": 42,
   "metadata": {
    "colab": {
     "base_uri": "https://localhost:8080/"
    },
    "id": "6Rrygt9lVpUj",
    "outputId": "3e99299c-3eb7-4974-bd64-c891c928d787"
   },
   "outputs": [
    {
     "data": {
      "text/plain": [
       "dict_keys(['loss', 'accuracy', 'val_loss', 'val_accuracy'])"
      ]
     },
     "execution_count": 42,
     "metadata": {},
     "output_type": "execute_result"
    }
   ],
   "source": [
    " #check history of model\n",
    "history = history1.history\n",
    "history.keys()"
   ]
  },
  {
   "cell_type": "code",
   "execution_count": 43,
   "metadata": {
    "colab": {
     "base_uri": "https://localhost:8080/",
     "height": 545
    },
    "id": "YexqJeWdJwuu",
    "outputId": "54b0fa92-4dea-4150-f409-c6fbff0b4de6"
   },
   "outputs": [
    {
     "data": {
      "image/png": "[encoded data removed]",
      "text/plain": [
       "<Figure size 1000x600 with 2 Axes>"
      ]
     },
     "metadata": {},
     "output_type": "display_data"
    }
   ],
   "source": [
    "epochs = history1.history['loss']\n",
    "acc = history1.history['accuracy']\n",
    "val_acc = history1.history['val_accuracy']\n",
    "\n",
    "loss = history1.history['loss']\n",
    "val_loss = history1.history['val_loss']\n",
    "\n",
    "epochs_range = range(len(loss))\n",
    "\n",
    "plt.figure(figsize=(10, 6), dpi=100)\n",
    "plt.subplot(2, 1, 1)\n",
    "plt.plot(epochs_range, acc, label='Training Accuracy')\n",
    "plt.plot(epochs_range, val_acc, label='Validation Accuracy')\n",
    "plt.legend(loc='lower right')\n",
    "plt.title('Training and Validation Accuracy')\n",
    "\n",
    "plt.subplot(2, 1, 2)\n",
    "plt.plot(epochs_range, loss, label='Training Loss')\n",
    "plt.plot(epochs_range, val_loss, label='Validation Loss')\n",
    "plt.legend(loc='upper right')\n",
    "plt.title('Training and Validation Loss')\n",
    "plt.savefig(\"graph_CNNLSTM1_20_epoch.png\")\n",
    "plt.show()"
   ]
  },
  {
   "cell_type": "code",
   "execution_count": null,
   "metadata": {
    "id": "upuK43PySMGZ"
   },
   "outputs": [],
   "source": []
  },
  {
   "cell_type": "markdown",
   "metadata": {
    "id": "joCvhEHiTCGe"
   },
   "source": [
    "# Prediction"
   ]
  },
  {
   "cell_type": "code",
   "execution_count": 44,
   "metadata": {
    "colab": {
     "base_uri": "https://localhost:8080/"
    },
    "id": "71EoIg6GTECl",
    "outputId": "086c42a5-56f6-4491-ce61-d2ce847e2329"
   },
   "outputs": [
    {
     "name": "stdout",
     "output_type": "stream",
     "text": [
      "7581/7581 [==============================] - 45s 6ms/step - loss: 0.0263 - accuracy: 0.9890\n",
      "accuracy: 98.90%\n"
     ]
    }
   ],
   "source": [
    "#  check the model performance on test data\n",
    "scores = model.evaluate(X_test, y_test)\n",
    "print(\"%s: %.2f%%\" % (model.metrics_names[1], scores[1] * 100))"
   ]
  },
  {
   "cell_type": "code",
   "execution_count": 45,
   "metadata": {
    "colab": {
     "base_uri": "https://localhost:8080/"
    },
    "id": "o0rXHOeRTH3L",
    "outputId": "3793ffc6-9257-4b71-cc4f-4e5cdc7c6dc4"
   },
   "outputs": [
    {
     "name": "stdout",
     "output_type": "stream",
     "text": [
      "Test loss: 0.026346908882260323\n",
      "Test accuracy: 0.9889600276947021\n"
     ]
    }
   ],
   "source": [
    "print('Test loss:', scores[0])\n",
    "print('Test accuracy:', scores[1])"
   ]
  },
  {
   "cell_type": "code",
   "execution_count": 46,
   "metadata": {
    "colab": {
     "base_uri": "https://localhost:8080/"
    },
    "id": "hGL1kWViTVAj",
    "outputId": "de05c02e-cd4a-42d2-a1bf-46010626fd73"
   },
   "outputs": [
    {
     "name": "stdout",
     "output_type": "stream",
     "text": [
      "  12/7581 [..............................] - ETA: 35s  "
     ]
    },
    {
     "name": "stderr",
     "output_type": "stream",
     "text": [
      "2023-07-24 08:10:03.353159: I tensorflow/core/common_runtime/executor.cc:1197] [/device:CPU:0] (DEBUG INFO) Executor start aborting (this does not indicate an error and you can ignore this message): INVALID_ARGUMENT: You must feed a value for placeholder tensor 'gradients/split_2_grad/concat/split_2/split_dim' with dtype int32\n",
      "\t [[{{node gradients/split_2_grad/concat/split_2/split_dim}}]]\n",
      "2023-07-24 08:10:03.354732: I tensorflow/core/common_runtime/executor.cc:1197] [/device:CPU:0] (DEBUG INFO) Executor start aborting (this does not indicate an error and you can ignore this message): INVALID_ARGUMENT: You must feed a value for placeholder tensor 'gradients/split_grad/concat/split/split_dim' with dtype int32\n",
      "\t [[{{node gradients/split_grad/concat/split/split_dim}}]]\n",
      "2023-07-24 08:10:03.356781: I tensorflow/core/common_runtime/executor.cc:1197] [/device:CPU:0] (DEBUG INFO) Executor start aborting (this does not indicate an error and you can ignore this message): INVALID_ARGUMENT: You must feed a value for placeholder tensor 'gradients/split_1_grad/concat/split_1/split_dim' with dtype int32\n",
      "\t [[{{node gradients/split_1_grad/concat/split_1/split_dim}}]]\n"
     ]
    },
    {
     "name": "stdout",
     "output_type": "stream",
     "text": [
      "7581/7581 [==============================] - 33s 4ms/step\n"
     ]
    }
   ],
   "source": [
    "# predict\n",
    "predictions = model.predict(X_test)\n"
   ]
  },
  {
   "cell_type": "code",
   "execution_count": 47,
   "metadata": {
    "colab": {
     "base_uri": "https://localhost:8080/"
    },
    "id": "sGFwlE0qY0d2",
    "outputId": "6c387f2e-f0b8-48a4-97bc-67effcc57c88"
   },
   "outputs": [
    {
     "data": {
      "text/plain": [
       "(242573, 2)"
      ]
     },
     "execution_count": 47,
     "metadata": {},
     "output_type": "execute_result"
    }
   ],
   "source": [
    "predictions.shape"
   ]
  },
  {
   "cell_type": "code",
   "execution_count": 48,
   "metadata": {
    "colab": {
     "base_uri": "https://localhost:8080/"
    },
    "id": "PqyvNSyyT_9I",
    "outputId": "7aa22c20-88e8-4f96-8501-9288d8d0f2f7"
   },
   "outputs": [
    {
     "name": "stdout",
     "output_type": "stream",
     "text": [
      "Predicted Class: [0 1 0 0 0 0 0 0 1 0 0 0 0 0 0 0 0 0 0 0]\n",
      "Actual label: [0 1 0 0 0 0 0 0 1 0 0 0 0 0 0 0 0 0 0 0]\n"
     ]
    }
   ],
   "source": [
    "pred = np.argmax(predictions, axis = 1)[:20]\n",
    "label = np.argmax(y_test,axis = 1)[:20]\n",
    "print(\"Predicted Class: {}\".format(pred))\n",
    "print(\"Actual label: {}\".format(label))"
   ]
  },
  {
   "cell_type": "code",
   "execution_count": null,
   "metadata": {
    "id": "krbgxPhBYiI9"
   },
   "outputs": [],
   "source": []
  },
  {
   "cell_type": "markdown",
   "metadata": {
    "id": "hM7wWuPVZZY1"
   },
   "source": [
    "# Confustion Matrix"
   ]
  },
  {
   "cell_type": "code",
   "execution_count": 49,
   "metadata": {
    "colab": {
     "base_uri": "https://localhost:8080/",
     "height": 523
    },
    "id": "wWkwwEsWZbbW",
    "outputId": "b801c414-7411-4ae6-8994-6bf263e5ae80"
   },
   "outputs": [
    {
     "name": "stdout",
     "output_type": "stream",
     "text": [
      "7581/7581 [==============================] - 36s 5ms/step\n"
     ]
    },
    {
     "data": {
      "image/png": "[encoded data removed]",
      "text/plain": [
       "<Figure size 640x480 with 2 Axes>"
      ]
     },
     "metadata": {},
     "output_type": "display_data"
    }
   ],
   "source": [
    "# Function to plot confusion matrix\n",
    "def plot_confusion_matrix(cm, classes,\n",
    "                          normalize=False,\n",
    "                          title='Confusion matrix',\n",
    "                          cmap=plt.cm.Blues):\n",
    "    \"\"\"\n",
    "    This function prints and plots the confusion matrix.\n",
    "    Normalization can be applied by setting `normalize=True`.\n",
    "    \"\"\"\n",
    "    plt.imshow(cm, interpolation='nearest', cmap=cmap)\n",
    "    plt.title(title)\n",
    "    plt.colorbar()\n",
    "    tick_marks = np.arange(len(classes))\n",
    "    plt.xticks(tick_marks, classes, rotation=45)\n",
    "    plt.yticks(tick_marks, classes)\n",
    "\n",
    "    if normalize:\n",
    "        cm = cm.astype('float') / cm.sum(axis=1)[:, np.newaxis]\n",
    "\n",
    "    thresh = cm.max() / 2.\n",
    "    for i, j in itertools.product(range(cm.shape[0]), range(cm.shape[1])):\n",
    "        plt.text(j, i, cm[i, j],\n",
    "                 horizontalalignment=\"center\",\n",
    "                 color=\"white\" if cm[i, j] > thresh else \"black\")\n",
    "\n",
    "    plt.tight_layout()\n",
    "    plt.ylabel('True label')\n",
    "    plt.xlabel('Predicted label')\n",
    "\n",
    "# Predict the values from the validation dataset\n",
    "Y_pred = model.predict(X_test)\n",
    "# Convert predictions classes to one hot vectors\n",
    "Y_pred_classes = np.argmax(Y_pred,axis = 1)\n",
    "# Convert validation observations to one hot vectors\n",
    "Y_true = np.argmax(y_test,axis = 1)\n",
    "# compute the confusion matrix\n",
    "confusion_mtx = confusion_matrix(Y_true, Y_pred_classes)\n",
    "\n",
    "\n",
    "\n",
    "# plot the confusion matrix\n",
    "plot_confusion_matrix(confusion_mtx, classes = range(2))"
   ]
  },
  {
   "cell_type": "code",
   "execution_count": null,
   "metadata": {
    "id": "rJmedIY9ZrAZ"
   },
   "outputs": [],
   "source": []
  },
  {
   "cell_type": "markdown",
   "metadata": {
    "id": "kk-IKK7SaEKv"
   },
   "source": [
    "# Now, lets which category has much incorrect predictions"
   ]
  },
  {
   "cell_type": "code",
   "execution_count": 50,
   "metadata": {
    "colab": {
     "base_uri": "https://localhost:8080/",
     "height": 466
    },
    "id": "Q_vMsrT8aFEU",
    "outputId": "b7b96446-995e-4d3b-d6cd-c564b0660330"
   },
   "outputs": [
    {
     "data": {
      "text/plain": [
       "Text(0, 0.5, 'Fraction classified incorrectly')"
      ]
     },
     "execution_count": 50,
     "metadata": {},
     "output_type": "execute_result"
    },
    {
     "data": {
      "image/png": "[encoded data removed]",
      "text/plain": [
       "<Figure size 640x480 with 1 Axes>"
      ]
     },
     "metadata": {},
     "output_type": "display_data"
    }
   ],
   "source": [
    "label_frac_error = 1 - np.diag(confusion_mtx) / np.sum(confusion_mtx, axis=1)\n",
    "plt.bar(np.arange(2),label_frac_error)\n",
    "plt.xlabel('True Label')\n",
    "plt.ylabel('Fraction classified incorrectly')"
   ]
  },
  {
   "cell_type": "code",
   "execution_count": null,
   "metadata": {
    "id": "67eGecY0aHlS"
   },
   "outputs": [],
   "source": []
  },
  {
   "cell_type": "markdown",
   "metadata": {
    "id": "fGby8wJKa5ul"
   },
   "source": [
    "# Classificaiton report"
   ]
  },
  {
   "cell_type": "code",
   "execution_count": 51,
   "metadata": {
    "colab": {
     "base_uri": "https://localhost:8080/"
    },
    "id": "7OkWAKDua7Yu",
    "outputId": "17ddcc23-cdd4-42c2-b776-31babad2ee76"
   },
   "outputs": [
    {
     "data": {
      "text/plain": [
       "array([[202364,   1078],\n",
       "       [  1600,  37531]])"
      ]
     },
     "execution_count": 51,
     "metadata": {},
     "output_type": "execute_result"
    }
   ],
   "source": [
    "confusion_mtx"
   ]
  },
  {
   "cell_type": "code",
   "execution_count": 52,
   "metadata": {
    "colab": {
     "base_uri": "https://localhost:8080/"
    },
    "id": "nzZu2DxvcxhY",
    "outputId": "4afe6904-4640-4556-f93f-cec785074108"
   },
   "outputs": [
    {
     "data": {
      "text/plain": [
       "(2, 2)"
      ]
     },
     "execution_count": 52,
     "metadata": {},
     "output_type": "execute_result"
    }
   ],
   "source": [
    "confusion_mtx.shape"
   ]
  },
  {
   "cell_type": "code",
   "execution_count": 53,
   "metadata": {
    "colab": {
     "base_uri": "https://localhost:8080/"
    },
    "id": "PKakr4LjeGqc",
    "outputId": "d112be4d-441f-43da-c74f-5daf773a61e4"
   },
   "outputs": [
    {
     "name": "stdout",
     "output_type": "stream",
     "text": [
      "7581/7581 [==============================] - 33s 4ms/step\n",
      "Confusion Matrix\n",
      "[[202364   1078]\n",
      " [  1600  37531]]\n"
     ]
    }
   ],
   "source": [
    "y_test_arg=np.argmax(y_test,axis=1)\n",
    "Y_pred = np.argmax(model.predict(X_test),axis=1)\n",
    "print('Confusion Matrix')\n",
    "print(confusion_matrix(y_test_arg, Y_pred))"
   ]
  },
  {
   "cell_type": "code",
   "execution_count": 54,
   "metadata": {
    "colab": {
     "base_uri": "https://localhost:8080/"
    },
    "id": "6Nt0-o0gc4X-",
    "outputId": "d78bd4d4-ac8f-482b-e51c-5ef68a7d4ddb"
   },
   "outputs": [
    {
     "data": {
      "text/plain": [
       "(202364, 1078, 1600, 37531)"
      ]
     },
     "execution_count": 54,
     "metadata": {},
     "output_type": "execute_result"
    }
   ],
   "source": [
    "TP = confusion_mtx[0][0]\n",
    "FP = confusion_mtx[0][1]\n",
    "FN = confusion_mtx[1][0]\n",
    "TN = confusion_mtx[1][1]\n",
    "\n",
    "TP, FP, FN, TN"
   ]
  },
  {
   "cell_type": "code",
   "execution_count": 55,
   "metadata": {
    "colab": {
     "base_uri": "https://localhost:8080/"
    },
    "id": "wU7_fdKFbVNT",
    "outputId": "a160162e-54ac-4eec-ee8b-7689057ccf4a"
   },
   "outputs": [
    {
     "data": {
      "text/plain": [
       "array([0, 1, 0, 0, 0, 0, 0, 0, 1, 0])"
      ]
     },
     "execution_count": 55,
     "metadata": {},
     "output_type": "execute_result"
    }
   ],
   "source": [
    "np.argmax(y_test[:10],axis=1)"
   ]
  },
  {
   "cell_type": "code",
   "execution_count": 56,
   "metadata": {
    "colab": {
     "base_uri": "https://localhost:8080/"
    },
    "id": "aG1YKLDobdbj",
    "outputId": "ea91a959-d1fd-4206-a1a3-f5ccc9c220b8"
   },
   "outputs": [
    {
     "data": {
      "text/plain": [
       "array([0, 1, 0, 0, 0, 0, 0, 0, 1, 0])"
      ]
     },
     "execution_count": 56,
     "metadata": {},
     "output_type": "execute_result"
    }
   ],
   "source": [
    "Y_pred[:10]"
   ]
  },
  {
   "cell_type": "code",
   "execution_count": 57,
   "metadata": {
    "id": "RNTogDiAfVSa"
   },
   "outputs": [
    {
     "name": "stdout",
     "output_type": "stream",
     "text": [
      "Accuracy:  0.9889600244050245\n",
      "Precision:  0.9947011924774629\n",
      "Recall:  0.99215547841776\n",
      "F1_Score:  0.9934267045649794\n"
     ]
    }
   ],
   "source": [
    "def performance_evaluation(TP, FP, FN, TN):\n",
    "    Accuracy  = (TP+TN)/(TP+TN+FP+FN)\n",
    "    Precision = TP/(TP + FP)\n",
    "    Recall = TP/(TP+FN)\n",
    "    F1_Score = 2 * (Precision * Recall)/(Precision + Recall)\n",
    "    print(\"Accuracy: \", Accuracy)\n",
    "    print(\"Precision: \", Precision)\n",
    "    print(\"Recall: \", Recall)\n",
    "    print(\"F1_Score: \", F1_Score)\n",
    "\n",
    "performance_evaluation(TP, FP, FN, TN)"
   ]
  },
  {
   "cell_type": "code",
   "execution_count": null,
   "metadata": {},
   "outputs": [],
   "source": []
  },
  {
   "cell_type": "code",
   "execution_count": null,
   "metadata": {},
   "outputs": [],
   "source": []
  }
 ],
 "metadata": {
  "accelerator": "GPU",
  "colab": {
   "gpuType": "T4",
   "provenance": []
  },
  "kernelspec": {
   "display_name": "Python 3 (ipykernel)",
   "language": "python",
   "name": "python3"
  },
  "language_info": {
   "codemirror_mode": {
    "name": "ipython",
    "version": 3
   },
   "file_extension": ".py",
   "mimetype": "text/x-python",
   "name": "python",
   "nbconvert_exporter": "python",
   "pygments_lexer": "ipython3",
   "version": "3.9.17"
  }
 },
 "nbformat": 4,
 "nbformat_minor": 1
}
