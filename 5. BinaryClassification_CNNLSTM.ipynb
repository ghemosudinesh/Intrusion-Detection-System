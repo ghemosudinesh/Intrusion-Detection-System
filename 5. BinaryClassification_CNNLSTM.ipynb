{
 "cells": [
  {
   "cell_type": "code",
   "execution_count": 1,
   "metadata": {
    "id": "jQ_w2YSqksbM"
   },
   "outputs": [],
   "source": [
    "from __future__ import absolute_import\n",
    "from __future__ import division\n",
    "from __future__ import print_function\n",
    "\n",
    "import numpy as np\n",
    "import pandas as pd\n",
    "import os, time, math, tqdm, itertools\n",
    "import matplotlib.pyplot as plt\n",
    "\n",
    "import seaborn as sns\n",
    "\n",
    "\n",
    "from sklearn.preprocessing import MinMaxScaler, StandardScaler, RobustScaler\n",
    "from sklearn.preprocessing import LabelEncoder,OneHotEncoder\n",
    "from sklearn.model_selection import train_test_split, KFold, StratifiedKFold\n",
    "from sklearn.feature_selection import RFECV, SequentialFeatureSelector\n",
    "\n",
    "from sklearn.model_selection import cross_val_score\n",
    "from sklearn.model_selection import cross_val_predict\n",
    "from sklearn.metrics import accuracy_score, precision_score, recall_score, f1_score\n",
    "from sklearn.metrics import classification_report\n",
    "from sklearn.metrics import confusion_matrix,confusion_matrix\n",
    "from sklearn.metrics import roc_auc_score\n",
    "from sklearn.model_selection import KFold\n",
    "from sklearn import metrics\n",
    "\n",
    "\n",
    "import numpy as np\n",
    "from keras.layers import Dense, Dropout, Input\n",
    "from keras.layers import Conv2D, MaxPooling2D, Flatten\n",
    "from keras.layers import Conv2D, Conv1D, MaxPooling2D, MaxPooling1D, Flatten, BatchNormalization, Dense\n",
    "from keras.models import Model\n",
    "from keras.models import Sequential\n",
    "from keras.utils import to_categorical\n",
    "from keras.callbacks import CSVLogger, ModelCheckpoint\n",
    "from keras.layers import SpatialDropout1D\n",
    "from keras.wrappers.scikit_learn import KerasClassifier\n",
    "from keras.layers import LSTM, GRU, SimpleRNN\n",
    "\n",
    "import warnings\n",
    "warnings.filterwarnings(\"ignore\")"
   ]
  },
  {
   "cell_type": "code",
   "execution_count": 2,
   "metadata": {},
   "outputs": [
    {
     "name": "stdout",
     "output_type": "stream",
     "text": [
      "Tensorflow Verstion 2.9.0\n",
      "Num GPUs Available:  1\n"
     ]
    }
   ],
   "source": [
    "import tensorflow as tf\n",
    "print(\"Tensorflow Verstion\", tf.__version__)\n",
    "print(\"Num GPUs Available: \", len(tf.config.list_physical_devices('GPU')))"
   ]
  },
  {
   "cell_type": "code",
   "execution_count": 3,
   "metadata": {},
   "outputs": [
    {
     "name": "stdout",
     "output_type": "stream",
     "text": [
      "[name: \"/device:CPU:0\"\n",
      "device_type: \"CPU\"\n",
      "memory_limit: 268435456\n",
      "locality {\n",
      "}\n",
      "incarnation: 10067295295598071593\n",
      "xla_global_id: -1\n",
      ", name: \"/device:GPU:0\"\n",
      "device_type: \"GPU\"\n",
      "memory_limit: 10750328832\n",
      "locality {\n",
      "  bus_id: 1\n",
      "  links {\n",
      "  }\n",
      "}\n",
      "incarnation: 16912519581977630658\n",
      "physical_device_desc: \"device: 0, name: NVIDIA GeForce RTX 3080 Ti, pci bus id: 0000:00:10.0, compute capability: 8.6\"\n",
      "xla_global_id: 416903419\n",
      "]\n"
     ]
    }
   ],
   "source": [
    "from tensorflow.python.client import device_lib\n",
    "print(device_lib.list_local_devices())"
   ]
  },
  {
   "cell_type": "code",
   "execution_count": 4,
   "metadata": {
    "colab": {
     "base_uri": "https://localhost:8080/"
    },
    "id": "sZ4tw687lYib",
    "outputId": "29178a74-fd08-4269-8c3d-b8426be9dfbf"
   },
   "outputs": [],
   "source": [
    "# from google.colab import files\n",
    "# from google.colab import drive\n",
    "# drive.mount('/content/drive')"
   ]
  },
  {
   "cell_type": "code",
   "execution_count": 5,
   "metadata": {
    "id": "z9GtOmnSlcES"
   },
   "outputs": [],
   "source": [
    "# Reading clean cicids2017 csv file\n",
    "df = pd.read_csv('cicids2017_binary_afterFeatureSelection.csv')"
   ]
  },
  {
   "cell_type": "code",
   "execution_count": 6,
   "metadata": {
    "colab": {
     "base_uri": "https://localhost:8080/",
     "height": 474
    },
    "id": "Jp5YgxUllsdF",
    "outputId": "ca7a6bc8-b172-4d7e-8cf0-c8fe25214b77"
   },
   "outputs": [
    {
     "data": {
      "text/html": [
       "<div>\n",
       "<style scoped>\n",
       "    .dataframe tbody tr th:only-of-type {\n",
       "        vertical-align: middle;\n",
       "    }\n",
       "\n",
       "    .dataframe tbody tr th {\n",
       "        vertical-align: top;\n",
       "    }\n",
       "\n",
       "    .dataframe thead th {\n",
       "        text-align: right;\n",
       "    }\n",
       "</style>\n",
       "<table border=\"1\" class=\"dataframe\">\n",
       "  <thead>\n",
       "    <tr style=\"text-align: right;\">\n",
       "      <th></th>\n",
       "      <th>Unnamed: 0</th>\n",
       "      <th>DestinationPort</th>\n",
       "      <th>FwdPacketLengthMin</th>\n",
       "      <th>FwdPacketLengthStd</th>\n",
       "      <th>BwdPacketLengthMin</th>\n",
       "      <th>FlowBytes/s</th>\n",
       "      <th>FlowIATMin</th>\n",
       "      <th>FwdIATTotal</th>\n",
       "      <th>FwdIATMean</th>\n",
       "      <th>FwdIATMin</th>\n",
       "      <th>...</th>\n",
       "      <th>Init_Win_bytes_forward</th>\n",
       "      <th>Init_Win_bytes_backward</th>\n",
       "      <th>act_data_pkt_fwd</th>\n",
       "      <th>min_seg_size_forward</th>\n",
       "      <th>ActiveStd</th>\n",
       "      <th>ActiveMax</th>\n",
       "      <th>ActiveMin</th>\n",
       "      <th>IdleStd</th>\n",
       "      <th>IdleMin</th>\n",
       "      <th>Label</th>\n",
       "    </tr>\n",
       "  </thead>\n",
       "  <tbody>\n",
       "    <tr>\n",
       "      <th>0</th>\n",
       "      <td>0</td>\n",
       "      <td>49188.0</td>\n",
       "      <td>6.0</td>\n",
       "      <td>0.000000</td>\n",
       "      <td>0.0</td>\n",
       "      <td>3.000000e+06</td>\n",
       "      <td>4.0</td>\n",
       "      <td>4.0</td>\n",
       "      <td>4.000000</td>\n",
       "      <td>4.0</td>\n",
       "      <td>...</td>\n",
       "      <td>329.0</td>\n",
       "      <td>-1.0</td>\n",
       "      <td>1.0</td>\n",
       "      <td>20.0</td>\n",
       "      <td>0.0</td>\n",
       "      <td>0.0</td>\n",
       "      <td>0.0</td>\n",
       "      <td>0.0</td>\n",
       "      <td>0.0</td>\n",
       "      <td>0</td>\n",
       "    </tr>\n",
       "    <tr>\n",
       "      <th>1</th>\n",
       "      <td>1</td>\n",
       "      <td>49486.0</td>\n",
       "      <td>6.0</td>\n",
       "      <td>0.000000</td>\n",
       "      <td>0.0</td>\n",
       "      <td>4.000000e+06</td>\n",
       "      <td>3.0</td>\n",
       "      <td>3.0</td>\n",
       "      <td>3.000000</td>\n",
       "      <td>3.0</td>\n",
       "      <td>...</td>\n",
       "      <td>245.0</td>\n",
       "      <td>-1.0</td>\n",
       "      <td>1.0</td>\n",
       "      <td>20.0</td>\n",
       "      <td>0.0</td>\n",
       "      <td>0.0</td>\n",
       "      <td>0.0</td>\n",
       "      <td>0.0</td>\n",
       "      <td>0.0</td>\n",
       "      <td>0</td>\n",
       "    </tr>\n",
       "    <tr>\n",
       "      <th>2</th>\n",
       "      <td>2</td>\n",
       "      <td>88.0</td>\n",
       "      <td>0.0</td>\n",
       "      <td>111.967895</td>\n",
       "      <td>0.0</td>\n",
       "      <td>1.474548e+06</td>\n",
       "      <td>2.0</td>\n",
       "      <td>609.0</td>\n",
       "      <td>101.500000</td>\n",
       "      <td>2.0</td>\n",
       "      <td>...</td>\n",
       "      <td>8192.0</td>\n",
       "      <td>2053.0</td>\n",
       "      <td>5.0</td>\n",
       "      <td>20.0</td>\n",
       "      <td>0.0</td>\n",
       "      <td>0.0</td>\n",
       "      <td>0.0</td>\n",
       "      <td>0.0</td>\n",
       "      <td>0.0</td>\n",
       "      <td>0</td>\n",
       "    </tr>\n",
       "    <tr>\n",
       "      <th>3</th>\n",
       "      <td>3</td>\n",
       "      <td>88.0</td>\n",
       "      <td>0.0</td>\n",
       "      <td>136.153814</td>\n",
       "      <td>0.0</td>\n",
       "      <td>4.232082e+06</td>\n",
       "      <td>1.0</td>\n",
       "      <td>879.0</td>\n",
       "      <td>109.875000</td>\n",
       "      <td>1.0</td>\n",
       "      <td>...</td>\n",
       "      <td>8192.0</td>\n",
       "      <td>2053.0</td>\n",
       "      <td>7.0</td>\n",
       "      <td>20.0</td>\n",
       "      <td>0.0</td>\n",
       "      <td>0.0</td>\n",
       "      <td>0.0</td>\n",
       "      <td>0.0</td>\n",
       "      <td>0.0</td>\n",
       "      <td>0</td>\n",
       "    </tr>\n",
       "    <tr>\n",
       "      <th>4</th>\n",
       "      <td>4</td>\n",
       "      <td>88.0</td>\n",
       "      <td>0.0</td>\n",
       "      <td>682.482560</td>\n",
       "      <td>0.0</td>\n",
       "      <td>5.329310e+06</td>\n",
       "      <td>1.0</td>\n",
       "      <td>1160.0</td>\n",
       "      <td>145.000000</td>\n",
       "      <td>1.0</td>\n",
       "      <td>...</td>\n",
       "      <td>8192.0</td>\n",
       "      <td>2053.0</td>\n",
       "      <td>7.0</td>\n",
       "      <td>20.0</td>\n",
       "      <td>0.0</td>\n",
       "      <td>0.0</td>\n",
       "      <td>0.0</td>\n",
       "      <td>0.0</td>\n",
       "      <td>0.0</td>\n",
       "      <td>0</td>\n",
       "    </tr>\n",
       "    <tr>\n",
       "      <th>5</th>\n",
       "      <td>5</td>\n",
       "      <td>88.0</td>\n",
       "      <td>0.0</td>\n",
       "      <td>679.914876</td>\n",
       "      <td>0.0</td>\n",
       "      <td>1.074809e+07</td>\n",
       "      <td>1.0</td>\n",
       "      <td>524.0</td>\n",
       "      <td>87.333333</td>\n",
       "      <td>1.0</td>\n",
       "      <td>...</td>\n",
       "      <td>8192.0</td>\n",
       "      <td>2053.0</td>\n",
       "      <td>5.0</td>\n",
       "      <td>20.0</td>\n",
       "      <td>0.0</td>\n",
       "      <td>0.0</td>\n",
       "      <td>0.0</td>\n",
       "      <td>0.0</td>\n",
       "      <td>0.0</td>\n",
       "      <td>0</td>\n",
       "    </tr>\n",
       "    <tr>\n",
       "      <th>6</th>\n",
       "      <td>6</td>\n",
       "      <td>1034.0</td>\n",
       "      <td>6.0</td>\n",
       "      <td>0.000000</td>\n",
       "      <td>6.0</td>\n",
       "      <td>2.000000e+06</td>\n",
       "      <td>6.0</td>\n",
       "      <td>0.0</td>\n",
       "      <td>0.000000</td>\n",
       "      <td>0.0</td>\n",
       "      <td>...</td>\n",
       "      <td>2053.0</td>\n",
       "      <td>251.0</td>\n",
       "      <td>0.0</td>\n",
       "      <td>20.0</td>\n",
       "      <td>0.0</td>\n",
       "      <td>0.0</td>\n",
       "      <td>0.0</td>\n",
       "      <td>0.0</td>\n",
       "      <td>0.0</td>\n",
       "      <td>0</td>\n",
       "    </tr>\n",
       "    <tr>\n",
       "      <th>7</th>\n",
       "      <td>7</td>\n",
       "      <td>88.0</td>\n",
       "      <td>0.0</td>\n",
       "      <td>688.214982</td>\n",
       "      <td>0.0</td>\n",
       "      <td>5.558534e+06</td>\n",
       "      <td>1.0</td>\n",
       "      <td>1119.0</td>\n",
       "      <td>139.875000</td>\n",
       "      <td>1.0</td>\n",
       "      <td>...</td>\n",
       "      <td>8192.0</td>\n",
       "      <td>2053.0</td>\n",
       "      <td>7.0</td>\n",
       "      <td>20.0</td>\n",
       "      <td>0.0</td>\n",
       "      <td>0.0</td>\n",
       "      <td>0.0</td>\n",
       "      <td>0.0</td>\n",
       "      <td>0.0</td>\n",
       "      <td>0</td>\n",
       "    </tr>\n",
       "    <tr>\n",
       "      <th>8</th>\n",
       "      <td>8</td>\n",
       "      <td>389.0</td>\n",
       "      <td>0.0</td>\n",
       "      <td>612.974034</td>\n",
       "      <td>0.0</td>\n",
       "      <td>5.378170e+05</td>\n",
       "      <td>1.0</td>\n",
       "      <td>18378.0</td>\n",
       "      <td>1531.500000</td>\n",
       "      <td>3.0</td>\n",
       "      <td>...</td>\n",
       "      <td>8192.0</td>\n",
       "      <td>0.0</td>\n",
       "      <td>11.0</td>\n",
       "      <td>20.0</td>\n",
       "      <td>0.0</td>\n",
       "      <td>0.0</td>\n",
       "      <td>0.0</td>\n",
       "      <td>0.0</td>\n",
       "      <td>0.0</td>\n",
       "      <td>0</td>\n",
       "    </tr>\n",
       "    <tr>\n",
       "      <th>9</th>\n",
       "      <td>9</td>\n",
       "      <td>88.0</td>\n",
       "      <td>0.0</td>\n",
       "      <td>105.626476</td>\n",
       "      <td>0.0</td>\n",
       "      <td>9.902676e+05</td>\n",
       "      <td>1.0</td>\n",
       "      <td>822.0</td>\n",
       "      <td>137.000000</td>\n",
       "      <td>1.0</td>\n",
       "      <td>...</td>\n",
       "      <td>8192.0</td>\n",
       "      <td>2053.0</td>\n",
       "      <td>5.0</td>\n",
       "      <td>20.0</td>\n",
       "      <td>0.0</td>\n",
       "      <td>0.0</td>\n",
       "      <td>0.0</td>\n",
       "      <td>0.0</td>\n",
       "      <td>0.0</td>\n",
       "      <td>0</td>\n",
       "    </tr>\n",
       "  </tbody>\n",
       "</table>\n",
       "<p>10 rows × 42 columns</p>\n",
       "</div>"
      ],
      "text/plain": [
       "   Unnamed: 0  DestinationPort  FwdPacketLengthMin  FwdPacketLengthStd  \\\n",
       "0           0          49188.0                 6.0            0.000000   \n",
       "1           1          49486.0                 6.0            0.000000   \n",
       "2           2             88.0                 0.0          111.967895   \n",
       "3           3             88.0                 0.0          136.153814   \n",
       "4           4             88.0                 0.0          682.482560   \n",
       "5           5             88.0                 0.0          679.914876   \n",
       "6           6           1034.0                 6.0            0.000000   \n",
       "7           7             88.0                 0.0          688.214982   \n",
       "8           8            389.0                 0.0          612.974034   \n",
       "9           9             88.0                 0.0          105.626476   \n",
       "\n",
       "   BwdPacketLengthMin   FlowBytes/s  FlowIATMin  FwdIATTotal   FwdIATMean  \\\n",
       "0                 0.0  3.000000e+06         4.0          4.0     4.000000   \n",
       "1                 0.0  4.000000e+06         3.0          3.0     3.000000   \n",
       "2                 0.0  1.474548e+06         2.0        609.0   101.500000   \n",
       "3                 0.0  4.232082e+06         1.0        879.0   109.875000   \n",
       "4                 0.0  5.329310e+06         1.0       1160.0   145.000000   \n",
       "5                 0.0  1.074809e+07         1.0        524.0    87.333333   \n",
       "6                 6.0  2.000000e+06         6.0          0.0     0.000000   \n",
       "7                 0.0  5.558534e+06         1.0       1119.0   139.875000   \n",
       "8                 0.0  5.378170e+05         1.0      18378.0  1531.500000   \n",
       "9                 0.0  9.902676e+05         1.0        822.0   137.000000   \n",
       "\n",
       "   FwdIATMin  ...  Init_Win_bytes_forward  Init_Win_bytes_backward  \\\n",
       "0        4.0  ...                   329.0                     -1.0   \n",
       "1        3.0  ...                   245.0                     -1.0   \n",
       "2        2.0  ...                  8192.0                   2053.0   \n",
       "3        1.0  ...                  8192.0                   2053.0   \n",
       "4        1.0  ...                  8192.0                   2053.0   \n",
       "5        1.0  ...                  8192.0                   2053.0   \n",
       "6        0.0  ...                  2053.0                    251.0   \n",
       "7        1.0  ...                  8192.0                   2053.0   \n",
       "8        3.0  ...                  8192.0                      0.0   \n",
       "9        1.0  ...                  8192.0                   2053.0   \n",
       "\n",
       "   act_data_pkt_fwd  min_seg_size_forward  ActiveStd  ActiveMax  ActiveMin  \\\n",
       "0               1.0                  20.0        0.0        0.0        0.0   \n",
       "1               1.0                  20.0        0.0        0.0        0.0   \n",
       "2               5.0                  20.0        0.0        0.0        0.0   \n",
       "3               7.0                  20.0        0.0        0.0        0.0   \n",
       "4               7.0                  20.0        0.0        0.0        0.0   \n",
       "5               5.0                  20.0        0.0        0.0        0.0   \n",
       "6               0.0                  20.0        0.0        0.0        0.0   \n",
       "7               7.0                  20.0        0.0        0.0        0.0   \n",
       "8              11.0                  20.0        0.0        0.0        0.0   \n",
       "9               5.0                  20.0        0.0        0.0        0.0   \n",
       "\n",
       "   IdleStd  IdleMin  Label  \n",
       "0      0.0      0.0      0  \n",
       "1      0.0      0.0      0  \n",
       "2      0.0      0.0      0  \n",
       "3      0.0      0.0      0  \n",
       "4      0.0      0.0      0  \n",
       "5      0.0      0.0      0  \n",
       "6      0.0      0.0      0  \n",
       "7      0.0      0.0      0  \n",
       "8      0.0      0.0      0  \n",
       "9      0.0      0.0      0  \n",
       "\n",
       "[10 rows x 42 columns]"
      ]
     },
     "execution_count": 6,
     "metadata": {},
     "output_type": "execute_result"
    }
   ],
   "source": [
    "df.head(10)"
   ]
  },
  {
   "cell_type": "code",
   "execution_count": 7,
   "metadata": {
    "colab": {
     "base_uri": "https://localhost:8080/"
    },
    "id": "urtJdoSVlycL",
    "outputId": "19514e0d-4226-44e4-ddf2-d7fc75ad87e0"
   },
   "outputs": [
    {
     "data": {
      "text/plain": [
       "(2425727, 42)"
      ]
     },
     "execution_count": 7,
     "metadata": {},
     "output_type": "execute_result"
    }
   ],
   "source": [
    "print(df.shape)"
   ]
  },
  {
   "cell_type": "code",
   "execution_count": 8,
   "metadata": {
    "colab": {
     "base_uri": "https://localhost:8080/"
    },
    "id": "ZtCjj2v1l0xA",
    "outputId": "ed0e95ab-c7b8-4846-f5e2-c59475aeca8c"
   },
   "outputs": [
    {
     "data": {
      "text/plain": [
       "Index(['Unnamed: 0', 'DestinationPort', 'FwdPacketLengthMin',\n",
       "       'FwdPacketLengthStd', 'BwdPacketLengthMin', 'FlowBytes/s', 'FlowIATMin',\n",
       "       'FwdIATTotal', 'FwdIATMean', 'FwdIATMin', 'BwdIATTotal', 'BwdIATStd',\n",
       "       'BwdIATMax', 'BwdIATMin', 'BwdHeaderLength', 'FwdPackets/s',\n",
       "       'BwdPackets/s', 'MinPacketLength', 'PacketLengthVariance',\n",
       "       'FINFlagCount', 'SYNFlagCount', 'PSHFlagCount', 'ACKFlagCount',\n",
       "       'URGFlagCount', 'CWEFlagCount', 'ECEFlagCount', 'Down/UpRatio',\n",
       "       'AvgFwdSegmentSize', 'AvgBwdSegmentSize', 'FwdHeaderLength.1',\n",
       "       'SubflowFwdBytes', 'SubflowBwdBytes', 'Init_Win_bytes_forward',\n",
       "       'Init_Win_bytes_backward', 'act_data_pkt_fwd', 'min_seg_size_forward',\n",
       "       'ActiveStd', 'ActiveMax', 'ActiveMin', 'IdleStd', 'IdleMin', 'Label'],\n",
       "      dtype='object')"
      ]
     },
     "execution_count": 8,
     "metadata": {},
     "output_type": "execute_result"
    }
   ],
   "source": [
    "print(df.columns)"
   ]
  },
  {
   "cell_type": "code",
   "execution_count": 9,
   "metadata": {
    "colab": {
     "base_uri": "https://localhost:8080/",
     "height": 300
    },
    "id": "TtapNV_El2CS",
    "outputId": "62605f99-1c4a-45b4-d42c-f8049fcf227d"
   },
   "outputs": [
    {
     "data": {
      "text/html": [
       "<div>\n",
       "<style scoped>\n",
       "    .dataframe tbody tr th:only-of-type {\n",
       "        vertical-align: middle;\n",
       "    }\n",
       "\n",
       "    .dataframe tbody tr th {\n",
       "        vertical-align: top;\n",
       "    }\n",
       "\n",
       "    .dataframe thead th {\n",
       "        text-align: right;\n",
       "    }\n",
       "</style>\n",
       "<table border=\"1\" class=\"dataframe\">\n",
       "  <thead>\n",
       "    <tr style=\"text-align: right;\">\n",
       "      <th></th>\n",
       "      <th>DestinationPort</th>\n",
       "      <th>FwdPacketLengthMin</th>\n",
       "      <th>FwdPacketLengthStd</th>\n",
       "      <th>BwdPacketLengthMin</th>\n",
       "      <th>FlowBytes/s</th>\n",
       "      <th>FlowIATMin</th>\n",
       "      <th>FwdIATTotal</th>\n",
       "      <th>FwdIATMean</th>\n",
       "      <th>FwdIATMin</th>\n",
       "      <th>BwdIATTotal</th>\n",
       "      <th>...</th>\n",
       "      <th>Init_Win_bytes_forward</th>\n",
       "      <th>Init_Win_bytes_backward</th>\n",
       "      <th>act_data_pkt_fwd</th>\n",
       "      <th>min_seg_size_forward</th>\n",
       "      <th>ActiveStd</th>\n",
       "      <th>ActiveMax</th>\n",
       "      <th>ActiveMin</th>\n",
       "      <th>IdleStd</th>\n",
       "      <th>IdleMin</th>\n",
       "      <th>Label</th>\n",
       "    </tr>\n",
       "  </thead>\n",
       "  <tbody>\n",
       "    <tr>\n",
       "      <th>0</th>\n",
       "      <td>49188.0</td>\n",
       "      <td>6.0</td>\n",
       "      <td>0.000000</td>\n",
       "      <td>0.0</td>\n",
       "      <td>3.000000e+06</td>\n",
       "      <td>4.0</td>\n",
       "      <td>4.0</td>\n",
       "      <td>4.000</td>\n",
       "      <td>4.0</td>\n",
       "      <td>0.0</td>\n",
       "      <td>...</td>\n",
       "      <td>329.0</td>\n",
       "      <td>-1.0</td>\n",
       "      <td>1.0</td>\n",
       "      <td>20.0</td>\n",
       "      <td>0.0</td>\n",
       "      <td>0.0</td>\n",
       "      <td>0.0</td>\n",
       "      <td>0.0</td>\n",
       "      <td>0.0</td>\n",
       "      <td>0</td>\n",
       "    </tr>\n",
       "    <tr>\n",
       "      <th>1</th>\n",
       "      <td>49486.0</td>\n",
       "      <td>6.0</td>\n",
       "      <td>0.000000</td>\n",
       "      <td>0.0</td>\n",
       "      <td>4.000000e+06</td>\n",
       "      <td>3.0</td>\n",
       "      <td>3.0</td>\n",
       "      <td>3.000</td>\n",
       "      <td>3.0</td>\n",
       "      <td>0.0</td>\n",
       "      <td>...</td>\n",
       "      <td>245.0</td>\n",
       "      <td>-1.0</td>\n",
       "      <td>1.0</td>\n",
       "      <td>20.0</td>\n",
       "      <td>0.0</td>\n",
       "      <td>0.0</td>\n",
       "      <td>0.0</td>\n",
       "      <td>0.0</td>\n",
       "      <td>0.0</td>\n",
       "      <td>0</td>\n",
       "    </tr>\n",
       "    <tr>\n",
       "      <th>2</th>\n",
       "      <td>88.0</td>\n",
       "      <td>0.0</td>\n",
       "      <td>111.967895</td>\n",
       "      <td>0.0</td>\n",
       "      <td>1.474548e+06</td>\n",
       "      <td>2.0</td>\n",
       "      <td>609.0</td>\n",
       "      <td>101.500</td>\n",
       "      <td>2.0</td>\n",
       "      <td>467.0</td>\n",
       "      <td>...</td>\n",
       "      <td>8192.0</td>\n",
       "      <td>2053.0</td>\n",
       "      <td>5.0</td>\n",
       "      <td>20.0</td>\n",
       "      <td>0.0</td>\n",
       "      <td>0.0</td>\n",
       "      <td>0.0</td>\n",
       "      <td>0.0</td>\n",
       "      <td>0.0</td>\n",
       "      <td>0</td>\n",
       "    </tr>\n",
       "    <tr>\n",
       "      <th>3</th>\n",
       "      <td>88.0</td>\n",
       "      <td>0.0</td>\n",
       "      <td>136.153814</td>\n",
       "      <td>0.0</td>\n",
       "      <td>4.232082e+06</td>\n",
       "      <td>1.0</td>\n",
       "      <td>879.0</td>\n",
       "      <td>109.875</td>\n",
       "      <td>1.0</td>\n",
       "      <td>764.0</td>\n",
       "      <td>...</td>\n",
       "      <td>8192.0</td>\n",
       "      <td>2053.0</td>\n",
       "      <td>7.0</td>\n",
       "      <td>20.0</td>\n",
       "      <td>0.0</td>\n",
       "      <td>0.0</td>\n",
       "      <td>0.0</td>\n",
       "      <td>0.0</td>\n",
       "      <td>0.0</td>\n",
       "      <td>0</td>\n",
       "    </tr>\n",
       "    <tr>\n",
       "      <th>4</th>\n",
       "      <td>88.0</td>\n",
       "      <td>0.0</td>\n",
       "      <td>682.482560</td>\n",
       "      <td>0.0</td>\n",
       "      <td>5.329310e+06</td>\n",
       "      <td>1.0</td>\n",
       "      <td>1160.0</td>\n",
       "      <td>145.000</td>\n",
       "      <td>1.0</td>\n",
       "      <td>1022.0</td>\n",
       "      <td>...</td>\n",
       "      <td>8192.0</td>\n",
       "      <td>2053.0</td>\n",
       "      <td>7.0</td>\n",
       "      <td>20.0</td>\n",
       "      <td>0.0</td>\n",
       "      <td>0.0</td>\n",
       "      <td>0.0</td>\n",
       "      <td>0.0</td>\n",
       "      <td>0.0</td>\n",
       "      <td>0</td>\n",
       "    </tr>\n",
       "  </tbody>\n",
       "</table>\n",
       "<p>5 rows × 41 columns</p>\n",
       "</div>"
      ],
      "text/plain": [
       "   DestinationPort  FwdPacketLengthMin  FwdPacketLengthStd  \\\n",
       "0          49188.0                 6.0            0.000000   \n",
       "1          49486.0                 6.0            0.000000   \n",
       "2             88.0                 0.0          111.967895   \n",
       "3             88.0                 0.0          136.153814   \n",
       "4             88.0                 0.0          682.482560   \n",
       "\n",
       "   BwdPacketLengthMin   FlowBytes/s  FlowIATMin  FwdIATTotal  FwdIATMean  \\\n",
       "0                 0.0  3.000000e+06         4.0          4.0       4.000   \n",
       "1                 0.0  4.000000e+06         3.0          3.0       3.000   \n",
       "2                 0.0  1.474548e+06         2.0        609.0     101.500   \n",
       "3                 0.0  4.232082e+06         1.0        879.0     109.875   \n",
       "4                 0.0  5.329310e+06         1.0       1160.0     145.000   \n",
       "\n",
       "   FwdIATMin  BwdIATTotal  ...  Init_Win_bytes_forward  \\\n",
       "0        4.0          0.0  ...                   329.0   \n",
       "1        3.0          0.0  ...                   245.0   \n",
       "2        2.0        467.0  ...                  8192.0   \n",
       "3        1.0        764.0  ...                  8192.0   \n",
       "4        1.0       1022.0  ...                  8192.0   \n",
       "\n",
       "   Init_Win_bytes_backward  act_data_pkt_fwd  min_seg_size_forward  ActiveStd  \\\n",
       "0                     -1.0               1.0                  20.0        0.0   \n",
       "1                     -1.0               1.0                  20.0        0.0   \n",
       "2                   2053.0               5.0                  20.0        0.0   \n",
       "3                   2053.0               7.0                  20.0        0.0   \n",
       "4                   2053.0               7.0                  20.0        0.0   \n",
       "\n",
       "   ActiveMax  ActiveMin  IdleStd  IdleMin  Label  \n",
       "0        0.0        0.0      0.0      0.0      0  \n",
       "1        0.0        0.0      0.0      0.0      0  \n",
       "2        0.0        0.0      0.0      0.0      0  \n",
       "3        0.0        0.0      0.0      0.0      0  \n",
       "4        0.0        0.0      0.0      0.0      0  \n",
       "\n",
       "[5 rows x 41 columns]"
      ]
     },
     "execution_count": 9,
     "metadata": {},
     "output_type": "execute_result"
    }
   ],
   "source": [
    "# drop columns Unnamed  0\n",
    "df = df.drop(columns = 'Unnamed: 0')\n",
    "df.head()"
   ]
  },
  {
   "cell_type": "markdown",
   "metadata": {
    "id": "R2k01k_-ousn"
   },
   "source": [
    "# shuffle rows randomly"
   ]
  },
  {
   "cell_type": "code",
   "execution_count": 10,
   "metadata": {
    "colab": {
     "base_uri": "https://localhost:8080/",
     "height": 488
    },
    "id": "-zo5jNsWmaUx",
    "outputId": "624b6d54-4cc1-4a46-9377-9fe98cfab7a7"
   },
   "outputs": [
    {
     "data": {
      "text/html": [
       "<div>\n",
       "<style scoped>\n",
       "    .dataframe tbody tr th:only-of-type {\n",
       "        vertical-align: middle;\n",
       "    }\n",
       "\n",
       "    .dataframe tbody tr th {\n",
       "        vertical-align: top;\n",
       "    }\n",
       "\n",
       "    .dataframe thead th {\n",
       "        text-align: right;\n",
       "    }\n",
       "</style>\n",
       "<table border=\"1\" class=\"dataframe\">\n",
       "  <thead>\n",
       "    <tr style=\"text-align: right;\">\n",
       "      <th></th>\n",
       "      <th>DestinationPort</th>\n",
       "      <th>FwdPacketLengthMin</th>\n",
       "      <th>FwdPacketLengthStd</th>\n",
       "      <th>BwdPacketLengthMin</th>\n",
       "      <th>FlowBytes/s</th>\n",
       "      <th>FlowIATMin</th>\n",
       "      <th>FwdIATTotal</th>\n",
       "      <th>FwdIATMean</th>\n",
       "      <th>FwdIATMin</th>\n",
       "      <th>BwdIATTotal</th>\n",
       "      <th>...</th>\n",
       "      <th>Init_Win_bytes_forward</th>\n",
       "      <th>Init_Win_bytes_backward</th>\n",
       "      <th>act_data_pkt_fwd</th>\n",
       "      <th>min_seg_size_forward</th>\n",
       "      <th>ActiveStd</th>\n",
       "      <th>ActiveMax</th>\n",
       "      <th>ActiveMin</th>\n",
       "      <th>IdleStd</th>\n",
       "      <th>IdleMin</th>\n",
       "      <th>Label</th>\n",
       "    </tr>\n",
       "  </thead>\n",
       "  <tbody>\n",
       "    <tr>\n",
       "      <th>0</th>\n",
       "      <td>443.0</td>\n",
       "      <td>0.0</td>\n",
       "      <td>130.149010</td>\n",
       "      <td>0.0</td>\n",
       "      <td>1.056270e+02</td>\n",
       "      <td>8.0</td>\n",
       "      <td>61300000.0</td>\n",
       "      <td>3.828331e+06</td>\n",
       "      <td>222.0</td>\n",
       "      <td>61200000.0</td>\n",
       "      <td>...</td>\n",
       "      <td>29200.0</td>\n",
       "      <td>114.0</td>\n",
       "      <td>3.0</td>\n",
       "      <td>32.0</td>\n",
       "      <td>149803.1501</td>\n",
       "      <td>413300.0</td>\n",
       "      <td>46194.0</td>\n",
       "      <td>109126.445</td>\n",
       "      <td>9948641.0</td>\n",
       "      <td>0</td>\n",
       "    </tr>\n",
       "    <tr>\n",
       "      <th>1</th>\n",
       "      <td>80.0</td>\n",
       "      <td>0.0</td>\n",
       "      <td>139.815116</td>\n",
       "      <td>0.0</td>\n",
       "      <td>1.771640e+02</td>\n",
       "      <td>1.0</td>\n",
       "      <td>67400000.0</td>\n",
       "      <td>1.350000e+07</td>\n",
       "      <td>1.0</td>\n",
       "      <td>67500000.0</td>\n",
       "      <td>...</td>\n",
       "      <td>0.0</td>\n",
       "      <td>235.0</td>\n",
       "      <td>3.0</td>\n",
       "      <td>20.0</td>\n",
       "      <td>0.0000</td>\n",
       "      <td>16027.0</td>\n",
       "      <td>16027.0</td>\n",
       "      <td>0.000</td>\n",
       "      <td>67300000.0</td>\n",
       "      <td>1</td>\n",
       "    </tr>\n",
       "    <tr>\n",
       "      <th>2</th>\n",
       "      <td>53.0</td>\n",
       "      <td>46.0</td>\n",
       "      <td>0.707107</td>\n",
       "      <td>74.0</td>\n",
       "      <td>3.366775e+00</td>\n",
       "      <td>23988.0</td>\n",
       "      <td>98800000.0</td>\n",
       "      <td>9.880000e+07</td>\n",
       "      <td>98800000.0</td>\n",
       "      <td>98900000.0</td>\n",
       "      <td>...</td>\n",
       "      <td>-1.0</td>\n",
       "      <td>-1.0</td>\n",
       "      <td>1.0</td>\n",
       "      <td>20.0</td>\n",
       "      <td>0.0000</td>\n",
       "      <td>23988.0</td>\n",
       "      <td>23988.0</td>\n",
       "      <td>0.000</td>\n",
       "      <td>98800000.0</td>\n",
       "      <td>0</td>\n",
       "    </tr>\n",
       "    <tr>\n",
       "      <th>3</th>\n",
       "      <td>58061.0</td>\n",
       "      <td>6.0</td>\n",
       "      <td>154.729872</td>\n",
       "      <td>0.0</td>\n",
       "      <td>2.353909e+05</td>\n",
       "      <td>3.0</td>\n",
       "      <td>1215.0</td>\n",
       "      <td>6.075000e+02</td>\n",
       "      <td>3.0</td>\n",
       "      <td>0.0</td>\n",
       "      <td>...</td>\n",
       "      <td>60.0</td>\n",
       "      <td>-1.0</td>\n",
       "      <td>2.0</td>\n",
       "      <td>20.0</td>\n",
       "      <td>0.0000</td>\n",
       "      <td>0.0</td>\n",
       "      <td>0.0</td>\n",
       "      <td>0.000</td>\n",
       "      <td>0.0</td>\n",
       "      <td>0</td>\n",
       "    </tr>\n",
       "    <tr>\n",
       "      <th>4</th>\n",
       "      <td>5989.0</td>\n",
       "      <td>0.0</td>\n",
       "      <td>0.000000</td>\n",
       "      <td>6.0</td>\n",
       "      <td>7.500000e+04</td>\n",
       "      <td>80.0</td>\n",
       "      <td>0.0</td>\n",
       "      <td>0.000000e+00</td>\n",
       "      <td>0.0</td>\n",
       "      <td>0.0</td>\n",
       "      <td>...</td>\n",
       "      <td>29200.0</td>\n",
       "      <td>0.0</td>\n",
       "      <td>0.0</td>\n",
       "      <td>40.0</td>\n",
       "      <td>0.0000</td>\n",
       "      <td>0.0</td>\n",
       "      <td>0.0</td>\n",
       "      <td>0.000</td>\n",
       "      <td>0.0</td>\n",
       "      <td>1</td>\n",
       "    </tr>\n",
       "    <tr>\n",
       "      <th>...</th>\n",
       "      <td>...</td>\n",
       "      <td>...</td>\n",
       "      <td>...</td>\n",
       "      <td>...</td>\n",
       "      <td>...</td>\n",
       "      <td>...</td>\n",
       "      <td>...</td>\n",
       "      <td>...</td>\n",
       "      <td>...</td>\n",
       "      <td>...</td>\n",
       "      <td>...</td>\n",
       "      <td>...</td>\n",
       "      <td>...</td>\n",
       "      <td>...</td>\n",
       "      <td>...</td>\n",
       "      <td>...</td>\n",
       "      <td>...</td>\n",
       "      <td>...</td>\n",
       "      <td>...</td>\n",
       "      <td>...</td>\n",
       "      <td>...</td>\n",
       "    </tr>\n",
       "    <tr>\n",
       "      <th>1212859</th>\n",
       "      <td>443.0</td>\n",
       "      <td>0.0</td>\n",
       "      <td>268.528763</td>\n",
       "      <td>0.0</td>\n",
       "      <td>1.671798e+03</td>\n",
       "      <td>3.0</td>\n",
       "      <td>160953.0</td>\n",
       "      <td>2.299329e+04</td>\n",
       "      <td>109.0</td>\n",
       "      <td>5081993.0</td>\n",
       "      <td>...</td>\n",
       "      <td>8192.0</td>\n",
       "      <td>25.0</td>\n",
       "      <td>7.0</td>\n",
       "      <td>20.0</td>\n",
       "      <td>0.0000</td>\n",
       "      <td>0.0</td>\n",
       "      <td>0.0</td>\n",
       "      <td>0.000</td>\n",
       "      <td>0.0</td>\n",
       "      <td>0</td>\n",
       "    </tr>\n",
       "    <tr>\n",
       "      <th>1212860</th>\n",
       "      <td>80.0</td>\n",
       "      <td>6.0</td>\n",
       "      <td>0.000000</td>\n",
       "      <td>0.0</td>\n",
       "      <td>1.001837e+03</td>\n",
       "      <td>24.0</td>\n",
       "      <td>11978.0</td>\n",
       "      <td>1.197800e+04</td>\n",
       "      <td>11978.0</td>\n",
       "      <td>0.0</td>\n",
       "      <td>...</td>\n",
       "      <td>0.0</td>\n",
       "      <td>235.0</td>\n",
       "      <td>1.0</td>\n",
       "      <td>20.0</td>\n",
       "      <td>0.0000</td>\n",
       "      <td>0.0</td>\n",
       "      <td>0.0</td>\n",
       "      <td>0.000</td>\n",
       "      <td>0.0</td>\n",
       "      <td>1</td>\n",
       "    </tr>\n",
       "    <tr>\n",
       "      <th>1212861</th>\n",
       "      <td>52821.0</td>\n",
       "      <td>6.0</td>\n",
       "      <td>0.000000</td>\n",
       "      <td>0.0</td>\n",
       "      <td>4.000000e+06</td>\n",
       "      <td>3.0</td>\n",
       "      <td>3.0</td>\n",
       "      <td>3.000000e+00</td>\n",
       "      <td>3.0</td>\n",
       "      <td>0.0</td>\n",
       "      <td>...</td>\n",
       "      <td>127.0</td>\n",
       "      <td>-1.0</td>\n",
       "      <td>1.0</td>\n",
       "      <td>20.0</td>\n",
       "      <td>0.0000</td>\n",
       "      <td>0.0</td>\n",
       "      <td>0.0</td>\n",
       "      <td>0.000</td>\n",
       "      <td>0.0</td>\n",
       "      <td>0</td>\n",
       "    </tr>\n",
       "    <tr>\n",
       "      <th>1212862</th>\n",
       "      <td>443.0</td>\n",
       "      <td>0.0</td>\n",
       "      <td>198.013705</td>\n",
       "      <td>0.0</td>\n",
       "      <td>6.609602e+02</td>\n",
       "      <td>1.0</td>\n",
       "      <td>116000000.0</td>\n",
       "      <td>2.646597e+06</td>\n",
       "      <td>1.0</td>\n",
       "      <td>111000000.0</td>\n",
       "      <td>...</td>\n",
       "      <td>29200.0</td>\n",
       "      <td>1101.0</td>\n",
       "      <td>7.0</td>\n",
       "      <td>32.0</td>\n",
       "      <td>176696.3638</td>\n",
       "      <td>636286.0</td>\n",
       "      <td>23506.0</td>\n",
       "      <td>1357106.239</td>\n",
       "      <td>5319655.0</td>\n",
       "      <td>0</td>\n",
       "    </tr>\n",
       "    <tr>\n",
       "      <th>1212863</th>\n",
       "      <td>53476.0</td>\n",
       "      <td>6.0</td>\n",
       "      <td>0.000000</td>\n",
       "      <td>0.0</td>\n",
       "      <td>2.790698e+05</td>\n",
       "      <td>43.0</td>\n",
       "      <td>43.0</td>\n",
       "      <td>4.300000e+01</td>\n",
       "      <td>43.0</td>\n",
       "      <td>0.0</td>\n",
       "      <td>...</td>\n",
       "      <td>0.0</td>\n",
       "      <td>-1.0</td>\n",
       "      <td>1.0</td>\n",
       "      <td>20.0</td>\n",
       "      <td>0.0000</td>\n",
       "      <td>0.0</td>\n",
       "      <td>0.0</td>\n",
       "      <td>0.000</td>\n",
       "      <td>0.0</td>\n",
       "      <td>0</td>\n",
       "    </tr>\n",
       "  </tbody>\n",
       "</table>\n",
       "<p>1212864 rows × 41 columns</p>\n",
       "</div>"
      ],
      "text/plain": [
       "         DestinationPort  FwdPacketLengthMin  FwdPacketLengthStd  \\\n",
       "0                  443.0                 0.0          130.149010   \n",
       "1                   80.0                 0.0          139.815116   \n",
       "2                   53.0                46.0            0.707107   \n",
       "3                58061.0                 6.0          154.729872   \n",
       "4                 5989.0                 0.0            0.000000   \n",
       "...                  ...                 ...                 ...   \n",
       "1212859            443.0                 0.0          268.528763   \n",
       "1212860             80.0                 6.0            0.000000   \n",
       "1212861          52821.0                 6.0            0.000000   \n",
       "1212862            443.0                 0.0          198.013705   \n",
       "1212863          53476.0                 6.0            0.000000   \n",
       "\n",
       "         BwdPacketLengthMin   FlowBytes/s  FlowIATMin  FwdIATTotal  \\\n",
       "0                       0.0  1.056270e+02         8.0   61300000.0   \n",
       "1                       0.0  1.771640e+02         1.0   67400000.0   \n",
       "2                      74.0  3.366775e+00     23988.0   98800000.0   \n",
       "3                       0.0  2.353909e+05         3.0       1215.0   \n",
       "4                       6.0  7.500000e+04        80.0          0.0   \n",
       "...                     ...           ...         ...          ...   \n",
       "1212859                 0.0  1.671798e+03         3.0     160953.0   \n",
       "1212860                 0.0  1.001837e+03        24.0      11978.0   \n",
       "1212861                 0.0  4.000000e+06         3.0          3.0   \n",
       "1212862                 0.0  6.609602e+02         1.0  116000000.0   \n",
       "1212863                 0.0  2.790698e+05        43.0         43.0   \n",
       "\n",
       "           FwdIATMean   FwdIATMin  BwdIATTotal  ...  Init_Win_bytes_forward  \\\n",
       "0        3.828331e+06       222.0   61200000.0  ...                 29200.0   \n",
       "1        1.350000e+07         1.0   67500000.0  ...                     0.0   \n",
       "2        9.880000e+07  98800000.0   98900000.0  ...                    -1.0   \n",
       "3        6.075000e+02         3.0          0.0  ...                    60.0   \n",
       "4        0.000000e+00         0.0          0.0  ...                 29200.0   \n",
       "...               ...         ...          ...  ...                     ...   \n",
       "1212859  2.299329e+04       109.0    5081993.0  ...                  8192.0   \n",
       "1212860  1.197800e+04     11978.0          0.0  ...                     0.0   \n",
       "1212861  3.000000e+00         3.0          0.0  ...                   127.0   \n",
       "1212862  2.646597e+06         1.0  111000000.0  ...                 29200.0   \n",
       "1212863  4.300000e+01        43.0          0.0  ...                     0.0   \n",
       "\n",
       "         Init_Win_bytes_backward  act_data_pkt_fwd  min_seg_size_forward  \\\n",
       "0                          114.0               3.0                  32.0   \n",
       "1                          235.0               3.0                  20.0   \n",
       "2                           -1.0               1.0                  20.0   \n",
       "3                           -1.0               2.0                  20.0   \n",
       "4                            0.0               0.0                  40.0   \n",
       "...                          ...               ...                   ...   \n",
       "1212859                     25.0               7.0                  20.0   \n",
       "1212860                    235.0               1.0                  20.0   \n",
       "1212861                     -1.0               1.0                  20.0   \n",
       "1212862                   1101.0               7.0                  32.0   \n",
       "1212863                     -1.0               1.0                  20.0   \n",
       "\n",
       "           ActiveStd  ActiveMax  ActiveMin      IdleStd     IdleMin  Label  \n",
       "0        149803.1501   413300.0    46194.0   109126.445   9948641.0      0  \n",
       "1             0.0000    16027.0    16027.0        0.000  67300000.0      1  \n",
       "2             0.0000    23988.0    23988.0        0.000  98800000.0      0  \n",
       "3             0.0000        0.0        0.0        0.000         0.0      0  \n",
       "4             0.0000        0.0        0.0        0.000         0.0      1  \n",
       "...              ...        ...        ...          ...         ...    ...  \n",
       "1212859       0.0000        0.0        0.0        0.000         0.0      0  \n",
       "1212860       0.0000        0.0        0.0        0.000         0.0      1  \n",
       "1212861       0.0000        0.0        0.0        0.000         0.0      0  \n",
       "1212862  176696.3638   636286.0    23506.0  1357106.239   5319655.0      0  \n",
       "1212863       0.0000        0.0        0.0        0.000         0.0      0  \n",
       "\n",
       "[1212864 rows x 41 columns]"
      ]
     },
     "execution_count": 10,
     "metadata": {},
     "output_type": "execute_result"
    }
   ],
   "source": [
    "# considering only fifty percent of data\n",
    "df=df.sample(frac=0.5).reset_index(drop=True)\n",
    "df"
   ]
  },
  {
   "cell_type": "code",
   "execution_count": 11,
   "metadata": {
    "colab": {
     "base_uri": "https://localhost:8080/",
     "height": 770
    },
    "id": "fyy0zlMu3ebQ",
    "outputId": "c3003052-528d-4497-cac2-9976e3515628"
   },
   "outputs": [
    {
     "data": {
      "text/html": [
       "<div>\n",
       "<style scoped>\n",
       "    .dataframe tbody tr th:only-of-type {\n",
       "        vertical-align: middle;\n",
       "    }\n",
       "\n",
       "    .dataframe tbody tr th {\n",
       "        vertical-align: top;\n",
       "    }\n",
       "\n",
       "    .dataframe thead th {\n",
       "        text-align: right;\n",
       "    }\n",
       "</style>\n",
       "<table border=\"1\" class=\"dataframe\">\n",
       "  <thead>\n",
       "    <tr style=\"text-align: right;\">\n",
       "      <th></th>\n",
       "      <th>DestinationPort</th>\n",
       "      <th>FwdPacketLengthMin</th>\n",
       "      <th>FwdPacketLengthStd</th>\n",
       "      <th>BwdPacketLengthMin</th>\n",
       "      <th>FlowBytes/s</th>\n",
       "      <th>FlowIATMin</th>\n",
       "      <th>FwdIATTotal</th>\n",
       "      <th>FwdIATMean</th>\n",
       "      <th>FwdIATMin</th>\n",
       "      <th>BwdIATTotal</th>\n",
       "      <th>...</th>\n",
       "      <th>Init_Win_bytes_forward</th>\n",
       "      <th>Init_Win_bytes_backward</th>\n",
       "      <th>act_data_pkt_fwd</th>\n",
       "      <th>min_seg_size_forward</th>\n",
       "      <th>ActiveStd</th>\n",
       "      <th>ActiveMax</th>\n",
       "      <th>ActiveMin</th>\n",
       "      <th>IdleStd</th>\n",
       "      <th>IdleMin</th>\n",
       "      <th>Label</th>\n",
       "    </tr>\n",
       "  </thead>\n",
       "  <tbody>\n",
       "    <tr>\n",
       "      <th>1212844</th>\n",
       "      <td>53.0</td>\n",
       "      <td>65.0</td>\n",
       "      <td>0.000000</td>\n",
       "      <td>142.0</td>\n",
       "      <td>1.695471e+04</td>\n",
       "      <td>3.0</td>\n",
       "      <td>3.0</td>\n",
       "      <td>3.000000e+00</td>\n",
       "      <td>3.0</td>\n",
       "      <td>49.0</td>\n",
       "      <td>...</td>\n",
       "      <td>-1.0</td>\n",
       "      <td>-1.0</td>\n",
       "      <td>1.0</td>\n",
       "      <td>20.0</td>\n",
       "      <td>0.00000</td>\n",
       "      <td>0.0</td>\n",
       "      <td>0.0</td>\n",
       "      <td>0.000000e+00</td>\n",
       "      <td>0.0</td>\n",
       "      <td>0</td>\n",
       "    </tr>\n",
       "    <tr>\n",
       "      <th>1212845</th>\n",
       "      <td>443.0</td>\n",
       "      <td>0.0</td>\n",
       "      <td>121.659132</td>\n",
       "      <td>0.0</td>\n",
       "      <td>7.351518e+02</td>\n",
       "      <td>4.0</td>\n",
       "      <td>5733510.0</td>\n",
       "      <td>7.166888e+05</td>\n",
       "      <td>4.0</td>\n",
       "      <td>306861.0</td>\n",
       "      <td>...</td>\n",
       "      <td>8192.0</td>\n",
       "      <td>980.0</td>\n",
       "      <td>7.0</td>\n",
       "      <td>20.0</td>\n",
       "      <td>0.00000</td>\n",
       "      <td>341042.0</td>\n",
       "      <td>341042.0</td>\n",
       "      <td>0.000000e+00</td>\n",
       "      <td>5392464.0</td>\n",
       "      <td>0</td>\n",
       "    </tr>\n",
       "    <tr>\n",
       "      <th>1212846</th>\n",
       "      <td>443.0</td>\n",
       "      <td>0.0</td>\n",
       "      <td>343.365754</td>\n",
       "      <td>0.0</td>\n",
       "      <td>4.099676e+02</td>\n",
       "      <td>1.0</td>\n",
       "      <td>116000000.0</td>\n",
       "      <td>2.326232e+06</td>\n",
       "      <td>1.0</td>\n",
       "      <td>111000000.0</td>\n",
       "      <td>...</td>\n",
       "      <td>29200.0</td>\n",
       "      <td>429.0</td>\n",
       "      <td>7.0</td>\n",
       "      <td>32.0</td>\n",
       "      <td>241534.54350</td>\n",
       "      <td>837484.0</td>\n",
       "      <td>36168.0</td>\n",
       "      <td>1.721029e+04</td>\n",
       "      <td>9960003.0</td>\n",
       "      <td>0</td>\n",
       "    </tr>\n",
       "    <tr>\n",
       "      <th>1212847</th>\n",
       "      <td>443.0</td>\n",
       "      <td>0.0</td>\n",
       "      <td>77.293686</td>\n",
       "      <td>0.0</td>\n",
       "      <td>8.220780e+01</td>\n",
       "      <td>1.0</td>\n",
       "      <td>116000000.0</td>\n",
       "      <td>5.531859e+06</td>\n",
       "      <td>49.0</td>\n",
       "      <td>111000000.0</td>\n",
       "      <td>...</td>\n",
       "      <td>8192.0</td>\n",
       "      <td>31.0</td>\n",
       "      <td>15.0</td>\n",
       "      <td>20.0</td>\n",
       "      <td>143570.13460</td>\n",
       "      <td>512411.0</td>\n",
       "      <td>14983.0</td>\n",
       "      <td>1.308025e+06</td>\n",
       "      <td>5470718.0</td>\n",
       "      <td>0</td>\n",
       "    </tr>\n",
       "    <tr>\n",
       "      <th>1212848</th>\n",
       "      <td>53.0</td>\n",
       "      <td>33.0</td>\n",
       "      <td>0.000000</td>\n",
       "      <td>65.0</td>\n",
       "      <td>3.221935e+03</td>\n",
       "      <td>3.0</td>\n",
       "      <td>48.0</td>\n",
       "      <td>4.800000e+01</td>\n",
       "      <td>48.0</td>\n",
       "      <td>3.0</td>\n",
       "      <td>...</td>\n",
       "      <td>-1.0</td>\n",
       "      <td>-1.0</td>\n",
       "      <td>1.0</td>\n",
       "      <td>32.0</td>\n",
       "      <td>0.00000</td>\n",
       "      <td>0.0</td>\n",
       "      <td>0.0</td>\n",
       "      <td>0.000000e+00</td>\n",
       "      <td>0.0</td>\n",
       "      <td>0</td>\n",
       "    </tr>\n",
       "    <tr>\n",
       "      <th>1212849</th>\n",
       "      <td>53.0</td>\n",
       "      <td>36.0</td>\n",
       "      <td>0.000000</td>\n",
       "      <td>143.0</td>\n",
       "      <td>4.218862e+03</td>\n",
       "      <td>3.0</td>\n",
       "      <td>3.0</td>\n",
       "      <td>3.000000e+00</td>\n",
       "      <td>3.0</td>\n",
       "      <td>4.0</td>\n",
       "      <td>...</td>\n",
       "      <td>-1.0</td>\n",
       "      <td>-1.0</td>\n",
       "      <td>1.0</td>\n",
       "      <td>40.0</td>\n",
       "      <td>0.00000</td>\n",
       "      <td>0.0</td>\n",
       "      <td>0.0</td>\n",
       "      <td>0.000000e+00</td>\n",
       "      <td>0.0</td>\n",
       "      <td>0</td>\n",
       "    </tr>\n",
       "    <tr>\n",
       "      <th>1212850</th>\n",
       "      <td>53.0</td>\n",
       "      <td>42.0</td>\n",
       "      <td>0.000000</td>\n",
       "      <td>196.0</td>\n",
       "      <td>3.968366e+03</td>\n",
       "      <td>3.0</td>\n",
       "      <td>61143.0</td>\n",
       "      <td>2.038100e+04</td>\n",
       "      <td>3.0</td>\n",
       "      <td>3.0</td>\n",
       "      <td>...</td>\n",
       "      <td>-1.0</td>\n",
       "      <td>-1.0</td>\n",
       "      <td>3.0</td>\n",
       "      <td>20.0</td>\n",
       "      <td>0.00000</td>\n",
       "      <td>0.0</td>\n",
       "      <td>0.0</td>\n",
       "      <td>0.000000e+00</td>\n",
       "      <td>0.0</td>\n",
       "      <td>0</td>\n",
       "    </tr>\n",
       "    <tr>\n",
       "      <th>1212851</th>\n",
       "      <td>53.0</td>\n",
       "      <td>35.0</td>\n",
       "      <td>0.000000</td>\n",
       "      <td>51.0</td>\n",
       "      <td>5.517595e+03</td>\n",
       "      <td>3.0</td>\n",
       "      <td>3.0</td>\n",
       "      <td>3.000000e+00</td>\n",
       "      <td>3.0</td>\n",
       "      <td>3.0</td>\n",
       "      <td>...</td>\n",
       "      <td>-1.0</td>\n",
       "      <td>-1.0</td>\n",
       "      <td>1.0</td>\n",
       "      <td>32.0</td>\n",
       "      <td>0.00000</td>\n",
       "      <td>0.0</td>\n",
       "      <td>0.0</td>\n",
       "      <td>0.000000e+00</td>\n",
       "      <td>0.0</td>\n",
       "      <td>0</td>\n",
       "    </tr>\n",
       "    <tr>\n",
       "      <th>1212852</th>\n",
       "      <td>53.0</td>\n",
       "      <td>42.0</td>\n",
       "      <td>0.000000</td>\n",
       "      <td>114.0</td>\n",
       "      <td>1.013777e+04</td>\n",
       "      <td>1.0</td>\n",
       "      <td>1.0</td>\n",
       "      <td>1.000000e+00</td>\n",
       "      <td>1.0</td>\n",
       "      <td>4.0</td>\n",
       "      <td>...</td>\n",
       "      <td>-1.0</td>\n",
       "      <td>-1.0</td>\n",
       "      <td>1.0</td>\n",
       "      <td>32.0</td>\n",
       "      <td>0.00000</td>\n",
       "      <td>0.0</td>\n",
       "      <td>0.0</td>\n",
       "      <td>0.000000e+00</td>\n",
       "      <td>0.0</td>\n",
       "      <td>0</td>\n",
       "    </tr>\n",
       "    <tr>\n",
       "      <th>1212853</th>\n",
       "      <td>53.0</td>\n",
       "      <td>55.0</td>\n",
       "      <td>0.000000</td>\n",
       "      <td>110.0</td>\n",
       "      <td>5.362889e+03</td>\n",
       "      <td>30767.0</td>\n",
       "      <td>0.0</td>\n",
       "      <td>0.000000e+00</td>\n",
       "      <td>0.0</td>\n",
       "      <td>0.0</td>\n",
       "      <td>...</td>\n",
       "      <td>-1.0</td>\n",
       "      <td>-1.0</td>\n",
       "      <td>0.0</td>\n",
       "      <td>20.0</td>\n",
       "      <td>0.00000</td>\n",
       "      <td>0.0</td>\n",
       "      <td>0.0</td>\n",
       "      <td>0.000000e+00</td>\n",
       "      <td>0.0</td>\n",
       "      <td>0</td>\n",
       "    </tr>\n",
       "    <tr>\n",
       "      <th>1212854</th>\n",
       "      <td>443.0</td>\n",
       "      <td>0.0</td>\n",
       "      <td>347.450949</td>\n",
       "      <td>0.0</td>\n",
       "      <td>2.904951e+01</td>\n",
       "      <td>3.0</td>\n",
       "      <td>116000000.0</td>\n",
       "      <td>5.795278e+06</td>\n",
       "      <td>3.0</td>\n",
       "      <td>112000000.0</td>\n",
       "      <td>...</td>\n",
       "      <td>29200.0</td>\n",
       "      <td>383.0</td>\n",
       "      <td>5.0</td>\n",
       "      <td>32.0</td>\n",
       "      <td>83381.23785</td>\n",
       "      <td>389836.0</td>\n",
       "      <td>114122.0</td>\n",
       "      <td>2.097412e+04</td>\n",
       "      <td>9959985.0</td>\n",
       "      <td>0</td>\n",
       "    </tr>\n",
       "    <tr>\n",
       "      <th>1212855</th>\n",
       "      <td>51992.0</td>\n",
       "      <td>0.0</td>\n",
       "      <td>0.000000</td>\n",
       "      <td>0.0</td>\n",
       "      <td>0.000000e+00</td>\n",
       "      <td>3.0</td>\n",
       "      <td>3.0</td>\n",
       "      <td>3.000000e+00</td>\n",
       "      <td>3.0</td>\n",
       "      <td>0.0</td>\n",
       "      <td>...</td>\n",
       "      <td>366.0</td>\n",
       "      <td>-1.0</td>\n",
       "      <td>0.0</td>\n",
       "      <td>32.0</td>\n",
       "      <td>0.00000</td>\n",
       "      <td>0.0</td>\n",
       "      <td>0.0</td>\n",
       "      <td>0.000000e+00</td>\n",
       "      <td>0.0</td>\n",
       "      <td>0</td>\n",
       "    </tr>\n",
       "    <tr>\n",
       "      <th>1212856</th>\n",
       "      <td>443.0</td>\n",
       "      <td>0.0</td>\n",
       "      <td>461.996166</td>\n",
       "      <td>0.0</td>\n",
       "      <td>3.200836e+03</td>\n",
       "      <td>1.0</td>\n",
       "      <td>1948866.0</td>\n",
       "      <td>1.146392e+05</td>\n",
       "      <td>1.0</td>\n",
       "      <td>127951.0</td>\n",
       "      <td>...</td>\n",
       "      <td>8192.0</td>\n",
       "      <td>8192.0</td>\n",
       "      <td>17.0</td>\n",
       "      <td>20.0</td>\n",
       "      <td>0.00000</td>\n",
       "      <td>0.0</td>\n",
       "      <td>0.0</td>\n",
       "      <td>0.000000e+00</td>\n",
       "      <td>0.0</td>\n",
       "      <td>0</td>\n",
       "    </tr>\n",
       "    <tr>\n",
       "      <th>1212857</th>\n",
       "      <td>80.0</td>\n",
       "      <td>6.0</td>\n",
       "      <td>0.000000</td>\n",
       "      <td>0.0</td>\n",
       "      <td>5.918753e+00</td>\n",
       "      <td>3.0</td>\n",
       "      <td>4054908.0</td>\n",
       "      <td>1.351636e+06</td>\n",
       "      <td>3.0</td>\n",
       "      <td>0.0</td>\n",
       "      <td>...</td>\n",
       "      <td>256.0</td>\n",
       "      <td>-1.0</td>\n",
       "      <td>3.0</td>\n",
       "      <td>20.0</td>\n",
       "      <td>0.00000</td>\n",
       "      <td>0.0</td>\n",
       "      <td>0.0</td>\n",
       "      <td>0.000000e+00</td>\n",
       "      <td>0.0</td>\n",
       "      <td>1</td>\n",
       "    </tr>\n",
       "    <tr>\n",
       "      <th>1212858</th>\n",
       "      <td>53.0</td>\n",
       "      <td>56.0</td>\n",
       "      <td>0.000000</td>\n",
       "      <td>338.0</td>\n",
       "      <td>7.167024e+03</td>\n",
       "      <td>54974.0</td>\n",
       "      <td>0.0</td>\n",
       "      <td>0.000000e+00</td>\n",
       "      <td>0.0</td>\n",
       "      <td>0.0</td>\n",
       "      <td>...</td>\n",
       "      <td>-1.0</td>\n",
       "      <td>-1.0</td>\n",
       "      <td>0.0</td>\n",
       "      <td>32.0</td>\n",
       "      <td>0.00000</td>\n",
       "      <td>0.0</td>\n",
       "      <td>0.0</td>\n",
       "      <td>0.000000e+00</td>\n",
       "      <td>0.0</td>\n",
       "      <td>0</td>\n",
       "    </tr>\n",
       "    <tr>\n",
       "      <th>1212859</th>\n",
       "      <td>443.0</td>\n",
       "      <td>0.0</td>\n",
       "      <td>268.528763</td>\n",
       "      <td>0.0</td>\n",
       "      <td>1.671798e+03</td>\n",
       "      <td>3.0</td>\n",
       "      <td>160953.0</td>\n",
       "      <td>2.299329e+04</td>\n",
       "      <td>109.0</td>\n",
       "      <td>5081993.0</td>\n",
       "      <td>...</td>\n",
       "      <td>8192.0</td>\n",
       "      <td>25.0</td>\n",
       "      <td>7.0</td>\n",
       "      <td>20.0</td>\n",
       "      <td>0.00000</td>\n",
       "      <td>0.0</td>\n",
       "      <td>0.0</td>\n",
       "      <td>0.000000e+00</td>\n",
       "      <td>0.0</td>\n",
       "      <td>0</td>\n",
       "    </tr>\n",
       "    <tr>\n",
       "      <th>1212860</th>\n",
       "      <td>80.0</td>\n",
       "      <td>6.0</td>\n",
       "      <td>0.000000</td>\n",
       "      <td>0.0</td>\n",
       "      <td>1.001837e+03</td>\n",
       "      <td>24.0</td>\n",
       "      <td>11978.0</td>\n",
       "      <td>1.197800e+04</td>\n",
       "      <td>11978.0</td>\n",
       "      <td>0.0</td>\n",
       "      <td>...</td>\n",
       "      <td>0.0</td>\n",
       "      <td>235.0</td>\n",
       "      <td>1.0</td>\n",
       "      <td>20.0</td>\n",
       "      <td>0.00000</td>\n",
       "      <td>0.0</td>\n",
       "      <td>0.0</td>\n",
       "      <td>0.000000e+00</td>\n",
       "      <td>0.0</td>\n",
       "      <td>1</td>\n",
       "    </tr>\n",
       "    <tr>\n",
       "      <th>1212861</th>\n",
       "      <td>52821.0</td>\n",
       "      <td>6.0</td>\n",
       "      <td>0.000000</td>\n",
       "      <td>0.0</td>\n",
       "      <td>4.000000e+06</td>\n",
       "      <td>3.0</td>\n",
       "      <td>3.0</td>\n",
       "      <td>3.000000e+00</td>\n",
       "      <td>3.0</td>\n",
       "      <td>0.0</td>\n",
       "      <td>...</td>\n",
       "      <td>127.0</td>\n",
       "      <td>-1.0</td>\n",
       "      <td>1.0</td>\n",
       "      <td>20.0</td>\n",
       "      <td>0.00000</td>\n",
       "      <td>0.0</td>\n",
       "      <td>0.0</td>\n",
       "      <td>0.000000e+00</td>\n",
       "      <td>0.0</td>\n",
       "      <td>0</td>\n",
       "    </tr>\n",
       "    <tr>\n",
       "      <th>1212862</th>\n",
       "      <td>443.0</td>\n",
       "      <td>0.0</td>\n",
       "      <td>198.013705</td>\n",
       "      <td>0.0</td>\n",
       "      <td>6.609602e+02</td>\n",
       "      <td>1.0</td>\n",
       "      <td>116000000.0</td>\n",
       "      <td>2.646597e+06</td>\n",
       "      <td>1.0</td>\n",
       "      <td>111000000.0</td>\n",
       "      <td>...</td>\n",
       "      <td>29200.0</td>\n",
       "      <td>1101.0</td>\n",
       "      <td>7.0</td>\n",
       "      <td>32.0</td>\n",
       "      <td>176696.36380</td>\n",
       "      <td>636286.0</td>\n",
       "      <td>23506.0</td>\n",
       "      <td>1.357106e+06</td>\n",
       "      <td>5319655.0</td>\n",
       "      <td>0</td>\n",
       "    </tr>\n",
       "    <tr>\n",
       "      <th>1212863</th>\n",
       "      <td>53476.0</td>\n",
       "      <td>6.0</td>\n",
       "      <td>0.000000</td>\n",
       "      <td>0.0</td>\n",
       "      <td>2.790698e+05</td>\n",
       "      <td>43.0</td>\n",
       "      <td>43.0</td>\n",
       "      <td>4.300000e+01</td>\n",
       "      <td>43.0</td>\n",
       "      <td>0.0</td>\n",
       "      <td>...</td>\n",
       "      <td>0.0</td>\n",
       "      <td>-1.0</td>\n",
       "      <td>1.0</td>\n",
       "      <td>20.0</td>\n",
       "      <td>0.00000</td>\n",
       "      <td>0.0</td>\n",
       "      <td>0.0</td>\n",
       "      <td>0.000000e+00</td>\n",
       "      <td>0.0</td>\n",
       "      <td>0</td>\n",
       "    </tr>\n",
       "  </tbody>\n",
       "</table>\n",
       "<p>20 rows × 41 columns</p>\n",
       "</div>"
      ],
      "text/plain": [
       "         DestinationPort  FwdPacketLengthMin  FwdPacketLengthStd  \\\n",
       "1212844             53.0                65.0            0.000000   \n",
       "1212845            443.0                 0.0          121.659132   \n",
       "1212846            443.0                 0.0          343.365754   \n",
       "1212847            443.0                 0.0           77.293686   \n",
       "1212848             53.0                33.0            0.000000   \n",
       "1212849             53.0                36.0            0.000000   \n",
       "1212850             53.0                42.0            0.000000   \n",
       "1212851             53.0                35.0            0.000000   \n",
       "1212852             53.0                42.0            0.000000   \n",
       "1212853             53.0                55.0            0.000000   \n",
       "1212854            443.0                 0.0          347.450949   \n",
       "1212855          51992.0                 0.0            0.000000   \n",
       "1212856            443.0                 0.0          461.996166   \n",
       "1212857             80.0                 6.0            0.000000   \n",
       "1212858             53.0                56.0            0.000000   \n",
       "1212859            443.0                 0.0          268.528763   \n",
       "1212860             80.0                 6.0            0.000000   \n",
       "1212861          52821.0                 6.0            0.000000   \n",
       "1212862            443.0                 0.0          198.013705   \n",
       "1212863          53476.0                 6.0            0.000000   \n",
       "\n",
       "         BwdPacketLengthMin   FlowBytes/s  FlowIATMin  FwdIATTotal  \\\n",
       "1212844               142.0  1.695471e+04         3.0          3.0   \n",
       "1212845                 0.0  7.351518e+02         4.0    5733510.0   \n",
       "1212846                 0.0  4.099676e+02         1.0  116000000.0   \n",
       "1212847                 0.0  8.220780e+01         1.0  116000000.0   \n",
       "1212848                65.0  3.221935e+03         3.0         48.0   \n",
       "1212849               143.0  4.218862e+03         3.0          3.0   \n",
       "1212850               196.0  3.968366e+03         3.0      61143.0   \n",
       "1212851                51.0  5.517595e+03         3.0          3.0   \n",
       "1212852               114.0  1.013777e+04         1.0          1.0   \n",
       "1212853               110.0  5.362889e+03     30767.0          0.0   \n",
       "1212854                 0.0  2.904951e+01         3.0  116000000.0   \n",
       "1212855                 0.0  0.000000e+00         3.0          3.0   \n",
       "1212856                 0.0  3.200836e+03         1.0    1948866.0   \n",
       "1212857                 0.0  5.918753e+00         3.0    4054908.0   \n",
       "1212858               338.0  7.167024e+03     54974.0          0.0   \n",
       "1212859                 0.0  1.671798e+03         3.0     160953.0   \n",
       "1212860                 0.0  1.001837e+03        24.0      11978.0   \n",
       "1212861                 0.0  4.000000e+06         3.0          3.0   \n",
       "1212862                 0.0  6.609602e+02         1.0  116000000.0   \n",
       "1212863                 0.0  2.790698e+05        43.0         43.0   \n",
       "\n",
       "           FwdIATMean  FwdIATMin  BwdIATTotal  ...  Init_Win_bytes_forward  \\\n",
       "1212844  3.000000e+00        3.0         49.0  ...                    -1.0   \n",
       "1212845  7.166888e+05        4.0     306861.0  ...                  8192.0   \n",
       "1212846  2.326232e+06        1.0  111000000.0  ...                 29200.0   \n",
       "1212847  5.531859e+06       49.0  111000000.0  ...                  8192.0   \n",
       "1212848  4.800000e+01       48.0          3.0  ...                    -1.0   \n",
       "1212849  3.000000e+00        3.0          4.0  ...                    -1.0   \n",
       "1212850  2.038100e+04        3.0          3.0  ...                    -1.0   \n",
       "1212851  3.000000e+00        3.0          3.0  ...                    -1.0   \n",
       "1212852  1.000000e+00        1.0          4.0  ...                    -1.0   \n",
       "1212853  0.000000e+00        0.0          0.0  ...                    -1.0   \n",
       "1212854  5.795278e+06        3.0  112000000.0  ...                 29200.0   \n",
       "1212855  3.000000e+00        3.0          0.0  ...                   366.0   \n",
       "1212856  1.146392e+05        1.0     127951.0  ...                  8192.0   \n",
       "1212857  1.351636e+06        3.0          0.0  ...                   256.0   \n",
       "1212858  0.000000e+00        0.0          0.0  ...                    -1.0   \n",
       "1212859  2.299329e+04      109.0    5081993.0  ...                  8192.0   \n",
       "1212860  1.197800e+04    11978.0          0.0  ...                     0.0   \n",
       "1212861  3.000000e+00        3.0          0.0  ...                   127.0   \n",
       "1212862  2.646597e+06        1.0  111000000.0  ...                 29200.0   \n",
       "1212863  4.300000e+01       43.0          0.0  ...                     0.0   \n",
       "\n",
       "         Init_Win_bytes_backward  act_data_pkt_fwd  min_seg_size_forward  \\\n",
       "1212844                     -1.0               1.0                  20.0   \n",
       "1212845                    980.0               7.0                  20.0   \n",
       "1212846                    429.0               7.0                  32.0   \n",
       "1212847                     31.0              15.0                  20.0   \n",
       "1212848                     -1.0               1.0                  32.0   \n",
       "1212849                     -1.0               1.0                  40.0   \n",
       "1212850                     -1.0               3.0                  20.0   \n",
       "1212851                     -1.0               1.0                  32.0   \n",
       "1212852                     -1.0               1.0                  32.0   \n",
       "1212853                     -1.0               0.0                  20.0   \n",
       "1212854                    383.0               5.0                  32.0   \n",
       "1212855                     -1.0               0.0                  32.0   \n",
       "1212856                   8192.0              17.0                  20.0   \n",
       "1212857                     -1.0               3.0                  20.0   \n",
       "1212858                     -1.0               0.0                  32.0   \n",
       "1212859                     25.0               7.0                  20.0   \n",
       "1212860                    235.0               1.0                  20.0   \n",
       "1212861                     -1.0               1.0                  20.0   \n",
       "1212862                   1101.0               7.0                  32.0   \n",
       "1212863                     -1.0               1.0                  20.0   \n",
       "\n",
       "            ActiveStd  ActiveMax  ActiveMin       IdleStd    IdleMin  Label  \n",
       "1212844       0.00000        0.0        0.0  0.000000e+00        0.0      0  \n",
       "1212845       0.00000   341042.0   341042.0  0.000000e+00  5392464.0      0  \n",
       "1212846  241534.54350   837484.0    36168.0  1.721029e+04  9960003.0      0  \n",
       "1212847  143570.13460   512411.0    14983.0  1.308025e+06  5470718.0      0  \n",
       "1212848       0.00000        0.0        0.0  0.000000e+00        0.0      0  \n",
       "1212849       0.00000        0.0        0.0  0.000000e+00        0.0      0  \n",
       "1212850       0.00000        0.0        0.0  0.000000e+00        0.0      0  \n",
       "1212851       0.00000        0.0        0.0  0.000000e+00        0.0      0  \n",
       "1212852       0.00000        0.0        0.0  0.000000e+00        0.0      0  \n",
       "1212853       0.00000        0.0        0.0  0.000000e+00        0.0      0  \n",
       "1212854   83381.23785   389836.0   114122.0  2.097412e+04  9959985.0      0  \n",
       "1212855       0.00000        0.0        0.0  0.000000e+00        0.0      0  \n",
       "1212856       0.00000        0.0        0.0  0.000000e+00        0.0      0  \n",
       "1212857       0.00000        0.0        0.0  0.000000e+00        0.0      1  \n",
       "1212858       0.00000        0.0        0.0  0.000000e+00        0.0      0  \n",
       "1212859       0.00000        0.0        0.0  0.000000e+00        0.0      0  \n",
       "1212860       0.00000        0.0        0.0  0.000000e+00        0.0      1  \n",
       "1212861       0.00000        0.0        0.0  0.000000e+00        0.0      0  \n",
       "1212862  176696.36380   636286.0    23506.0  1.357106e+06  5319655.0      0  \n",
       "1212863       0.00000        0.0        0.0  0.000000e+00        0.0      0  \n",
       "\n",
       "[20 rows x 41 columns]"
      ]
     },
     "execution_count": 11,
     "metadata": {},
     "output_type": "execute_result"
    }
   ],
   "source": [
    "df.tail(20)"
   ]
  },
  {
   "cell_type": "markdown",
   "metadata": {
    "id": "oMMbfE3-o68l"
   },
   "source": [
    "# Train and Test Dataset"
   ]
  },
  {
   "cell_type": "code",
   "execution_count": 12,
   "metadata": {
    "id": "Bzh9e4xmozMo"
   },
   "outputs": [],
   "source": [
    "# put labels into y_train variable\n",
    "Y = df[\"Label\"]\n",
    "# Drop 'label' column\n",
    "X = df.drop(labels = [\"Label\"],axis = 1)"
   ]
  },
  {
   "cell_type": "code",
   "execution_count": 13,
   "metadata": {
    "colab": {
     "base_uri": "https://localhost:8080/"
    },
    "id": "lhPkdf0Eo4-Y",
    "outputId": "43545bcb-d5a8-4d84-96e4-aece63cce44f"
   },
   "outputs": [
    {
     "data": {
      "text/plain": [
       "((1212864, 40), (1212864,))"
      ]
     },
     "execution_count": 13,
     "metadata": {},
     "output_type": "execute_result"
    }
   ],
   "source": [
    "X.shape, Y.shape"
   ]
  },
  {
   "cell_type": "code",
   "execution_count": 14,
   "metadata": {
    "colab": {
     "base_uri": "https://localhost:8080/"
    },
    "id": "xYn6Sx73pNX2",
    "outputId": "30357470-40e0-4cc5-9c26-f36158c4402a"
   },
   "outputs": [
    {
     "data": {
      "text/plain": [
       "array([0, 1])"
      ]
     },
     "execution_count": 14,
     "metadata": {},
     "output_type": "execute_result"
    }
   ],
   "source": [
    "df['Label'].unique()"
   ]
  },
  {
   "cell_type": "code",
   "execution_count": 15,
   "metadata": {
    "colab": {
     "base_uri": "https://localhost:8080/"
    },
    "id": "4It7J8fRskPz",
    "outputId": "6dd61829-1924-4662-f98a-07a58f41c5bd"
   },
   "outputs": [
    {
     "data": {
      "text/plain": [
       "Label\n",
       "0    1017287\n",
       "1     195577\n",
       "Name: count, dtype: int64"
      ]
     },
     "execution_count": 15,
     "metadata": {},
     "output_type": "execute_result"
    }
   ],
   "source": [
    "df[\"Label\"].value_counts()"
   ]
  },
  {
   "cell_type": "code",
   "execution_count": 16,
   "metadata": {
    "colab": {
     "base_uri": "https://localhost:8080/"
    },
    "id": "x6ds4bN9sy4x",
    "outputId": "43c454f2-6e1d-4f64-db09-3ba3263054b5"
   },
   "outputs": [
    {
     "data": {
      "text/plain": [
       "pandas.core.frame.DataFrame"
      ]
     },
     "execution_count": 16,
     "metadata": {},
     "output_type": "execute_result"
    }
   ],
   "source": [
    "type(X)"
   ]
  },
  {
   "cell_type": "code",
   "execution_count": 17,
   "metadata": {
    "colab": {
     "base_uri": "https://localhost:8080/"
    },
    "id": "RUepm4w1tvK5",
    "outputId": "589c1a34-cefd-4597-c241-c072bdad4d65"
   },
   "outputs": [
    {
     "data": {
      "text/plain": [
       "['DestinationPort',\n",
       " 'FwdPacketLengthMin',\n",
       " 'FwdPacketLengthStd',\n",
       " 'BwdPacketLengthMin',\n",
       " 'FlowBytes/s',\n",
       " 'FlowIATMin',\n",
       " 'FwdIATTotal',\n",
       " 'FwdIATMean',\n",
       " 'FwdIATMin',\n",
       " 'BwdIATTotal',\n",
       " 'BwdIATStd',\n",
       " 'BwdIATMax',\n",
       " 'BwdIATMin',\n",
       " 'BwdHeaderLength',\n",
       " 'FwdPackets/s',\n",
       " 'BwdPackets/s',\n",
       " 'MinPacketLength',\n",
       " 'PacketLengthVariance',\n",
       " 'FINFlagCount',\n",
       " 'SYNFlagCount',\n",
       " 'PSHFlagCount',\n",
       " 'ACKFlagCount',\n",
       " 'URGFlagCount',\n",
       " 'CWEFlagCount',\n",
       " 'ECEFlagCount',\n",
       " 'Down/UpRatio',\n",
       " 'AvgFwdSegmentSize',\n",
       " 'AvgBwdSegmentSize',\n",
       " 'FwdHeaderLength.1',\n",
       " 'SubflowFwdBytes',\n",
       " 'SubflowBwdBytes',\n",
       " 'Init_Win_bytes_forward',\n",
       " 'Init_Win_bytes_backward',\n",
       " 'act_data_pkt_fwd',\n",
       " 'min_seg_size_forward',\n",
       " 'ActiveStd',\n",
       " 'ActiveMax',\n",
       " 'ActiveMin',\n",
       " 'IdleStd',\n",
       " 'IdleMin']"
      ]
     },
     "execution_count": 17,
     "metadata": {},
     "output_type": "execute_result"
    }
   ],
   "source": [
    "features = list(X.columns)\n",
    "features"
   ]
  },
  {
   "cell_type": "code",
   "execution_count": 18,
   "metadata": {
    "colab": {
     "base_uri": "https://localhost:8080/",
     "height": 488
    },
    "id": "3vroSJ-E1qm-",
    "outputId": "f75a12c3-c786-41a1-89a7-302b0f409743"
   },
   "outputs": [
    {
     "data": {
      "text/html": [
       "<div>\n",
       "<style scoped>\n",
       "    .dataframe tbody tr th:only-of-type {\n",
       "        vertical-align: middle;\n",
       "    }\n",
       "\n",
       "    .dataframe tbody tr th {\n",
       "        vertical-align: top;\n",
       "    }\n",
       "\n",
       "    .dataframe thead th {\n",
       "        text-align: right;\n",
       "    }\n",
       "</style>\n",
       "<table border=\"1\" class=\"dataframe\">\n",
       "  <thead>\n",
       "    <tr style=\"text-align: right;\">\n",
       "      <th></th>\n",
       "      <th>DestinationPort</th>\n",
       "      <th>FwdPacketLengthMin</th>\n",
       "      <th>FwdPacketLengthStd</th>\n",
       "      <th>BwdPacketLengthMin</th>\n",
       "      <th>FlowBytes/s</th>\n",
       "      <th>FlowIATMin</th>\n",
       "      <th>FwdIATTotal</th>\n",
       "      <th>FwdIATMean</th>\n",
       "      <th>FwdIATMin</th>\n",
       "      <th>BwdIATTotal</th>\n",
       "      <th>...</th>\n",
       "      <th>SubflowBwdBytes</th>\n",
       "      <th>Init_Win_bytes_forward</th>\n",
       "      <th>Init_Win_bytes_backward</th>\n",
       "      <th>act_data_pkt_fwd</th>\n",
       "      <th>min_seg_size_forward</th>\n",
       "      <th>ActiveStd</th>\n",
       "      <th>ActiveMax</th>\n",
       "      <th>ActiveMin</th>\n",
       "      <th>IdleStd</th>\n",
       "      <th>IdleMin</th>\n",
       "    </tr>\n",
       "  </thead>\n",
       "  <tbody>\n",
       "    <tr>\n",
       "      <th>0</th>\n",
       "      <td>-0.437759</td>\n",
       "      <td>-0.312001</td>\n",
       "      <td>0.164039</td>\n",
       "      <td>-0.605441</td>\n",
       "      <td>-0.052435</td>\n",
       "      <td>-0.056579</td>\n",
       "      <td>1.242549</td>\n",
       "      <td>0.078117</td>\n",
       "      <td>-0.127441</td>\n",
       "      <td>1.617777</td>\n",
       "      <td>...</td>\n",
       "      <td>-0.005126</td>\n",
       "      <td>1.498544</td>\n",
       "      <td>-0.242057</td>\n",
       "      <td>-0.004281</td>\n",
       "      <td>0.002520</td>\n",
       "      <td>0.238611</td>\n",
       "      <td>0.214423</td>\n",
       "      <td>-0.034957</td>\n",
       "      <td>-0.096127</td>\n",
       "      <td>0.026477</td>\n",
       "    </tr>\n",
       "    <tr>\n",
       "      <th>1</th>\n",
       "      <td>-0.456629</td>\n",
       "      <td>-0.312001</td>\n",
       "      <td>0.195945</td>\n",
       "      <td>-0.605441</td>\n",
       "      <td>-0.052433</td>\n",
       "      <td>-0.056581</td>\n",
       "      <td>1.413294</td>\n",
       "      <td>1.028833</td>\n",
       "      <td>-0.127465</td>\n",
       "      <td>1.822928</td>\n",
       "      <td>...</td>\n",
       "      <td>-0.002507</td>\n",
       "      <td>-0.496743</td>\n",
       "      <td>-0.228723</td>\n",
       "      <td>-0.004281</td>\n",
       "      <td>0.002508</td>\n",
       "      <td>-0.110884</td>\n",
       "      <td>-0.146453</td>\n",
       "      <td>-0.084233</td>\n",
       "      <td>-0.118113</td>\n",
       "      <td>2.314452</td>\n",
       "    </tr>\n",
       "    <tr>\n",
       "      <th>2</th>\n",
       "      <td>-0.458032</td>\n",
       "      <td>0.435720</td>\n",
       "      <td>-0.263217</td>\n",
       "      <td>0.430126</td>\n",
       "      <td>-0.052439</td>\n",
       "      <td>-0.048711</td>\n",
       "      <td>2.292208</td>\n",
       "      <td>9.413741</td>\n",
       "      <td>10.609694</td>\n",
       "      <td>2.845422</td>\n",
       "      <td>...</td>\n",
       "      <td>-0.007504</td>\n",
       "      <td>-0.496811</td>\n",
       "      <td>-0.254729</td>\n",
       "      <td>-0.007555</td>\n",
       "      <td>0.002508</td>\n",
       "      <td>-0.110884</td>\n",
       "      <td>-0.139222</td>\n",
       "      <td>-0.071230</td>\n",
       "      <td>-0.118113</td>\n",
       "      <td>3.571113</td>\n",
       "    </tr>\n",
       "    <tr>\n",
       "      <th>3</th>\n",
       "      <td>2.557350</td>\n",
       "      <td>-0.214472</td>\n",
       "      <td>0.245175</td>\n",
       "      <td>-0.605441</td>\n",
       "      <td>-0.043738</td>\n",
       "      <td>-0.056581</td>\n",
       "      <td>-0.473259</td>\n",
       "      <td>-0.298144</td>\n",
       "      <td>-0.127465</td>\n",
       "      <td>-0.375110</td>\n",
       "      <td>...</td>\n",
       "      <td>-0.007610</td>\n",
       "      <td>-0.492643</td>\n",
       "      <td>-0.254729</td>\n",
       "      <td>-0.005918</td>\n",
       "      <td>0.002508</td>\n",
       "      <td>-0.110884</td>\n",
       "      <td>-0.161012</td>\n",
       "      <td>-0.110413</td>\n",
       "      <td>-0.118113</td>\n",
       "      <td>-0.370414</td>\n",
       "    </tr>\n",
       "    <tr>\n",
       "      <th>4</th>\n",
       "      <td>-0.149466</td>\n",
       "      <td>-0.312001</td>\n",
       "      <td>-0.265551</td>\n",
       "      <td>-0.521476</td>\n",
       "      <td>-0.049667</td>\n",
       "      <td>-0.056555</td>\n",
       "      <td>-0.473293</td>\n",
       "      <td>-0.298204</td>\n",
       "      <td>-0.127465</td>\n",
       "      <td>-0.375110</td>\n",
       "      <td>...</td>\n",
       "      <td>-0.007607</td>\n",
       "      <td>1.498544</td>\n",
       "      <td>-0.254619</td>\n",
       "      <td>-0.009192</td>\n",
       "      <td>0.002527</td>\n",
       "      <td>-0.110884</td>\n",
       "      <td>-0.161012</td>\n",
       "      <td>-0.110413</td>\n",
       "      <td>-0.118113</td>\n",
       "      <td>-0.370414</td>\n",
       "    </tr>\n",
       "    <tr>\n",
       "      <th>...</th>\n",
       "      <td>...</td>\n",
       "      <td>...</td>\n",
       "      <td>...</td>\n",
       "      <td>...</td>\n",
       "      <td>...</td>\n",
       "      <td>...</td>\n",
       "      <td>...</td>\n",
       "      <td>...</td>\n",
       "      <td>...</td>\n",
       "      <td>...</td>\n",
       "      <td>...</td>\n",
       "      <td>...</td>\n",
       "      <td>...</td>\n",
       "      <td>...</td>\n",
       "      <td>...</td>\n",
       "      <td>...</td>\n",
       "      <td>...</td>\n",
       "      <td>...</td>\n",
       "      <td>...</td>\n",
       "      <td>...</td>\n",
       "      <td>...</td>\n",
       "    </tr>\n",
       "    <tr>\n",
       "      <th>1212859</th>\n",
       "      <td>-0.437759</td>\n",
       "      <td>-0.312001</td>\n",
       "      <td>0.620797</td>\n",
       "      <td>-0.605441</td>\n",
       "      <td>-0.052377</td>\n",
       "      <td>-0.056581</td>\n",
       "      <td>-0.468787</td>\n",
       "      <td>-0.295944</td>\n",
       "      <td>-0.127453</td>\n",
       "      <td>-0.209623</td>\n",
       "      <td>...</td>\n",
       "      <td>-0.004440</td>\n",
       "      <td>0.063031</td>\n",
       "      <td>-0.251864</td>\n",
       "      <td>0.002268</td>\n",
       "      <td>0.002508</td>\n",
       "      <td>-0.110884</td>\n",
       "      <td>-0.161012</td>\n",
       "      <td>-0.110413</td>\n",
       "      <td>-0.118113</td>\n",
       "      <td>-0.370414</td>\n",
       "    </tr>\n",
       "    <tr>\n",
       "      <th>1212860</th>\n",
       "      <td>-0.456629</td>\n",
       "      <td>-0.214472</td>\n",
       "      <td>-0.265551</td>\n",
       "      <td>-0.605441</td>\n",
       "      <td>-0.052402</td>\n",
       "      <td>-0.056574</td>\n",
       "      <td>-0.472957</td>\n",
       "      <td>-0.297026</td>\n",
       "      <td>-0.126163</td>\n",
       "      <td>-0.375110</td>\n",
       "      <td>...</td>\n",
       "      <td>-0.007610</td>\n",
       "      <td>-0.496743</td>\n",
       "      <td>-0.228723</td>\n",
       "      <td>-0.007555</td>\n",
       "      <td>0.002508</td>\n",
       "      <td>-0.110884</td>\n",
       "      <td>-0.161012</td>\n",
       "      <td>-0.110413</td>\n",
       "      <td>-0.118113</td>\n",
       "      <td>-0.370414</td>\n",
       "    </tr>\n",
       "    <tr>\n",
       "      <th>1212861</th>\n",
       "      <td>2.284964</td>\n",
       "      <td>-0.214472</td>\n",
       "      <td>-0.265551</td>\n",
       "      <td>-0.605441</td>\n",
       "      <td>0.095419</td>\n",
       "      <td>-0.056581</td>\n",
       "      <td>-0.473293</td>\n",
       "      <td>-0.298204</td>\n",
       "      <td>-0.127465</td>\n",
       "      <td>-0.375110</td>\n",
       "      <td>...</td>\n",
       "      <td>-0.007610</td>\n",
       "      <td>-0.488065</td>\n",
       "      <td>-0.254729</td>\n",
       "      <td>-0.007555</td>\n",
       "      <td>0.002508</td>\n",
       "      <td>-0.110884</td>\n",
       "      <td>-0.161012</td>\n",
       "      <td>-0.110413</td>\n",
       "      <td>-0.118113</td>\n",
       "      <td>-0.370414</td>\n",
       "    </tr>\n",
       "    <tr>\n",
       "      <th>1212862</th>\n",
       "      <td>-0.437759</td>\n",
       "      <td>-0.312001</td>\n",
       "      <td>0.388044</td>\n",
       "      <td>-0.605441</td>\n",
       "      <td>-0.052415</td>\n",
       "      <td>-0.056581</td>\n",
       "      <td>2.773651</td>\n",
       "      <td>-0.038046</td>\n",
       "      <td>-0.127465</td>\n",
       "      <td>3.239441</td>\n",
       "      <td>...</td>\n",
       "      <td>0.024842</td>\n",
       "      <td>1.498544</td>\n",
       "      <td>-0.133294</td>\n",
       "      <td>0.002268</td>\n",
       "      <td>0.002520</td>\n",
       "      <td>0.301353</td>\n",
       "      <td>0.416980</td>\n",
       "      <td>-0.072017</td>\n",
       "      <td>0.155308</td>\n",
       "      <td>-0.158192</td>\n",
       "    </tr>\n",
       "    <tr>\n",
       "      <th>1212863</th>\n",
       "      <td>2.319012</td>\n",
       "      <td>-0.214472</td>\n",
       "      <td>-0.265551</td>\n",
       "      <td>-0.605441</td>\n",
       "      <td>-0.042124</td>\n",
       "      <td>-0.056568</td>\n",
       "      <td>-0.473291</td>\n",
       "      <td>-0.298200</td>\n",
       "      <td>-0.127460</td>\n",
       "      <td>-0.375110</td>\n",
       "      <td>...</td>\n",
       "      <td>-0.007610</td>\n",
       "      <td>-0.496743</td>\n",
       "      <td>-0.254729</td>\n",
       "      <td>-0.007555</td>\n",
       "      <td>0.002508</td>\n",
       "      <td>-0.110884</td>\n",
       "      <td>-0.161012</td>\n",
       "      <td>-0.110413</td>\n",
       "      <td>-0.118113</td>\n",
       "      <td>-0.370414</td>\n",
       "    </tr>\n",
       "  </tbody>\n",
       "</table>\n",
       "<p>1212864 rows × 40 columns</p>\n",
       "</div>"
      ],
      "text/plain": [
       "         DestinationPort  FwdPacketLengthMin  FwdPacketLengthStd  \\\n",
       "0              -0.437759           -0.312001            0.164039   \n",
       "1              -0.456629           -0.312001            0.195945   \n",
       "2              -0.458032            0.435720           -0.263217   \n",
       "3               2.557350           -0.214472            0.245175   \n",
       "4              -0.149466           -0.312001           -0.265551   \n",
       "...                  ...                 ...                 ...   \n",
       "1212859        -0.437759           -0.312001            0.620797   \n",
       "1212860        -0.456629           -0.214472           -0.265551   \n",
       "1212861         2.284964           -0.214472           -0.265551   \n",
       "1212862        -0.437759           -0.312001            0.388044   \n",
       "1212863         2.319012           -0.214472           -0.265551   \n",
       "\n",
       "         BwdPacketLengthMin  FlowBytes/s  FlowIATMin  FwdIATTotal  FwdIATMean  \\\n",
       "0                 -0.605441    -0.052435   -0.056579     1.242549    0.078117   \n",
       "1                 -0.605441    -0.052433   -0.056581     1.413294    1.028833   \n",
       "2                  0.430126    -0.052439   -0.048711     2.292208    9.413741   \n",
       "3                 -0.605441    -0.043738   -0.056581    -0.473259   -0.298144   \n",
       "4                 -0.521476    -0.049667   -0.056555    -0.473293   -0.298204   \n",
       "...                     ...          ...         ...          ...         ...   \n",
       "1212859           -0.605441    -0.052377   -0.056581    -0.468787   -0.295944   \n",
       "1212860           -0.605441    -0.052402   -0.056574    -0.472957   -0.297026   \n",
       "1212861           -0.605441     0.095419   -0.056581    -0.473293   -0.298204   \n",
       "1212862           -0.605441    -0.052415   -0.056581     2.773651   -0.038046   \n",
       "1212863           -0.605441    -0.042124   -0.056568    -0.473291   -0.298200   \n",
       "\n",
       "         FwdIATMin  BwdIATTotal  ...  SubflowBwdBytes  Init_Win_bytes_forward  \\\n",
       "0        -0.127441     1.617777  ...        -0.005126                1.498544   \n",
       "1        -0.127465     1.822928  ...        -0.002507               -0.496743   \n",
       "2        10.609694     2.845422  ...        -0.007504               -0.496811   \n",
       "3        -0.127465    -0.375110  ...        -0.007610               -0.492643   \n",
       "4        -0.127465    -0.375110  ...        -0.007607                1.498544   \n",
       "...            ...          ...  ...              ...                     ...   \n",
       "1212859  -0.127453    -0.209623  ...        -0.004440                0.063031   \n",
       "1212860  -0.126163    -0.375110  ...        -0.007610               -0.496743   \n",
       "1212861  -0.127465    -0.375110  ...        -0.007610               -0.488065   \n",
       "1212862  -0.127465     3.239441  ...         0.024842                1.498544   \n",
       "1212863  -0.127460    -0.375110  ...        -0.007610               -0.496743   \n",
       "\n",
       "         Init_Win_bytes_backward  act_data_pkt_fwd  min_seg_size_forward  \\\n",
       "0                      -0.242057         -0.004281              0.002520   \n",
       "1                      -0.228723         -0.004281              0.002508   \n",
       "2                      -0.254729         -0.007555              0.002508   \n",
       "3                      -0.254729         -0.005918              0.002508   \n",
       "4                      -0.254619         -0.009192              0.002527   \n",
       "...                          ...               ...                   ...   \n",
       "1212859                -0.251864          0.002268              0.002508   \n",
       "1212860                -0.228723         -0.007555              0.002508   \n",
       "1212861                -0.254729         -0.007555              0.002508   \n",
       "1212862                -0.133294          0.002268              0.002520   \n",
       "1212863                -0.254729         -0.007555              0.002508   \n",
       "\n",
       "         ActiveStd  ActiveMax  ActiveMin   IdleStd   IdleMin  \n",
       "0         0.238611   0.214423  -0.034957 -0.096127  0.026477  \n",
       "1        -0.110884  -0.146453  -0.084233 -0.118113  2.314452  \n",
       "2        -0.110884  -0.139222  -0.071230 -0.118113  3.571113  \n",
       "3        -0.110884  -0.161012  -0.110413 -0.118113 -0.370414  \n",
       "4        -0.110884  -0.161012  -0.110413 -0.118113 -0.370414  \n",
       "...            ...        ...        ...       ...       ...  \n",
       "1212859  -0.110884  -0.161012  -0.110413 -0.118113 -0.370414  \n",
       "1212860  -0.110884  -0.161012  -0.110413 -0.118113 -0.370414  \n",
       "1212861  -0.110884  -0.161012  -0.110413 -0.118113 -0.370414  \n",
       "1212862   0.301353   0.416980  -0.072017  0.155308 -0.158192  \n",
       "1212863  -0.110884  -0.161012  -0.110413 -0.118113 -0.370414  \n",
       "\n",
       "[1212864 rows x 40 columns]"
      ]
     },
     "execution_count": 18,
     "metadata": {},
     "output_type": "execute_result"
    }
   ],
   "source": [
    "#Scalling numerical attributes\n",
    "\n",
    "scaler = StandardScaler()\n",
    "X_scaled = scaler.fit_transform(X)\n",
    "\n",
    "# Turn back to dataframe\n",
    "X = pd.DataFrame(X_scaled, columns=features)\n",
    "X"
   ]
  },
  {
   "cell_type": "code",
   "execution_count": 19,
   "metadata": {
    "colab": {
     "base_uri": "https://localhost:8080/"
    },
    "id": "1AK1j9Lh2ReI",
    "outputId": "6c6e2f5d-548c-407b-adbd-60a4ff99e2b8"
   },
   "outputs": [
    {
     "data": {
      "text/plain": [
       "22740581.6"
      ]
     },
     "execution_count": 19,
     "metadata": {},
     "output_type": "execute_result"
    }
   ],
   "source": [
    "28425727*0.8\n",
    "\n"
   ]
  },
  {
   "cell_type": "code",
   "execution_count": 20,
   "metadata": {
    "id": "31ulK_LN4JaR"
   },
   "outputs": [],
   "source": [
    "X[\"Label\"] = Y"
   ]
  },
  {
   "cell_type": "code",
   "execution_count": 21,
   "metadata": {
    "colab": {
     "base_uri": "https://localhost:8080/"
    },
    "id": "sV2MkOhD-lIj",
    "outputId": "f3fda8cd-fc74-4f5e-d187-a8dc11688afd"
   },
   "outputs": [
    {
     "data": {
      "text/plain": [
       "(1212864, 41)"
      ]
     },
     "execution_count": 21,
     "metadata": {},
     "output_type": "execute_result"
    }
   ],
   "source": [
    "X.shape"
   ]
  },
  {
   "cell_type": "code",
   "execution_count": 22,
   "metadata": {
    "colab": {
     "base_uri": "https://localhost:8080/",
     "height": 300
    },
    "id": "OuKZLqIx48zI",
    "outputId": "12f008f9-c8d3-4820-edef-733b01449a5e"
   },
   "outputs": [
    {
     "data": {
      "text/html": [
       "<div>\n",
       "<style scoped>\n",
       "    .dataframe tbody tr th:only-of-type {\n",
       "        vertical-align: middle;\n",
       "    }\n",
       "\n",
       "    .dataframe tbody tr th {\n",
       "        vertical-align: top;\n",
       "    }\n",
       "\n",
       "    .dataframe thead th {\n",
       "        text-align: right;\n",
       "    }\n",
       "</style>\n",
       "<table border=\"1\" class=\"dataframe\">\n",
       "  <thead>\n",
       "    <tr style=\"text-align: right;\">\n",
       "      <th></th>\n",
       "      <th>DestinationPort</th>\n",
       "      <th>FwdPacketLengthMin</th>\n",
       "      <th>FwdPacketLengthStd</th>\n",
       "      <th>BwdPacketLengthMin</th>\n",
       "      <th>FlowBytes/s</th>\n",
       "      <th>FlowIATMin</th>\n",
       "      <th>FwdIATTotal</th>\n",
       "      <th>FwdIATMean</th>\n",
       "      <th>FwdIATMin</th>\n",
       "      <th>BwdIATTotal</th>\n",
       "      <th>...</th>\n",
       "      <th>Init_Win_bytes_forward</th>\n",
       "      <th>Init_Win_bytes_backward</th>\n",
       "      <th>act_data_pkt_fwd</th>\n",
       "      <th>min_seg_size_forward</th>\n",
       "      <th>ActiveStd</th>\n",
       "      <th>ActiveMax</th>\n",
       "      <th>ActiveMin</th>\n",
       "      <th>IdleStd</th>\n",
       "      <th>IdleMin</th>\n",
       "      <th>Label</th>\n",
       "    </tr>\n",
       "  </thead>\n",
       "  <tbody>\n",
       "    <tr>\n",
       "      <th>0</th>\n",
       "      <td>-0.437759</td>\n",
       "      <td>-0.312001</td>\n",
       "      <td>0.164039</td>\n",
       "      <td>-0.605441</td>\n",
       "      <td>-0.052435</td>\n",
       "      <td>-0.056579</td>\n",
       "      <td>1.242549</td>\n",
       "      <td>0.078117</td>\n",
       "      <td>-0.127441</td>\n",
       "      <td>1.617777</td>\n",
       "      <td>...</td>\n",
       "      <td>1.498544</td>\n",
       "      <td>-0.242057</td>\n",
       "      <td>-0.004281</td>\n",
       "      <td>0.002520</td>\n",
       "      <td>0.238611</td>\n",
       "      <td>0.214423</td>\n",
       "      <td>-0.034957</td>\n",
       "      <td>-0.096127</td>\n",
       "      <td>0.026477</td>\n",
       "      <td>0</td>\n",
       "    </tr>\n",
       "    <tr>\n",
       "      <th>1</th>\n",
       "      <td>-0.456629</td>\n",
       "      <td>-0.312001</td>\n",
       "      <td>0.195945</td>\n",
       "      <td>-0.605441</td>\n",
       "      <td>-0.052433</td>\n",
       "      <td>-0.056581</td>\n",
       "      <td>1.413294</td>\n",
       "      <td>1.028833</td>\n",
       "      <td>-0.127465</td>\n",
       "      <td>1.822928</td>\n",
       "      <td>...</td>\n",
       "      <td>-0.496743</td>\n",
       "      <td>-0.228723</td>\n",
       "      <td>-0.004281</td>\n",
       "      <td>0.002508</td>\n",
       "      <td>-0.110884</td>\n",
       "      <td>-0.146453</td>\n",
       "      <td>-0.084233</td>\n",
       "      <td>-0.118113</td>\n",
       "      <td>2.314452</td>\n",
       "      <td>1</td>\n",
       "    </tr>\n",
       "    <tr>\n",
       "      <th>2</th>\n",
       "      <td>-0.458032</td>\n",
       "      <td>0.435720</td>\n",
       "      <td>-0.263217</td>\n",
       "      <td>0.430126</td>\n",
       "      <td>-0.052439</td>\n",
       "      <td>-0.048711</td>\n",
       "      <td>2.292208</td>\n",
       "      <td>9.413741</td>\n",
       "      <td>10.609694</td>\n",
       "      <td>2.845422</td>\n",
       "      <td>...</td>\n",
       "      <td>-0.496811</td>\n",
       "      <td>-0.254729</td>\n",
       "      <td>-0.007555</td>\n",
       "      <td>0.002508</td>\n",
       "      <td>-0.110884</td>\n",
       "      <td>-0.139222</td>\n",
       "      <td>-0.071230</td>\n",
       "      <td>-0.118113</td>\n",
       "      <td>3.571113</td>\n",
       "      <td>0</td>\n",
       "    </tr>\n",
       "    <tr>\n",
       "      <th>3</th>\n",
       "      <td>2.557350</td>\n",
       "      <td>-0.214472</td>\n",
       "      <td>0.245175</td>\n",
       "      <td>-0.605441</td>\n",
       "      <td>-0.043738</td>\n",
       "      <td>-0.056581</td>\n",
       "      <td>-0.473259</td>\n",
       "      <td>-0.298144</td>\n",
       "      <td>-0.127465</td>\n",
       "      <td>-0.375110</td>\n",
       "      <td>...</td>\n",
       "      <td>-0.492643</td>\n",
       "      <td>-0.254729</td>\n",
       "      <td>-0.005918</td>\n",
       "      <td>0.002508</td>\n",
       "      <td>-0.110884</td>\n",
       "      <td>-0.161012</td>\n",
       "      <td>-0.110413</td>\n",
       "      <td>-0.118113</td>\n",
       "      <td>-0.370414</td>\n",
       "      <td>0</td>\n",
       "    </tr>\n",
       "    <tr>\n",
       "      <th>4</th>\n",
       "      <td>-0.149466</td>\n",
       "      <td>-0.312001</td>\n",
       "      <td>-0.265551</td>\n",
       "      <td>-0.521476</td>\n",
       "      <td>-0.049667</td>\n",
       "      <td>-0.056555</td>\n",
       "      <td>-0.473293</td>\n",
       "      <td>-0.298204</td>\n",
       "      <td>-0.127465</td>\n",
       "      <td>-0.375110</td>\n",
       "      <td>...</td>\n",
       "      <td>1.498544</td>\n",
       "      <td>-0.254619</td>\n",
       "      <td>-0.009192</td>\n",
       "      <td>0.002527</td>\n",
       "      <td>-0.110884</td>\n",
       "      <td>-0.161012</td>\n",
       "      <td>-0.110413</td>\n",
       "      <td>-0.118113</td>\n",
       "      <td>-0.370414</td>\n",
       "      <td>1</td>\n",
       "    </tr>\n",
       "  </tbody>\n",
       "</table>\n",
       "<p>5 rows × 41 columns</p>\n",
       "</div>"
      ],
      "text/plain": [
       "   DestinationPort  FwdPacketLengthMin  FwdPacketLengthStd  \\\n",
       "0        -0.437759           -0.312001            0.164039   \n",
       "1        -0.456629           -0.312001            0.195945   \n",
       "2        -0.458032            0.435720           -0.263217   \n",
       "3         2.557350           -0.214472            0.245175   \n",
       "4        -0.149466           -0.312001           -0.265551   \n",
       "\n",
       "   BwdPacketLengthMin  FlowBytes/s  FlowIATMin  FwdIATTotal  FwdIATMean  \\\n",
       "0           -0.605441    -0.052435   -0.056579     1.242549    0.078117   \n",
       "1           -0.605441    -0.052433   -0.056581     1.413294    1.028833   \n",
       "2            0.430126    -0.052439   -0.048711     2.292208    9.413741   \n",
       "3           -0.605441    -0.043738   -0.056581    -0.473259   -0.298144   \n",
       "4           -0.521476    -0.049667   -0.056555    -0.473293   -0.298204   \n",
       "\n",
       "   FwdIATMin  BwdIATTotal  ...  Init_Win_bytes_forward  \\\n",
       "0  -0.127441     1.617777  ...                1.498544   \n",
       "1  -0.127465     1.822928  ...               -0.496743   \n",
       "2  10.609694     2.845422  ...               -0.496811   \n",
       "3  -0.127465    -0.375110  ...               -0.492643   \n",
       "4  -0.127465    -0.375110  ...                1.498544   \n",
       "\n",
       "   Init_Win_bytes_backward  act_data_pkt_fwd  min_seg_size_forward  ActiveStd  \\\n",
       "0                -0.242057         -0.004281              0.002520   0.238611   \n",
       "1                -0.228723         -0.004281              0.002508  -0.110884   \n",
       "2                -0.254729         -0.007555              0.002508  -0.110884   \n",
       "3                -0.254729         -0.005918              0.002508  -0.110884   \n",
       "4                -0.254619         -0.009192              0.002527  -0.110884   \n",
       "\n",
       "   ActiveMax  ActiveMin   IdleStd   IdleMin  Label  \n",
       "0   0.214423  -0.034957 -0.096127  0.026477      0  \n",
       "1  -0.146453  -0.084233 -0.118113  2.314452      1  \n",
       "2  -0.139222  -0.071230 -0.118113  3.571113      0  \n",
       "3  -0.161012  -0.110413 -0.118113 -0.370414      0  \n",
       "4  -0.161012  -0.110413 -0.118113 -0.370414      1  \n",
       "\n",
       "[5 rows x 41 columns]"
      ]
     },
     "execution_count": 22,
     "metadata": {},
     "output_type": "execute_result"
    }
   ],
   "source": [
    "X.head()"
   ]
  },
  {
   "cell_type": "code",
   "execution_count": 24,
   "metadata": {
    "id": "IsBHoF0z7MzD"
   },
   "outputs": [],
   "source": [
    "X_train = X[: int(X.shape[0]*0.8)]\n",
    "X_test = X[int(X.shape[0]*0.8):]"
   ]
  },
  {
   "cell_type": "code",
   "execution_count": 25,
   "metadata": {
    "colab": {
     "base_uri": "https://localhost:8080/"
    },
    "id": "6u1Kjgof7mnm",
    "outputId": "1bb3b05c-9040-44f8-c53b-8abb07fb938e"
   },
   "outputs": [
    {
     "data": {
      "text/plain": [
       "((970291, 41), (242573, 41))"
      ]
     },
     "execution_count": 25,
     "metadata": {},
     "output_type": "execute_result"
    }
   ],
   "source": [
    "X_train.shape, X_test.shape"
   ]
  },
  {
   "cell_type": "code",
   "execution_count": 26,
   "metadata": {
    "colab": {
     "base_uri": "https://localhost:8080/"
    },
    "id": "s9h3K_K7RXSS",
    "outputId": "ff38356b-5344-4847-e92c-0e7ea1ae58c3"
   },
   "outputs": [
    {
     "data": {
      "text/plain": [
       "(pandas.core.frame.DataFrame, pandas.core.frame.DataFrame)"
      ]
     },
     "execution_count": 26,
     "metadata": {},
     "output_type": "execute_result"
    }
   ],
   "source": [
    "type(X_train), type(X_test)"
   ]
  },
  {
   "cell_type": "code",
   "execution_count": 27,
   "metadata": {
    "id": "lg_pDK5h9ief"
   },
   "outputs": [],
   "source": [
    "# Train and test dataset creation\n",
    "y_train = X_train[\"Label\"]\n",
    "# Drop 'label' column\n",
    "X_train = X_train.drop(labels = [\"Label\"],axis = 1)\n",
    "\n",
    "y_test = X_test[\"Label\"]\n",
    "X_test = X_test.drop(labels=[\"Label\"], axis = 1)\n",
    "\n"
   ]
  },
  {
   "cell_type": "code",
   "execution_count": 28,
   "metadata": {
    "colab": {
     "base_uri": "https://localhost:8080/"
    },
    "id": "nNgOUOnxRd8T",
    "outputId": "d38e7da1-7251-4837-c2ee-29f6e6db35b0"
   },
   "outputs": [
    {
     "data": {
      "text/plain": [
       "(pandas.core.frame.DataFrame,\n",
       " pandas.core.frame.DataFrame,\n",
       " pandas.core.series.Series,\n",
       " pandas.core.series.Series)"
      ]
     },
     "execution_count": 28,
     "metadata": {},
     "output_type": "execute_result"
    }
   ],
   "source": [
    "type(X_train), type(X_test), type(y_train), type(y_test)"
   ]
  },
  {
   "cell_type": "code",
   "execution_count": 29,
   "metadata": {
    "colab": {
     "base_uri": "https://localhost:8080/"
    },
    "id": "KiuxyQPwPw4j",
    "outputId": "44143fc6-a855-4e1c-b2a1-f70ea3d1641c"
   },
   "outputs": [
    {
     "data": {
      "text/plain": [
       "((970291,), (242573,))"
      ]
     },
     "execution_count": 29,
     "metadata": {},
     "output_type": "execute_result"
    }
   ],
   "source": [
    "y_train.shape, y_test.shape"
   ]
  },
  {
   "cell_type": "code",
   "execution_count": 30,
   "metadata": {
    "colab": {
     "base_uri": "https://localhost:8080/"
    },
    "id": "8RfRhCX2Rmj0",
    "outputId": "0e4ba2e3-817e-42ec-8ffb-8937db00ead9"
   },
   "outputs": [
    {
     "data": {
      "text/plain": [
       "0         0\n",
       "1         1\n",
       "2         0\n",
       "3         0\n",
       "4         1\n",
       "         ..\n",
       "970286    0\n",
       "970287    0\n",
       "970288    0\n",
       "970289    0\n",
       "970290    0\n",
       "Name: Label, Length: 970291, dtype: int64"
      ]
     },
     "execution_count": 30,
     "metadata": {},
     "output_type": "execute_result"
    }
   ],
   "source": [
    "y_train"
   ]
  },
  {
   "cell_type": "markdown",
   "metadata": {
    "id": "R3kyd1aJPpJw"
   },
   "source": [
    "# to categorical data"
   ]
  },
  {
   "cell_type": "code",
   "execution_count": 31,
   "metadata": {
    "id": "yRtB1umCC4ka"
   },
   "outputs": [],
   "source": [
    "y_train = to_categorical(y_train)\n",
    "y_test = to_categorical(y_test)"
   ]
  },
  {
   "cell_type": "code",
   "execution_count": 32,
   "metadata": {
    "colab": {
     "base_uri": "https://localhost:8080/"
    },
    "id": "8SyfHIUaP8yl",
    "outputId": "cbd19024-06ed-4252-da5f-59845aa19d27"
   },
   "outputs": [
    {
     "data": {
      "text/plain": [
       "((970291, 2), (242573, 2))"
      ]
     },
     "execution_count": 32,
     "metadata": {},
     "output_type": "execute_result"
    }
   ],
   "source": [
    "y_train.shape, y_test.shape"
   ]
  },
  {
   "cell_type": "code",
   "execution_count": 33,
   "metadata": {
    "colab": {
     "base_uri": "https://localhost:8080/"
    },
    "id": "jt8Ra8g5Q8Ks",
    "outputId": "1e1b6fed-0cb5-4a41-c13a-d7ef59d4521d"
   },
   "outputs": [
    {
     "data": {
      "text/plain": [
       "(numpy.ndarray, numpy.ndarray)"
      ]
     },
     "execution_count": 33,
     "metadata": {},
     "output_type": "execute_result"
    }
   ],
   "source": [
    "type(y_train), type(y_test)"
   ]
  },
  {
   "cell_type": "code",
   "execution_count": 34,
   "metadata": {
    "id": "haCU5wT4RwpU"
   },
   "outputs": [],
   "source": [
    "# changing dataframe into numpy array\n",
    "X_train = X_train.to_numpy()\n",
    "X_test = X_test.to_numpy()"
   ]
  },
  {
   "cell_type": "code",
   "execution_count": 35,
   "metadata": {
    "colab": {
     "base_uri": "https://localhost:8080/"
    },
    "id": "nKznT-cOR389",
    "outputId": "7ffc9c35-cec2-4880-b7a3-df994f2588fc"
   },
   "outputs": [
    {
     "data": {
      "text/plain": [
       "((970291, 40), (242573, 40))"
      ]
     },
     "execution_count": 35,
     "metadata": {},
     "output_type": "execute_result"
    }
   ],
   "source": [
    "X_train.shape, X_test.shape"
   ]
  },
  {
   "cell_type": "code",
   "execution_count": 36,
   "metadata": {
    "colab": {
     "base_uri": "https://localhost:8080/"
    },
    "id": "vkQKImcgRBP9",
    "outputId": "f5093c80-16dc-449e-9320-769448a157ec"
   },
   "outputs": [
    {
     "data": {
      "text/plain": [
       "(numpy.ndarray, numpy.ndarray, numpy.ndarray, numpy.ndarray)"
      ]
     },
     "execution_count": 36,
     "metadata": {},
     "output_type": "execute_result"
    }
   ],
   "source": [
    "type(X_train), type(y_train), type(y_train), type(y_test)"
   ]
  },
  {
   "cell_type": "markdown",
   "metadata": {
    "id": "zu08uyvwCaN6"
   },
   "source": [
    "# Re shaping train and test dataset for CNN"
   ]
  },
  {
   "cell_type": "code",
   "execution_count": 46,
   "metadata": {
    "colab": {
     "base_uri": "https://localhost:8080/"
    },
    "id": "MymfIHsjCgKC",
    "outputId": "bc9efda2-7f8a-48aa-9db3-5903c4640c7f"
   },
   "outputs": [
    {
     "data": {
      "text/plain": [
       "((970291, 40), (970291, 2), (242573, 40), (242573, 2))"
      ]
     },
     "execution_count": 46,
     "metadata": {},
     "output_type": "execute_result"
    }
   ],
   "source": [
    "X_train.shape, y_train.shape, X_test.shape, y_test.shape"
   ]
  },
  {
   "cell_type": "code",
   "execution_count": 47,
   "metadata": {
    "colab": {
     "base_uri": "https://localhost:8080/"
    },
    "id": "oHsBEypDDIg-",
    "outputId": "927c4c08-efb3-47be-f104-4536dc4920db"
   },
   "outputs": [
    {
     "data": {
      "text/plain": [
       "((970291, 40, 1), (242573, 40, 1))"
      ]
     },
     "execution_count": 47,
     "metadata": {},
     "output_type": "execute_result"
    }
   ],
   "source": [
    "X_train = X_train.reshape(X_train.shape[0], X_train.shape[1],1)\n",
    "X_test = X_test.reshape(X_test.shape[0], X_test.shape[1],1)\n",
    "\n",
    "X_train.shape, X_test.shape"
   ]
  },
  {
   "cell_type": "code",
   "execution_count": 48,
   "metadata": {
    "colab": {
     "base_uri": "https://localhost:8080/"
    },
    "id": "C2JLFp4lDX8a",
    "outputId": "e5fb791d-3d54-43f0-b1f7-0befb4ad48ab"
   },
   "outputs": [
    {
     "data": {
      "text/plain": [
       "970291"
      ]
     },
     "execution_count": 48,
     "metadata": {},
     "output_type": "execute_result"
    }
   ],
   "source": [
    "len(X_train)"
   ]
  },
  {
   "cell_type": "markdown",
   "metadata": {
    "id": "EqwuLJvTEQc8"
   },
   "source": [
    "# Building a first simple CNN Model"
   ]
  },
  {
   "cell_type": "code",
   "execution_count": 49,
   "metadata": {
    "colab": {
     "base_uri": "https://localhost:8080/"
    },
    "id": "2D8GuHA5ETdc",
    "outputId": "3da09f9f-79a9-4615-9eb5-e4988347cbac"
   },
   "outputs": [
    {
     "name": "stdout",
     "output_type": "stream",
     "text": [
      "Model: \"sequential\"\n",
      "_________________________________________________________________\n",
      " Layer (type)                Output Shape              Param #   \n",
      "=================================================================\n",
      " conv1d (Conv1D)             (None, 38, 32)            128       \n",
      "                                                                 \n",
      " max_pooling1d (MaxPooling1D  (None, 19, 32)           0         \n",
      " )                                                               \n",
      "                                                                 \n",
      " dropout (Dropout)           (None, 19, 32)            0         \n",
      "                                                                 \n",
      " conv1d_1 (Conv1D)           (None, 17, 64)            6208      \n",
      "                                                                 \n",
      " max_pooling1d_1 (MaxPooling  (None, 8, 64)            0         \n",
      " 1D)                                                             \n",
      "                                                                 \n",
      " conv1d_2 (Conv1D)           (None, 6, 128)            24704     \n",
      "                                                                 \n",
      " max_pooling1d_2 (MaxPooling  (None, 3, 128)           0         \n",
      " 1D)                                                             \n",
      "                                                                 \n",
      " dropout_1 (Dropout)         (None, 3, 128)            0         \n",
      "                                                                 \n",
      " lstm (LSTM)                 (None, 128)               131584    \n",
      "                                                                 \n",
      " dense (Dense)               (None, 2)                 258       \n",
      "                                                                 \n",
      "=================================================================\n",
      "Total params: 162,882\n",
      "Trainable params: 162,882\n",
      "Non-trainable params: 0\n",
      "_________________________________________________________________\n"
     ]
    }
   ],
   "source": [
    "def model4():\n",
    "  model = Sequential()\n",
    "  model.add(Conv1D(filters=32, kernel_size = 3, activation='relu', input_shape=(40, 1)))\n",
    "  model.add(MaxPooling1D(pool_size=(2)))\n",
    "  model.add(Dropout(0.25))\n",
    "\n",
    "  model.add(Conv1D(filters=64, kernel_size = 3, activation='relu', input_shape=(40, 1)))\n",
    "  model.add(MaxPooling1D(pool_size=(2)))\n",
    "\n",
    "  model.add(Conv1D(filters=128, kernel_size = 3, activation='relu', input_shape=(40, 1)))\n",
    "  model.add(MaxPooling1D(pool_size=(2)))\n",
    "  model.add(Dropout(0.25))\n",
    "\n",
    "\n",
    "  model.add(LSTM(128))\n",
    "  \n",
    "  model.add(Dense(2, activation='softmax'))\n",
    "\n",
    "  model.compile(loss='categorical_crossentropy',\n",
    "                optimizer='adam',\n",
    "                metrics=['accuracy'])\n",
    "\n",
    "  return model\n",
    "\n",
    "\n",
    "model = model4()\n",
    "model.summary()"
   ]
  },
  {
   "cell_type": "code",
   "execution_count": 53,
   "metadata": {
    "id": "DU0x3EDrVarO"
   },
   "outputs": [],
   "source": [
    "# model parameters\n",
    "epochs = 50\n",
    "batch_size = 128"
   ]
  },
  {
   "cell_type": "markdown",
   "metadata": {
    "id": "8YkZ4jjBJT8A"
   },
   "source": [
    "# Training the model\n"
   ]
  },
  {
   "cell_type": "code",
   "execution_count": 54,
   "metadata": {
    "colab": {
     "base_uri": "https://localhost:8080/"
    },
    "id": "bJkN2jEHJWbh",
    "outputId": "ffd61308-13ba-4dab-8d90-684a21d7a9d3"
   },
   "outputs": [
    {
     "name": "stdout",
     "output_type": "stream",
     "text": [
      "Epoch 1/50\n"
     ]
    },
    {
     "name": "stderr",
     "output_type": "stream",
     "text": [
      "2023-07-10 04:23:36.787824: W tensorflow/stream_executor/gpu/asm_compiler.cc:80] Couldn't get ptxas version string: INTERNAL: Couldn't invoke ptxas --version\n",
      "2023-07-10 04:23:36.789571: W tensorflow/stream_executor/gpu/redzone_allocator.cc:314] INTERNAL: Failed to launch ptxas\n",
      "Relying on driver to perform ptx compilation. \n",
      "Modify $PATH to customize ptxas location.\n",
      "This message will be only logged once.\n"
     ]
    },
    {
     "name": "stdout",
     "output_type": "stream",
     "text": [
      "6065/6065 [==============================] - 82s 13ms/step - loss: 0.0650 - accuracy: 0.9739 - val_loss: 0.0407 - val_accuracy: 0.9839\n",
      "Epoch 2/50\n",
      "6065/6065 [==============================] - 78s 13ms/step - loss: 0.0421 - accuracy: 0.9826 - val_loss: 0.0370 - val_accuracy: 0.9848\n",
      "Epoch 3/50\n",
      "6065/6065 [==============================] - 78s 13ms/step - loss: 0.0382 - accuracy: 0.9839 - val_loss: 0.0351 - val_accuracy: 0.9853\n",
      "Epoch 4/50\n",
      "6065/6065 [==============================] - 79s 13ms/step - loss: 0.0360 - accuracy: 0.9846 - val_loss: 0.0328 - val_accuracy: 0.9852\n",
      "Epoch 5/50\n",
      "6065/6065 [==============================] - 79s 13ms/step - loss: 0.0345 - accuracy: 0.9849 - val_loss: 0.0297 - val_accuracy: 0.9863\n",
      "Epoch 6/50\n",
      "6065/6065 [==============================] - 79s 13ms/step - loss: 0.0335 - accuracy: 0.9855 - val_loss: 0.0305 - val_accuracy: 0.9861\n",
      "Epoch 7/50\n",
      "6065/6065 [==============================] - 80s 13ms/step - loss: 0.0323 - accuracy: 0.9862 - val_loss: 0.0308 - val_accuracy: 0.9872\n",
      "Epoch 8/50\n",
      "6065/6065 [==============================] - 79s 13ms/step - loss: 0.0315 - accuracy: 0.9865 - val_loss: 0.0296 - val_accuracy: 0.9865\n",
      "Epoch 9/50\n",
      "2344/6065 [==========>...................] - ETA: 43s - loss: 0.0309 - accuracy: 0.9869"
     ]
    },
    {
     "name": "stderr",
     "output_type": "stream",
     "text": [
      "IOPub message rate exceeded.\n",
      "The notebook server will temporarily stop sending output\n",
      "to the client in order to avoid crashing it.\n",
      "To change this limit, set the config variable\n",
      "`--NotebookApp.iopub_msg_rate_limit`.\n",
      "\n",
      "Current values:\n",
      "NotebookApp.iopub_msg_rate_limit=1000.0 (msgs/sec)\n",
      "NotebookApp.rate_limit_window=3.0 (secs)\n",
      "\n"
     ]
    },
    {
     "name": "stdout",
     "output_type": "stream",
     "text": [
      "6065/6065 [==============================] - 79s 13ms/step - loss: 0.0302 - accuracy: 0.9870 - val_loss: 0.0289 - val_accuracy: 0.9863\n",
      "Epoch 16/50\n",
      "6065/6065 [==============================] - 79s 13ms/step - loss: 0.0301 - accuracy: 0.9871 - val_loss: 0.0282 - val_accuracy: 0.9872\n",
      "Epoch 17/50\n",
      "6065/6065 [==============================] - 79s 13ms/step - loss: 0.0301 - accuracy: 0.9871 - val_loss: 0.0280 - val_accuracy: 0.9885\n",
      "Epoch 18/50\n",
      "6065/6065 [==============================] - 78s 13ms/step - loss: 0.0298 - accuracy: 0.9872 - val_loss: 0.0261 - val_accuracy: 0.9887\n",
      "Epoch 19/50\n",
      "6065/6065 [==============================] - 79s 13ms/step - loss: 0.0291 - accuracy: 0.9876 - val_loss: 0.0272 - val_accuracy: 0.9887\n",
      "Epoch 20/50\n",
      "1692/6065 [=======>......................] - ETA: 51s - loss: 0.0290 - accuracy: 0.9878"
     ]
    },
    {
     "name": "stderr",
     "output_type": "stream",
     "text": [
      "IOPub message rate exceeded.\n",
      "The notebook server will temporarily stop sending output\n",
      "to the client in order to avoid crashing it.\n",
      "To change this limit, set the config variable\n",
      "`--NotebookApp.iopub_msg_rate_limit`.\n",
      "\n",
      "Current values:\n",
      "NotebookApp.iopub_msg_rate_limit=1000.0 (msgs/sec)\n",
      "NotebookApp.rate_limit_window=3.0 (secs)\n",
      "\n"
     ]
    },
    {
     "name": "stdout",
     "output_type": "stream",
     "text": [
      "6065/6065 [==============================] - 79s 13ms/step - loss: 0.0278 - accuracy: 0.9883 - val_loss: 0.0251 - val_accuracy: 0.9897\n",
      "Epoch 27/50\n",
      "6065/6065 [==============================] - 79s 13ms/step - loss: 0.0273 - accuracy: 0.9886 - val_loss: 0.0232 - val_accuracy: 0.9906\n",
      "Epoch 28/50\n",
      "6065/6065 [==============================] - 79s 13ms/step - loss: 0.0277 - accuracy: 0.9885 - val_loss: 0.0235 - val_accuracy: 0.9906\n",
      "Epoch 29/50\n",
      "6065/6065 [==============================] - 79s 13ms/step - loss: 0.0279 - accuracy: 0.9882 - val_loss: 0.0247 - val_accuracy: 0.9892\n",
      "Epoch 30/50\n",
      "6065/6065 [==============================] - 80s 13ms/step - loss: 0.0279 - accuracy: 0.9883 - val_loss: 0.0245 - val_accuracy: 0.9898\n",
      "Epoch 31/50\n",
      "6065/6065 [==============================] - 79s 13ms/step - loss: 0.0273 - accuracy: 0.9887 - val_loss: 0.0249 - val_accuracy: 0.9893\n",
      "Epoch 32/50\n",
      "6065/6065 [==============================] - 79s 13ms/step - loss: 0.0271 - accuracy: 0.9887 - val_loss: 0.0237 - val_accuracy: 0.9898\n",
      "Epoch 33/50\n",
      "6065/6065 [==============================] - 79s 13ms/step - loss: 0.0270 - accuracy: 0.9887 - val_loss: 0.0236 - val_accuracy: 0.9896\n",
      "Epoch 34/50\n",
      "6065/6065 [==============================] - 80s 13ms/step - loss: 0.0271 - accuracy: 0.9886 - val_loss: 0.0235 - val_accuracy: 0.9904\n",
      "Epoch 35/50\n",
      "6065/6065 [==============================] - 73s 12ms/step - loss: 0.0268 - accuracy: 0.9889 - val_loss: 0.0236 - val_accuracy: 0.9908\n",
      "Epoch 36/50\n",
      "6065/6065 [==============================] - 73s 12ms/step - loss: 0.0267 - accuracy: 0.9888 - val_loss: 0.0230 - val_accuracy: 0.9909\n",
      "Epoch 37/50\n",
      "6065/6065 [==============================] - 73s 12ms/step - loss: 0.0268 - accuracy: 0.9888 - val_loss: 0.0234 - val_accuracy: 0.9904\n",
      "Epoch 38/50\n",
      "6065/6065 [==============================] - 72s 12ms/step - loss: 0.0271 - accuracy: 0.9887 - val_loss: 0.0233 - val_accuracy: 0.9905\n",
      "Epoch 39/50\n",
      "6065/6065 [==============================] - 73s 12ms/step - loss: 0.0267 - accuracy: 0.9888 - val_loss: 0.0229 - val_accuracy: 0.9907\n",
      "Epoch 40/50\n",
      "6065/6065 [==============================] - 73s 12ms/step - loss: 0.0261 - accuracy: 0.9891 - val_loss: 0.0224 - val_accuracy: 0.9907\n",
      "Epoch 41/50\n",
      "6065/6065 [==============================] - 74s 12ms/step - loss: 0.0263 - accuracy: 0.9891 - val_loss: 0.0223 - val_accuracy: 0.9910\n",
      "Epoch 42/50\n",
      "6065/6065 [==============================] - 73s 12ms/step - loss: 0.0264 - accuracy: 0.9889 - val_loss: 0.0233 - val_accuracy: 0.9904\n",
      "Epoch 43/50\n",
      "6065/6065 [==============================] - 73s 12ms/step - loss: 0.0267 - accuracy: 0.9890 - val_loss: 0.0240 - val_accuracy: 0.9901\n",
      "Epoch 44/50\n",
      "6065/6065 [==============================] - 73s 12ms/step - loss: 0.0265 - accuracy: 0.9888 - val_loss: 0.0231 - val_accuracy: 0.9903\n",
      "Epoch 45/50\n",
      "1167/6065 [====>.........................] - ETA: 52s - loss: 0.0264 - accuracy: 0.9890"
     ]
    },
    {
     "name": "stderr",
     "output_type": "stream",
     "text": [
      "IOPub message rate exceeded.\n",
      "The notebook server will temporarily stop sending output\n",
      "to the client in order to avoid crashing it.\n",
      "To change this limit, set the config variable\n",
      "`--NotebookApp.iopub_msg_rate_limit`.\n",
      "\n",
      "Current values:\n",
      "NotebookApp.iopub_msg_rate_limit=1000.0 (msgs/sec)\n",
      "NotebookApp.rate_limit_window=3.0 (secs)\n",
      "\n"
     ]
    }
   ],
   "source": [
    "checkpoint_filepath = 'logCNNLSTM/checkpoint-{epoch:02d}-{val_loss:.3f}.hdf5'\n",
    "my_callbacks = [\n",
    "#     tf.keras.callbacks.EarlyStopping(patience=6),\n",
    "    tf.keras.callbacks.ModelCheckpoint(checkpoint_filepath),\n",
    "    tf.keras.callbacks.CSVLogger('logger/cnnLSTM1.csv',separator=',', append=False)\n",
    "#     tf.keras.callbacks.TensorBoard(log_dir='./logs'),\n",
    "]\n",
    "history1 = model.fit(X_train,\n",
    "                     y_train,\n",
    "                     epochs = epochs,\n",
    "                     batch_size = batch_size,\n",
    "                     validation_split = 0.2,\n",
    "                    #  validation_data = (X_val, y_val),\n",
    "                     callbacks=[my_callbacks]\n",
    "                     )\n",
    "model.save('cnnLSTM1.h5')\n",
    "\n"
   ]
  },
  {
   "cell_type": "code",
   "execution_count": 72,
   "metadata": {
    "colab": {
     "base_uri": "https://localhost:8080/"
    },
    "id": "6Rrygt9lVpUj",
    "outputId": "3e99299c-3eb7-4974-bd64-c891c928d787"
   },
   "outputs": [
    {
     "data": {
      "text/plain": [
       "dict_keys(['loss', 'accuracy', 'val_loss', 'val_accuracy'])"
      ]
     },
     "execution_count": 72,
     "metadata": {},
     "output_type": "execute_result"
    }
   ],
   "source": [
    " #check history of model\n",
    "history = history1.history\n",
    "history.keys()"
   ]
  },
  {
   "cell_type": "code",
   "execution_count": 73,
   "metadata": {
    "colab": {
     "base_uri": "https://localhost:8080/",
     "height": 545
    },
    "id": "YexqJeWdJwuu",
    "outputId": "54b0fa92-4dea-4150-f409-c6fbff0b4de6"
   },
   "outputs": [
    {
     "data": {
      "image/png": "[encoded data removed]",
      "text/plain": [
       "<Figure size 1000x600 with 2 Axes>"
      ]
     },
     "metadata": {},
     "output_type": "display_data"
    }
   ],
   "source": [
    "epochs = history1.history['loss']\n",
    "acc = history1.history['accuracy']\n",
    "val_acc = history1.history['val_accuracy']\n",
    "\n",
    "loss = history1.history['loss']\n",
    "val_loss = history1.history['val_loss']\n",
    "\n",
    "epochs_range = range(epochs)\n",
    "\n",
    "plt.figure(figsize=(10, 6), dpi=100)\n",
    "plt.subplot(2, 1, 1)\n",
    "plt.plot(epochs_range, acc, label='Training Accuracy')\n",
    "plt.plot(epochs_range, val_acc, label='Validation Accuracy')\n",
    "plt.legend(loc='lower right')\n",
    "plt.title('Training and Validation Accuracy')\n",
    "\n",
    "plt.subplot(2, 1, 2)\n",
    "plt.plot(epochs_range, loss, label='Training Loss')\n",
    "plt.plot(epochs_range, val_loss, label='Validation Loss')\n",
    "plt.legend(loc='upper right')\n",
    "plt.title('Training and Validation Loss')\n",
    "plt.savefig(\"graph_CNNLSTM1.png\")\n",
    "plt.show()"
   ]
  },
  {
   "cell_type": "code",
   "execution_count": null,
   "metadata": {
    "id": "upuK43PySMGZ"
   },
   "outputs": [],
   "source": []
  },
  {
   "cell_type": "markdown",
   "metadata": {
    "id": "joCvhEHiTCGe"
   },
   "source": [
    "# Prediction"
   ]
  },
  {
   "cell_type": "code",
   "execution_count": 74,
   "metadata": {
    "colab": {
     "base_uri": "https://localhost:8080/"
    },
    "id": "71EoIg6GTECl",
    "outputId": "086c42a5-56f6-4491-ce61-d2ce847e2329"
   },
   "outputs": [
    {
     "name": "stdout",
     "output_type": "stream",
     "text": [
      "7581/7581 [==============================] - 50s 7ms/step - loss: 0.0227 - accuracy: 0.9904\n",
      "accuracy: 99.04%\n"
     ]
    }
   ],
   "source": [
    "#  check the model performance on test data\n",
    "scores = model.evaluate(X_test, y_test)\n",
    "print(\"%s: %.2f%%\" % (model.metrics_names[1], scores[1] * 100))"
   ]
  },
  {
   "cell_type": "code",
   "execution_count": 75,
   "metadata": {
    "colab": {
     "base_uri": "https://localhost:8080/"
    },
    "id": "o0rXHOeRTH3L",
    "outputId": "3793ffc6-9257-4b71-cc4f-4e5cdc7c6dc4"
   },
   "outputs": [
    {
     "name": "stdout",
     "output_type": "stream",
     "text": [
      "Test loss: 0.02268317900598049\n",
      "Test accuracy: 0.9904400110244751\n"
     ]
    }
   ],
   "source": [
    "print('Test loss:', scores[0])\n",
    "print('Test accuracy:', scores[1])"
   ]
  },
  {
   "cell_type": "code",
   "execution_count": 76,
   "metadata": {
    "colab": {
     "base_uri": "https://localhost:8080/"
    },
    "id": "hGL1kWViTVAj",
    "outputId": "de05c02e-cd4a-42d2-a1bf-46010626fd73"
   },
   "outputs": [
    {
     "name": "stdout",
     "output_type": "stream",
     "text": [
      "7581/7581 [==============================] - 42s 5ms/step\n"
     ]
    }
   ],
   "source": [
    "# predict\n",
    "predictions = model.predict(X_test)\n"
   ]
  },
  {
   "cell_type": "code",
   "execution_count": 77,
   "metadata": {
    "colab": {
     "base_uri": "https://localhost:8080/"
    },
    "id": "sGFwlE0qY0d2",
    "outputId": "6c387f2e-f0b8-48a4-97bc-67effcc57c88"
   },
   "outputs": [
    {
     "data": {
      "text/plain": [
       "(242573, 2)"
      ]
     },
     "execution_count": 77,
     "metadata": {},
     "output_type": "execute_result"
    }
   ],
   "source": [
    "predictions.shape"
   ]
  },
  {
   "cell_type": "code",
   "execution_count": 78,
   "metadata": {
    "colab": {
     "base_uri": "https://localhost:8080/"
    },
    "id": "PqyvNSyyT_9I",
    "outputId": "7aa22c20-88e8-4f96-8501-9288d8d0f2f7"
   },
   "outputs": [
    {
     "name": "stdout",
     "output_type": "stream",
     "text": [
      "Predicted Class: [0 0 1 0 0 0 0 0 0 0 0 0 0 0 0 0 1 1 0 0]\n",
      "Actual label: [0 0 1 0 0 0 0 0 0 0 0 0 0 0 0 0 1 1 0 0]\n"
     ]
    }
   ],
   "source": [
    "pred = np.argmax(predictions, axis = 1)[:20]\n",
    "label = np.argmax(y_test,axis = 1)[:20]\n",
    "print(\"Predicted Class: {}\".format(pred))\n",
    "print(\"Actual label: {}\".format(label))"
   ]
  },
  {
   "cell_type": "code",
   "execution_count": null,
   "metadata": {
    "id": "krbgxPhBYiI9"
   },
   "outputs": [],
   "source": []
  },
  {
   "cell_type": "markdown",
   "metadata": {
    "id": "hM7wWuPVZZY1"
   },
   "source": [
    "# Confustion Matrix"
   ]
  },
  {
   "cell_type": "code",
   "execution_count": 79,
   "metadata": {
    "colab": {
     "base_uri": "https://localhost:8080/",
     "height": 523
    },
    "id": "wWkwwEsWZbbW",
    "outputId": "b801c414-7411-4ae6-8994-6bf263e5ae80"
   },
   "outputs": [
    {
     "name": "stdout",
     "output_type": "stream",
     "text": [
      "7581/7581 [==============================] - 40s 5ms/step\n"
     ]
    },
    {
     "data": {
      "image/png": "[encoded data removed]",
      "text/plain": [
       "<Figure size 640x480 with 2 Axes>"
      ]
     },
     "metadata": {},
     "output_type": "display_data"
    }
   ],
   "source": [
    "# Function to plot confusion matrix\n",
    "def plot_confusion_matrix(cm, classes,\n",
    "                          normalize=False,\n",
    "                          title='Confusion matrix',\n",
    "                          cmap=plt.cm.Blues):\n",
    "    \"\"\"\n",
    "    This function prints and plots the confusion matrix.\n",
    "    Normalization can be applied by setting `normalize=True`.\n",
    "    \"\"\"\n",
    "    plt.imshow(cm, interpolation='nearest', cmap=cmap)\n",
    "    plt.title(title)\n",
    "    plt.colorbar()\n",
    "    tick_marks = np.arange(len(classes))\n",
    "    plt.xticks(tick_marks, classes, rotation=45)\n",
    "    plt.yticks(tick_marks, classes)\n",
    "\n",
    "    if normalize:\n",
    "        cm = cm.astype('float') / cm.sum(axis=1)[:, np.newaxis]\n",
    "\n",
    "    thresh = cm.max() / 2.\n",
    "    for i, j in itertools.product(range(cm.shape[0]), range(cm.shape[1])):\n",
    "        plt.text(j, i, cm[i, j],\n",
    "                 horizontalalignment=\"center\",\n",
    "                 color=\"white\" if cm[i, j] > thresh else \"black\")\n",
    "\n",
    "    plt.tight_layout()\n",
    "    plt.ylabel('True label')\n",
    "    plt.xlabel('Predicted label')\n",
    "\n",
    "# Predict the values from the validation dataset\n",
    "Y_pred = model.predict(X_test)\n",
    "# Convert predictions classes to one hot vectors\n",
    "Y_pred_classes = np.argmax(Y_pred,axis = 1)\n",
    "# Convert validation observations to one hot vectors\n",
    "Y_true = np.argmax(y_test,axis = 1)\n",
    "# compute the confusion matrix\n",
    "confusion_mtx = confusion_matrix(Y_true, Y_pred_classes)\n",
    "\n",
    "\n",
    "\n",
    "# plot the confusion matrix\n",
    "plot_confusion_matrix(confusion_mtx, classes = range(2))"
   ]
  },
  {
   "cell_type": "code",
   "execution_count": null,
   "metadata": {
    "id": "rJmedIY9ZrAZ"
   },
   "outputs": [],
   "source": []
  },
  {
   "cell_type": "markdown",
   "metadata": {
    "id": "kk-IKK7SaEKv"
   },
   "source": [
    "# Now, lets which category has much incorrect predictions"
   ]
  },
  {
   "cell_type": "code",
   "execution_count": 80,
   "metadata": {
    "colab": {
     "base_uri": "https://localhost:8080/",
     "height": 466
    },
    "id": "Q_vMsrT8aFEU",
    "outputId": "b7b96446-995e-4d3b-d6cd-c564b0660330"
   },
   "outputs": [
    {
     "data": {
      "text/plain": [
       "Text(0, 0.5, 'Fraction classified incorrectly')"
      ]
     },
     "execution_count": 80,
     "metadata": {},
     "output_type": "execute_result"
    },
    {
     "data": {
      "image/png": "[encoded data removed]",
      "text/plain": [
       "<Figure size 640x480 with 1 Axes>"
      ]
     },
     "metadata": {},
     "output_type": "display_data"
    }
   ],
   "source": [
    "label_frac_error = 1 - np.diag(confusion_mtx) / np.sum(confusion_mtx, axis=1)\n",
    "plt.bar(np.arange(2),label_frac_error)\n",
    "plt.xlabel('True Label')\n",
    "plt.ylabel('Fraction classified incorrectly')"
   ]
  },
  {
   "cell_type": "code",
   "execution_count": null,
   "metadata": {
    "id": "67eGecY0aHlS"
   },
   "outputs": [],
   "source": []
  },
  {
   "cell_type": "markdown",
   "metadata": {
    "id": "fGby8wJKa5ul"
   },
   "source": [
    "# Classificaiton report"
   ]
  },
  {
   "cell_type": "code",
   "execution_count": 81,
   "metadata": {
    "colab": {
     "base_uri": "https://localhost:8080/"
    },
    "id": "7OkWAKDua7Yu",
    "outputId": "17ddcc23-cdd4-42c2-b776-31babad2ee76"
   },
   "outputs": [
    {
     "data": {
      "text/plain": [
       "array([[203004,    614],\n",
       "       [  1705,  37250]])"
      ]
     },
     "execution_count": 81,
     "metadata": {},
     "output_type": "execute_result"
    }
   ],
   "source": [
    "confusion_mtx"
   ]
  },
  {
   "cell_type": "code",
   "execution_count": 82,
   "metadata": {
    "colab": {
     "base_uri": "https://localhost:8080/"
    },
    "id": "nzZu2DxvcxhY",
    "outputId": "4afe6904-4640-4556-f93f-cec785074108"
   },
   "outputs": [
    {
     "data": {
      "text/plain": [
       "(2, 2)"
      ]
     },
     "execution_count": 82,
     "metadata": {},
     "output_type": "execute_result"
    }
   ],
   "source": [
    "confusion_mtx.shape"
   ]
  },
  {
   "cell_type": "code",
   "execution_count": 83,
   "metadata": {
    "colab": {
     "base_uri": "https://localhost:8080/"
    },
    "id": "PKakr4LjeGqc",
    "outputId": "d112be4d-441f-43da-c74f-5daf773a61e4"
   },
   "outputs": [
    {
     "name": "stdout",
     "output_type": "stream",
     "text": [
      "7581/7581 [==============================] - 40s 5ms/step\n",
      "Confusion Matrix\n",
      "[[203004    614]\n",
      " [  1705  37250]]\n"
     ]
    }
   ],
   "source": [
    "y_test_arg=np.argmax(y_test,axis=1)\n",
    "Y_pred = np.argmax(model.predict(X_test),axis=1)\n",
    "print('Confusion Matrix')\n",
    "print(confusion_matrix(y_test_arg, Y_pred))"
   ]
  },
  {
   "cell_type": "code",
   "execution_count": 84,
   "metadata": {
    "colab": {
     "base_uri": "https://localhost:8080/"
    },
    "id": "6Nt0-o0gc4X-",
    "outputId": "d78bd4d4-ac8f-482b-e51c-5ef68a7d4ddb"
   },
   "outputs": [
    {
     "data": {
      "text/plain": [
       "(203004, 614, 1705, 37250)"
      ]
     },
     "execution_count": 84,
     "metadata": {},
     "output_type": "execute_result"
    }
   ],
   "source": [
    "TP = confusion_mtx[0][0]\n",
    "FP = confusion_mtx[0][1]\n",
    "FN = confusion_mtx[1][0]\n",
    "TN = confusion_mtx[1][1]\n",
    "\n",
    "TP, FP, FN, TN"
   ]
  },
  {
   "cell_type": "code",
   "execution_count": 85,
   "metadata": {
    "colab": {
     "base_uri": "https://localhost:8080/"
    },
    "id": "wU7_fdKFbVNT",
    "outputId": "a160162e-54ac-4eec-ee8b-7689057ccf4a"
   },
   "outputs": [
    {
     "data": {
      "text/plain": [
       "array([0, 0, 1, 0, 0, 0, 0, 0, 0, 0])"
      ]
     },
     "execution_count": 85,
     "metadata": {},
     "output_type": "execute_result"
    }
   ],
   "source": [
    "np.argmax(y_test[:10],axis=1)"
   ]
  },
  {
   "cell_type": "code",
   "execution_count": 86,
   "metadata": {
    "colab": {
     "base_uri": "https://localhost:8080/"
    },
    "id": "aG1YKLDobdbj",
    "outputId": "ea91a959-d1fd-4206-a1a3-f5ccc9c220b8"
   },
   "outputs": [
    {
     "data": {
      "text/plain": [
       "array([0, 0, 1, 0, 0, 0, 0, 0, 0, 0])"
      ]
     },
     "execution_count": 86,
     "metadata": {},
     "output_type": "execute_result"
    }
   ],
   "source": [
    "Y_pred[:10]"
   ]
  },
  {
   "cell_type": "code",
   "execution_count": 87,
   "metadata": {
    "id": "RNTogDiAfVSa"
   },
   "outputs": [
    {
     "name": "stdout",
     "output_type": "stream",
     "text": [
      "Accuracy:  0.9904399912603629\n",
      "Precision:  0.9969845494995531\n",
      "Recall:  0.9916711038596251\n",
      "F1_Score:  0.9943207282398666\n"
     ]
    }
   ],
   "source": [
    "def performance_evaluation(TP, FP, FN, TN):\n",
    "    Accuracy  = (TP+TN)/(TP+TN+FP+FN)\n",
    "    Precision = TP/(TP + FP)\n",
    "    Recall = TP/(TP+FN)\n",
    "    F1_Score = 2 * (Precision * Recall)/(Precision + Recall)\n",
    "    print(\"Accuracy: \", Accuracy)\n",
    "    print(\"Precision: \", Precision)\n",
    "    print(\"Recall: \", Recall)\n",
    "    print(\"F1_Score: \", F1_Score)\n",
    "\n",
    "performance_evaluation(TP, FP, FN, TN)"
   ]
  },
  {
   "cell_type": "code",
   "execution_count": null,
   "metadata": {},
   "outputs": [],
   "source": []
  }
 ],
 "metadata": {
  "accelerator": "GPU",
  "colab": {
   "gpuType": "T4",
   "provenance": []
  },
  "kernelspec": {
   "display_name": "Python 3 (ipykernel)",
   "language": "python",
   "name": "python3"
  },
  "language_info": {
   "codemirror_mode": {
    "name": "ipython",
    "version": 3
   },
   "file_extension": ".py",
   "mimetype": "text/x-python",
   "name": "python",
   "nbconvert_exporter": "python",
   "pygments_lexer": "ipython3",
   "version": "3.10.6"
  }
 },
 "nbformat": 4,
 "nbformat_minor": 1
}
